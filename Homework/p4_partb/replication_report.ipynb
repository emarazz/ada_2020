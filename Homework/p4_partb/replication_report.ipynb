{
 "cells": [
  {
   "cell_type": "markdown",
   "metadata": {},
   "source": [
    "## PROJECT MILESTONE 4\n",
    "\n",
    "# 1 Import data"
   ]
  },
  {
   "cell_type": "code",
   "execution_count": 1,
   "metadata": {},
   "outputs": [],
   "source": [
    "import pandas as pd\n",
    "import numpy as np\n",
    "import statsmodels.formula.api as smf\n",
    "\n",
    "df_household = pd.read_stata('data/PisoFirme_AEJPol-20070024_household.dta')"
   ]
  },
  {
   "cell_type": "markdown",
   "metadata": {},
   "source": [
    "# 2 Data Filtering\n",
    "In this chapter missing data is filtered so that we can have apropriate form for linear regression."
   ]
  },
  {
   "cell_type": "markdown",
   "metadata": {},
   "source": [
    "## 2.1 Missing Geo-location\n",
    "First of all in the paper it has been written that the sample of 2755 households is obtained by eliminating those samples without geographicallocation from the initial 2783 sample."
   ]
  },
  {
   "cell_type": "code",
   "execution_count": 2,
   "metadata": {},
   "outputs": [
    {
     "name": "stdout",
     "output_type": "stream",
     "text": [
      "(2755, 78)\n"
     ]
    }
   ],
   "source": [
    "df_household=df_household[df_household['idcluster'].notna()]\n",
    "print(df_household.shape)"
   ]
  },
  {
   "cell_type": "markdown",
   "metadata": {},
   "source": [
    "## 2.2 Zero imputing\n",
    "Missing values in covariates were imputed with zero."
   ]
  },
  {
   "cell_type": "code",
   "execution_count": 3,
   "metadata": {},
   "outputs": [],
   "source": [
    "# Filter covariates for missing data\n",
    "list= ['dpisofirme','S_HHpeople','S_headeduc','S_spouseeduc','S_headage','S_spouseage','S_dem1','S_dem2','S_dem3','S_dem4',\n",
    "      'S_dem5','S_dem6','S_dem7','S_dem8','S_hasanimals','S_animalsinside','S_garbage','S_washhands','S_waterland','S_waterhouse','S_electricity',\n",
    "      'S_cashtransfers','S_milkprogram','S_foodprogram','S_seguropopular']\n",
    "\n",
    "# Generate column for each covariates indicating if this value was nan\n",
    "for i,item in enumerate(list):\n",
    "        # Set to zero \"impute to zero\" as written in paper\n",
    "        df_household[item].fillna(0,inplace=True)\n"
   ]
  },
  {
   "cell_type": "markdown",
   "metadata": {},
   "source": [
    "# 3. Linear regression models\n",
    "In this chapter we build three different models used in paper for regressing different dependent variables. Based on data type some covariates are used as categorical variable, for the columns with missing data we add flag columns from previous chapter. "
   ]
  },
  {
   "cell_type": "code",
   "execution_count": 4,
   "metadata": {},
   "outputs": [],
   "source": [
    "# Declares the skeleton of models\n",
    "model1='~ C(dpisofirme)'\n",
    "model2='+S_HHpeople+S_headeduc+S_spouseeduc+S_headage+S_spouseage+\\\n",
    "S_dem1+S_dem2+S_dem3+S_dem4+S_dem5+S_dem6+S_dem7+S_dem8+C(S_hasanimals)+C(S_animalsinside)+C(S_garbage)+\\\n",
    "S_washhands+C(S_waterland)+C(S_waterhouse)+C(S_electricity)'\n",
    "\n",
    "model3='+S_cashtransfers+C(S_milkprogram)+C(S_foodprogram)+C(S_seguropopular)'\n",
    "\n",
    "models=[model1,model1+model2,model1+model2+model3]"
   ]
  },
  {
   "cell_type": "markdown",
   "metadata": {},
   "source": [
    "# 4. Table 4 reproduction\n",
    "In this chapter reuslts from table 4 are reproduced using the three different models."
   ]
  },
  {
   "cell_type": "code",
   "execution_count": 5,
   "metadata": {},
   "outputs": [
    {
     "data": {
      "text/html": [
       "<div>\n",
       "<style scoped>\n",
       "    .dataframe tbody tr th:only-of-type {\n",
       "        vertical-align: middle;\n",
       "    }\n",
       "\n",
       "    .dataframe tbody tr th {\n",
       "        vertical-align: top;\n",
       "    }\n",
       "\n",
       "    .dataframe thead th {\n",
       "        text-align: right;\n",
       "    }\n",
       "</style>\n",
       "<table border=\"1\" class=\"dataframe\">\n",
       "  <thead>\n",
       "    <tr style=\"text-align: right;\">\n",
       "      <th></th>\n",
       "      <th>Dependent variable</th>\n",
       "      <th>Control Group</th>\n",
       "      <th>Model 1</th>\n",
       "      <th>Model 2</th>\n",
       "      <th>Model 3</th>\n",
       "    </tr>\n",
       "  </thead>\n",
       "  <tbody>\n",
       "    <tr>\n",
       "      <th>0</th>\n",
       "      <td>S_shcementfloor</td>\n",
       "      <td>[0.7278, 0.3629]</td>\n",
       "      <td>[0.20194, 0.02057, 0.27746]</td>\n",
       "      <td>[0.20728, 0.01943, 0.2848]</td>\n",
       "      <td>[0.20964, 0.01916, 0.28805]</td>\n",
       "    </tr>\n",
       "    <tr>\n",
       "      <th>1</th>\n",
       "      <td>S_cementfloorkit</td>\n",
       "      <td>[0.67121, 0.46994]</td>\n",
       "      <td>[0.25463, 0.0246, 0.37936]</td>\n",
       "      <td>[0.25941, 0.02261, 0.38648]</td>\n",
       "      <td>[0.26399, 0.02293, 0.3933]</td>\n",
       "    </tr>\n",
       "    <tr>\n",
       "      <th>2</th>\n",
       "      <td>S_cementfloordin</td>\n",
       "      <td>[0.70854, 0.4546]</td>\n",
       "      <td>[0.20996, 0.02553, 0.29633]</td>\n",
       "      <td>[0.21659, 0.02487, 0.30569]</td>\n",
       "      <td>[0.22057, 0.02484, 0.31131]</td>\n",
       "    </tr>\n",
       "    <tr>\n",
       "      <th>3</th>\n",
       "      <td>S_cementfloorbat</td>\n",
       "      <td>[0.80258, 0.39819]</td>\n",
       "      <td>[0.1049, 0.02175, 0.13071]</td>\n",
       "      <td>[0.11253, 0.01807, 0.14022]</td>\n",
       "      <td>[0.11625, 0.0178, 0.14485]</td>\n",
       "    </tr>\n",
       "    <tr>\n",
       "      <th>4</th>\n",
       "      <td>S_cementfloorbed</td>\n",
       "      <td>[0.66762, 0.47123]</td>\n",
       "      <td>[0.23766, 0.02006, 0.35598]</td>\n",
       "      <td>[0.2451, 0.02046, 0.36712]</td>\n",
       "      <td>[0.24454, 0.01983, 0.36629]</td>\n",
       "    </tr>\n",
       "  </tbody>\n",
       "</table>\n",
       "</div>"
      ],
      "text/plain": [
       "  Dependent variable       Control Group                      Model 1  \\\n",
       "0    S_shcementfloor    [0.7278, 0.3629]  [0.20194, 0.02057, 0.27746]   \n",
       "1   S_cementfloorkit  [0.67121, 0.46994]   [0.25463, 0.0246, 0.37936]   \n",
       "2   S_cementfloordin   [0.70854, 0.4546]  [0.20996, 0.02553, 0.29633]   \n",
       "3   S_cementfloorbat  [0.80258, 0.39819]   [0.1049, 0.02175, 0.13071]   \n",
       "4   S_cementfloorbed  [0.66762, 0.47123]  [0.23766, 0.02006, 0.35598]   \n",
       "\n",
       "                       Model 2                      Model 3  \n",
       "0   [0.20728, 0.01943, 0.2848]  [0.20964, 0.01916, 0.28805]  \n",
       "1  [0.25941, 0.02261, 0.38648]   [0.26399, 0.02293, 0.3933]  \n",
       "2  [0.21659, 0.02487, 0.30569]  [0.22057, 0.02484, 0.31131]  \n",
       "3  [0.11253, 0.01807, 0.14022]   [0.11625, 0.0178, 0.14485]  \n",
       "4   [0.2451, 0.02046, 0.36712]  [0.24454, 0.01983, 0.36629]  "
      ]
     },
     "execution_count": 5,
     "metadata": {},
     "output_type": "execute_result"
    }
   ],
   "source": [
    "list_response_variables=['S_shcementfloor','S_cementfloorkit','S_cementfloordin','S_cementfloorbat','S_cementfloorbed']\n",
    "ex=pd.DataFrame({'Dependent variable':[], 'Control Group':[],'Model 1':[],'Model 2':[],'Model 3':[]})\n",
    "\n",
    "# Filter for control group\n",
    "coeff=[None,None,None]\n",
    "bs=[None,None,None]\n",
    "ratio=[None,None,None]\n",
    "#round digits\n",
    "N=5\n",
    "significance_levels=[];\n",
    "for response in list_response_variables:\n",
    "    \n",
    "    # Filter only those with response\n",
    "    df_household_filt=df_household[df_household[response].notna()]\n",
    "    boolean_series = df_household_filt[\"dpisofirme\"].apply(lambda x: x==0)\n",
    "    \n",
    "    mean=df_household_filt.loc[boolean_series][response].mean()\n",
    "    stdev=df_household_filt.loc[boolean_series][response].std()\n",
    "    \n",
    "    for index,model in enumerate(models):\n",
    "        np.random.seed(1950)\n",
    "        mod= smf.ols(formula=response+model, data=df_household_filt,missing='raise')\n",
    "        # Fits the model (find the optimal coefficients, adding a random seed ensures consistency)\n",
    "        res = mod.fit()\n",
    "        coeff[index]=res.get_robustcov_results('cluster',groups=df_household_filt[['idcluster']].values.squeeze()).params[1]\n",
    "        bs[index]=res.get_robustcov_results('cluster',groups=df_household_filt[['idcluster']].values.squeeze()).bse[1]\n",
    "        significance_levels.append(res.f_pvalue)\n",
    "    ratio=100*coeff/mean\n",
    "\n",
    "\n",
    "    ex=ex.append({'Dependent variable':response,'Control Group':np.round([mean,stdev],N),'Model 1':np.round([coeff[0],bs[0],ratio[0]],N),\\\n",
    "                  'Model 2':np.round([coeff[1],bs[1],ratio[1]],N),'Model 3':np.round([coeff[2],bs[2],ratio[2]],N)},ignore_index=True)\n",
    "# Print results\n",
    "ex "
   ]
  },
  {
   "cell_type": "code",
   "execution_count": 6,
   "metadata": {},
   "outputs": [
    {
     "data": {
      "text/plain": [
       "[2.8975596899965793e-74,\n",
       " 2.9477958271309857e-109,\n",
       " 1.2914306065150386e-107,\n",
       " 3.59796464261722e-65,\n",
       " 4.639814766290897e-85,\n",
       " 1.5473548745884186e-84,\n",
       " 7.881242772240426e-47,\n",
       " 6.254471997505076e-63,\n",
       " 3.919833774754689e-62,\n",
       " 4.281094808716385e-15,\n",
       " 8.00539112130003e-50,\n",
       " 3.878276645768052e-49,\n",
       " 2.95549500710306e-54,\n",
       " 7.561747493425544e-72,\n",
       " 1.2636467248125972e-69]"
      ]
     },
     "execution_count": 6,
     "metadata": {},
     "output_type": "execute_result"
    }
   ],
   "source": [
    "# Print significance levels\n",
    "significance_levels"
   ]
  },
  {
   "cell_type": "markdown",
   "metadata": {},
   "source": [
    "## Significance levels\n",
    "All the results are significantly different from 0 at 1 percent level."
   ]
  },
  {
   "cell_type": "markdown",
   "metadata": {},
   "source": [
    "# 5. Table 7 reproduction\n",
    "In this chapter reuslts from table 7 are reproduced using the three different models."
   ]
  },
  {
   "cell_type": "markdown",
   "metadata": {},
   "source": [
    "All solutions are significantly different from 0 at 1 percent level. "
   ]
  },
  {
   "cell_type": "code",
   "execution_count": 7,
   "metadata": {},
   "outputs": [
    {
     "data": {
      "text/html": [
       "<div>\n",
       "<style scoped>\n",
       "    .dataframe tbody tr th:only-of-type {\n",
       "        vertical-align: middle;\n",
       "    }\n",
       "\n",
       "    .dataframe tbody tr th {\n",
       "        vertical-align: top;\n",
       "    }\n",
       "\n",
       "    .dataframe thead th {\n",
       "        text-align: right;\n",
       "    }\n",
       "</style>\n",
       "<table border=\"1\" class=\"dataframe\">\n",
       "  <thead>\n",
       "    <tr style=\"text-align: right;\">\n",
       "      <th></th>\n",
       "      <th>Dependent variable</th>\n",
       "      <th>Control Group</th>\n",
       "      <th>Model 1</th>\n",
       "      <th>Model 2</th>\n",
       "      <th>Model 3</th>\n",
       "    </tr>\n",
       "  </thead>\n",
       "  <tbody>\n",
       "    <tr>\n",
       "      <th>0</th>\n",
       "      <td>S_satisfloor</td>\n",
       "      <td>[0.51113, 0.50006]</td>\n",
       "      <td>[0.21868, 0.02323, 0.42784]</td>\n",
       "      <td>[0.22282, 0.02436, 0.43594]</td>\n",
       "      <td>[0.22133, 0.0257, 0.43303]</td>\n",
       "    </tr>\n",
       "    <tr>\n",
       "      <th>1</th>\n",
       "      <td>S_satishouse</td>\n",
       "      <td>[0.60517, 0.48899]</td>\n",
       "      <td>[0.0916, 0.02102, 0.15136]</td>\n",
       "      <td>[0.08662, 0.02106, 0.14313]</td>\n",
       "      <td>[0.08339, 0.02216, 0.1378]</td>\n",
       "    </tr>\n",
       "    <tr>\n",
       "      <th>2</th>\n",
       "      <td>S_satislife</td>\n",
       "      <td>[0.60086, 0.4899]</td>\n",
       "      <td>[0.11206, 0.02172, 0.1865]</td>\n",
       "      <td>[0.11134, 0.02115, 0.1853]</td>\n",
       "      <td>[0.11187, 0.02217, 0.18618]</td>\n",
       "    </tr>\n",
       "    <tr>\n",
       "      <th>3</th>\n",
       "      <td>S_cesds</td>\n",
       "      <td>[18.53242, 9.40208]</td>\n",
       "      <td>[-2.31529, 0.61641, -0.12493]</td>\n",
       "      <td>[-2.41806, 0.57143, -0.13048]</td>\n",
       "      <td>[-2.38461, 0.56688, -0.12867]</td>\n",
       "    </tr>\n",
       "    <tr>\n",
       "      <th>4</th>\n",
       "      <td>S_pss</td>\n",
       "      <td>[16.51406, 6.91405]</td>\n",
       "      <td>[-1.751, 0.42762, -0.10603]</td>\n",
       "      <td>[-1.77357, 0.39908, -0.1074]</td>\n",
       "      <td>[-1.75596, 0.40146, -0.10633]</td>\n",
       "    </tr>\n",
       "  </tbody>\n",
       "</table>\n",
       "</div>"
      ],
      "text/plain": [
       "  Dependent variable        Control Group                        Model 1  \\\n",
       "0       S_satisfloor   [0.51113, 0.50006]    [0.21868, 0.02323, 0.42784]   \n",
       "1       S_satishouse   [0.60517, 0.48899]     [0.0916, 0.02102, 0.15136]   \n",
       "2        S_satislife    [0.60086, 0.4899]     [0.11206, 0.02172, 0.1865]   \n",
       "3            S_cesds  [18.53242, 9.40208]  [-2.31529, 0.61641, -0.12493]   \n",
       "4              S_pss  [16.51406, 6.91405]    [-1.751, 0.42762, -0.10603]   \n",
       "\n",
       "                         Model 2                        Model 3  \n",
       "0    [0.22282, 0.02436, 0.43594]     [0.22133, 0.0257, 0.43303]  \n",
       "1    [0.08662, 0.02106, 0.14313]     [0.08339, 0.02216, 0.1378]  \n",
       "2     [0.11134, 0.02115, 0.1853]    [0.11187, 0.02217, 0.18618]  \n",
       "3  [-2.41806, 0.57143, -0.13048]  [-2.38461, 0.56688, -0.12867]  \n",
       "4   [-1.77357, 0.39908, -0.1074]  [-1.75596, 0.40146, -0.10633]  "
      ]
     },
     "execution_count": 7,
     "metadata": {},
     "output_type": "execute_result"
    }
   ],
   "source": [
    "list_response_variables=['S_satisfloor','S_satishouse','S_satislife','S_cesds','S_pss']\n",
    "ex2=pd.DataFrame({'Dependent variable':[], 'Control Group':[],'Model 1':[],'Model 2':[],'Model 3':[]})\n",
    "\n",
    "# Filter for control group\n",
    "coeff=[None,None,None]\n",
    "bs=[None,None,None]\n",
    "ratio=[None,None,None]\n",
    "#round digits\n",
    "N=5\n",
    "significance_levels=[];\n",
    "for response in list_response_variables:\n",
    "    \n",
    "    df_household_filt=df_household[df_household[response].notna()]\n",
    "    boolean_series = df_household_filt[\"dpisofirme\"].apply(lambda x: x==0)\n",
    "       \n",
    "    mean=df_household_filt.loc[boolean_series][response].mean()\n",
    "    stdev=df_household_filt.loc[boolean_series][response].std()\n",
    "    \n",
    "    for index,model in enumerate(models):\n",
    "        np.random.seed(1950)\n",
    "        mod= smf.ols(formula=response+model, data=df_household_filt,missing='raise')\n",
    "        # Fits the model (find the optimal coefficients, adding a random seed ensures consistency)\n",
    "        res = mod.fit()\n",
    "        coeff[index]=res.get_robustcov_results('cluster',groups=df_household_filt[['idcluster']].values.squeeze()).params[1]\n",
    "        bs[index]=res.get_robustcov_results('cluster',groups=df_household_filt[['idcluster']].values.squeeze()).bse[1]\n",
    "        significance_levels.append(res.f_pvalue)\n",
    "    ratio=100*coeff/mean\n",
    "\n",
    "\n",
    "    ex2=ex2.append({'Dependent variable':response,'Control Group':np.round([mean,stdev],N),'Model 1':np.round([coeff[0],bs[0],ratio[0]],N),\\\n",
    "                  'Model 2':np.round([coeff[1],bs[1],ratio[1]],N),'Model 3':np.round([coeff[2],bs[2],ratio[2]],N)},ignore_index=True)\n",
    "# Print results\n",
    "ex2"
   ]
  },
  {
   "cell_type": "code",
   "execution_count": 8,
   "metadata": {},
   "outputs": [
    {
     "data": {
      "text/plain": [
       "[5.285366254237762e-33,\n",
       " 2.6878349921830873e-28,\n",
       " 7.42571327094651e-27,\n",
       " 4.4023142977201803e-07,\n",
       " 2.5990713226340808e-08,\n",
       " 7.655465454989928e-08,\n",
       " 5.28156757633537e-10,\n",
       " 4.925333986753129e-13,\n",
       " 8.327559971789287e-12,\n",
       " 1.024287064533217e-11,\n",
       " 8.714898747842589e-30,\n",
       " 6.393234076492883e-29,\n",
       " 7.997585704644464e-12,\n",
       " 8.121852563504404e-14,\n",
       " 6.403948572074902e-13]"
      ]
     },
     "execution_count": 8,
     "metadata": {},
     "output_type": "execute_result"
    }
   ],
   "source": [
    "significance_levels"
   ]
  },
  {
   "cell_type": "markdown",
   "metadata": {},
   "source": [
    "## Significance levels\n",
    "All the results are significantly different from 0 at 1 percent level."
   ]
  },
  {
   "cell_type": "markdown",
   "metadata": {},
   "source": [
    "# 6. Discussion\n",
    "Results obtained for table 4 and table 6 are in most cases same up to a third digit to those reported in the original paper and in some cases there is slight diference in last digit to ones obtained in the original study. It is worth saying that in the paper authors mention that variable \"S_rooms\" is used as covariate however this is not used in the code they provide. Moreover once this variable is excluded (as in this replication is done) results are much closer to ones obtained in the original paper. On the other hand for the scientific quality of the results it would be better to include this variable. Negligble difference in results by no means affect the conclusions of the paper as well as \"mistake\" in droping the \"S_rooms\" variable."
   ]
  },
  {
   "cell_type": "code",
   "execution_count": null,
   "metadata": {},
   "outputs": [],
   "source": []
  }
 ],
 "metadata": {
  "kernelspec": {
   "display_name": "Python [conda env:ada]",
   "language": "python",
   "name": "conda-env-ada-py"
  },
  "language_info": {
   "codemirror_mode": {
    "name": "ipython",
    "version": 3
   },
   "file_extension": ".py",
   "mimetype": "text/x-python",
   "name": "python",
   "nbconvert_exporter": "python",
   "pygments_lexer": "ipython3",
   "version": "3.8.5"
  }
 },
 "nbformat": 4,
 "nbformat_minor": 4
}
