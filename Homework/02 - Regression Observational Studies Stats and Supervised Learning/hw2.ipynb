{
 "cells": [
  {
   "cell_type": "markdown",
   "metadata": {},
   "source": [
    "# Homework 2 (HW2)\n",
    "\n",
    "---\n",
    "By the end of this homework we expect you to be able to:\n",
    "1. Preprocess data and make it amenable to statistical analysis and machine learning models;\n",
    "2. Train and test out-of-the-box machine learning models in Python;\n",
    "3. Carry out statistical hypothesis testing;\n",
    "4. Carry out simple multivariate regression analyses;\n",
    "5. Use techniques to control for covariates;\n",
    "---\n",
    "\n",
    "## Important Dates\n",
    "\n",
    "- Homework release: Fri 6 Nov 2020\n",
    "- **Homework due**: Fri 20 Nov 2020, 23:59\n",
    "- Grade release: Mon 30 Nov 2020\n",
    "\n",
    "---\n",
    "\n",
    "##  Some rules\n",
    "\n",
    "1. You are allowed to use any built-in Python library that comes with Anaconda. If you want to use an external library, you have to justify your choice.\n",
    "2. Make sure you use the data folder provided in the repository in **read-only** mode.\n",
    "3. Be sure to provide a textual description of your thought process, the assumptions you made, the solution you implemented, and explanations for your answers. A notebook that only has code cells will not suffice.\n",
    "4. For questions containing the **/Discuss:/** prefix, answer not with code, but with a textual explanation (in markdown).\n",
    "5. Back up any hypotheses and claims with data, since this is an important aspect of the course.\n",
    "6. Please write all your comments in English, and use meaningful variable names in your code. Your repo should have a single notebook (plus the required data files) in the master branch. If there are multiple notebooks present, we will **strictly** not grade anything.\n",
    "7. Also, be sure to hand in a fully-run and evaluated notebook. We will not run your notebook for you, we will grade it as is, which means that only the results contained in your evaluated code cells will be considered, and we will not see the results in unevaluated code cells. In order to check whether everything looks as intended, you can check the rendered notebook on the GitHub website once you have pushed your solution there.\n",
    "8. Make sure to print results or dataframes that confirm you have properly addressed the task.\n",
    "9. Lastly, the grading is done in the *double blind* mode, i.e., the TAs grades an anonymized version of your notebook, so make sure that your notebook **neither has your team name nor the names of the members**.\n",
    "\n",
    "## Context\n",
    "\n",
    "Publishing papers is a big part of the lives of [Ph.D. students](http://phdcomics.com/comics/archive.php?comicid=154), [post-docs](http://phdcomics.com/comics/archive.php?comicid=1744) and [professors](http://phdcomics.com/comics/archive.php?comicid=1051). \n",
    "In Computer Science, publishing happens mostly in conferences. What follows is a slight simplification of how these conferences decide which papers to accept and which papers to reject.\n",
    " \n",
    "Every year, scholars submit papers to prestigious conferences. The papers are then assigned to reviewers (usually around 3), who are other people from the same research community (respect thy neighbor!). Each reviewer weighs in on whether they believe the papers they were assigned are good or bad, and write a review, often along with a score (e.g. +3 Strong Accept, +2 Accept, +1 Weak Accept, 0 Borderline, …,  -3 Strong Reject). Then, in the end, \"special\" reviewers called, \"Area Chairs\" analyze all the reviews that were written for the same paper and decide what gets accepted and what gets rejected. Importantly, throughout this whole dance, reviewers and authors are anonymous. When you're reviewing a paper, you do not know who wrote it. And when you receive the review, you don't know who reviewed it. Because of that, we call this a double-blind reviewing process.\n",
    "\n",
    "An interesting development that has evolved in recent years is the rise of pre-prints. In previous times, researchers often exposed their research to the world only after it had been peer-reviewed and published in a conference or a journal. But recently researchers are much keener to let their ideas out into the world as soon as possible, and they publish their research before it has been approved to any conference or journal, by posting the research on so-called pre-print servers. The most common pre-print server for Computer Science, Physics, and Maths is called [arXiv](https://arxiv.org/), for Biology, an increasingly popular one is [bioRxiv](https://www.biorxiv.org/), for Psychology [psyArXiv](https://psyarxiv.com/) (they are not very creative with the names). Notice that pre-prints and peer-review are not mutually exclusive, in fact, usually, you publish your pre-print, and then you try to publish your work in a peer-reviewed setting.\n",
    "\n",
    "Overall, publishing pre-prints has many benefits. They make science more accessible and hasten the circulation of important results in the academic community. However, a big issue brought forth with pre-prints is that they often break the anonymity in the double-blind reviewing process. For instance, in machine learning, since most papers are published as pre-prints, it is often easy to figure out if the paper you are reviewing is from a famous researcher or a big company with prominent research scientists. From critics' viewpoint, knowing the authors of the papers you are reviewing can bias your reviews. If you know that a given author is famous, you'd be more inclined to take his or her word for granted. If the author is from an institution you’ve never heard about, you are more likely to doubt his or her findings.\n",
    "\n",
    "In this homework, we will take a data-driven deep dive into the world of academic publishing. Can you use your freshly acquired data-science skills to predict which papers are going to make the cut? Are your data analysis skills sharp enough to figure out whether the aforementioned concerns about pre-print issues are justified?\n",
    "\n",
    "\n",
    "## The data\n",
    "\n",
    "The data, whose source has been *\"double-blinded\"* from you, and which has been simplified a bit for the assignment, contains information about submissions to a prestigious machine learning conference called ICLR (pronounced “I-clear”). You can find the dataframe in the git repo for the homework (`./data/dataset_final.csv`). We provide a brief description of the fields you will encounter.\n",
    "\n",
    "- `year`: year the paper has been submitted to ICLR. Notice that we provide data for three years, 2018, 2019, and 2020.\n",
    "\n",
    "\n",
    "- `paper`: title of the paper.\n",
    "\n",
    "\n",
    "- `authors`: names of the authors separated by ;.\n",
    "\n",
    "\n",
    "- `ratings`: mean rating given to the paper by the reviewers.\n",
    "\n",
    "\n",
    "- `decisions`: either Accept if the paper was accepted, or Reject otherwise.\n",
    "\n",
    "\n",
    "- `institution`: institutions for each of the authors, separated by ;.\n",
    "\n",
    "\n",
    "- `csranking`: ranking of the institutions according to csrankings. The better the institution, the better the rank. Notice that, if a paper has more than 1 author, this field will contain multiple values, separated by ;. For institutions that are not in csrankings, the value will be -1.\n",
    "\n",
    "\n",
    "- `categories`: topical categories of the paper. Each number corresponds to a different category: (1) Theory, (2) Computer Vision, (3) Natural Language Processing, (4) Adversarial ML, (5) Generative Modeling, (7) Fairness, (8) Generalization, (9) Optimization, (10) Graphs, (11) Bayesian Methods, (0) Others. A paper may belong to multiple categories, separated by ;.\n",
    "\n",
    "\n",
    "- `authors_citations`: number of citations of each one of the authors, separated by ;.\n",
    "\n",
    "\n",
    "- `authors_publications`: number of publications by each one of the authors, separated by ;.\n",
    "\n",
    "\n",
    "- `authors_hindex`: h-index of each one of the authors, separated by ;. The h-index is an author-level metric that measures both the productivity and citation impact of the publications of a scientist or scholar. It is the maximum value $h$ such that the given author has published $h$ papers that have each been cited at least $h$ times.\n",
    "\n",
    "\n",
    "- `arxiv`: whether the paper was spotted in a pre-print server around the submission period.\n",
    "\n",
    "Also, notice that in this dataframe, when some piece of data was not available, -1 will be used as the value. For example, companies aren't a part of csrankings, so for people who work in big companies, the values are -1 in the field csranking.\n"
   ]
  },
  {
   "cell_type": "markdown",
   "metadata": {},
   "source": [
    "## _Step 1:_ Predicting paper ratings\n",
    "\n",
    "The first part of this homework poses a simple question: Can you predict the ratings the paper will receive given attributes related to its authors? To answer this question, we will build an ML pipeline from scratch, preprocessing the data, training a regression model, and then evaluating it.\n",
    "\n",
    "\n",
    "---\n",
    "\n",
    "### Task 1.1\n",
    "\n",
    "Some of the fields in the data are not very amenable to serve as input to traditional machine learning algorithms. Namely, we have some fields for which there are a varying number of values (e.g. papers with 3 authors will have 3 values in the `author_citations` field, papers with 5 authors will have 5).\n",
    "\n",
    "\n",
    "Your first task is to perform some feature engineering and derive unique values for each paper which you will be able to use in your ML model. \n",
    "More specifically, you must:\n",
    "\n",
    "1. Create 3 new fields in the dataframe corresponding to the median value of the number of citations per author, the number of publications per author, and the h-index per author. So for instance, for the row `authors_publications`, you will create an additional column, e.g. `authors_publications_median`, containing the median number of publications per author in each paper.\n",
    "2. Create another field entitled `reputation` capturing how famous the last author of the paper is. Notice that the last author of the paper is usually the most senior person involved in the project. This field should equal $\\log_{10}\\Big(\\frac{\\#citations}{\\#publications} + 1\\Big)$. Notice that each author in the dataset has at least 1 publication, so you don't risk dividing by 0.\n",
    "3. Create two fields called `has_top_company` and `has_top_institution`. The field `has_top_company` equals 1 if the article contains an author in the following list of companies `[\"Facebook\", \"Google\", \"Microsoft\", \"Deepmind\"]`, and 0 otherwise. The field `has_top_institution` equals 1 if the article contains an author in the top 10 institutions according to CSRankings.\n",
    "4. **Discuss:** How did you handle -1 values in item 1.1.1? Justify your approach.\n",
    "\n",
    "---"
   ]
  },
  {
   "cell_type": "code",
   "execution_count": 187,
   "metadata": {},
   "outputs": [
    {
     "data": {
      "text/html": [
       "<div>\n",
       "<style scoped>\n",
       "    .dataframe tbody tr th:only-of-type {\n",
       "        vertical-align: middle;\n",
       "    }\n",
       "\n",
       "    .dataframe tbody tr th {\n",
       "        vertical-align: top;\n",
       "    }\n",
       "\n",
       "    .dataframe thead th {\n",
       "        text-align: right;\n",
       "    }\n",
       "</style>\n",
       "<table border=\"1\" class=\"dataframe\">\n",
       "  <thead>\n",
       "    <tr style=\"text-align: right;\">\n",
       "      <th></th>\n",
       "      <th>year</th>\n",
       "      <th>paper</th>\n",
       "      <th>authors</th>\n",
       "      <th>ratings</th>\n",
       "      <th>decisions</th>\n",
       "      <th>institution</th>\n",
       "      <th>csranking</th>\n",
       "      <th>categories</th>\n",
       "      <th>authors_citations</th>\n",
       "      <th>authors_publications</th>\n",
       "      <th>authors_hindex</th>\n",
       "      <th>arxiv</th>\n",
       "    </tr>\n",
       "  </thead>\n",
       "  <tbody>\n",
       "    <tr>\n",
       "      <th>0</th>\n",
       "      <td>2018</td>\n",
       "      <td>Certifying Some Distributional Robustness with...</td>\n",
       "      <td>Aman Sinha;Hongseok Namkoong;John Duchi</td>\n",
       "      <td>9.000000</td>\n",
       "      <td>Accept</td>\n",
       "      <td>Stanford University;Stanford University;Stanfo...</td>\n",
       "      <td>4;4;4</td>\n",
       "      <td>4</td>\n",
       "      <td>655;904;12908</td>\n",
       "      <td>42;19;162</td>\n",
       "      <td>8;10;42</td>\n",
       "      <td>True</td>\n",
       "    </tr>\n",
       "    <tr>\n",
       "      <th>1</th>\n",
       "      <td>2018</td>\n",
       "      <td>Parametric Information Bottleneck to Optimize ...</td>\n",
       "      <td>Thanh T. Nguyen;Jaesik Choi</td>\n",
       "      <td>4.666667</td>\n",
       "      <td>Reject</td>\n",
       "      <td>Ulsan National Institute of Science and Techno...</td>\n",
       "      <td>468;468</td>\n",
       "      <td>8</td>\n",
       "      <td>1052;727</td>\n",
       "      <td>86;88</td>\n",
       "      <td>16;15</td>\n",
       "      <td>False</td>\n",
       "    </tr>\n",
       "    <tr>\n",
       "      <th>2</th>\n",
       "      <td>2018</td>\n",
       "      <td>Towards Neural Phrase-based Machine Translation</td>\n",
       "      <td>Po-Sen Huang;Chong Wang;Sitao Huang;Dengyong Z...</td>\n",
       "      <td>6.666667</td>\n",
       "      <td>Accept</td>\n",
       "      <td>Microsoft;Google;University of Illinois, Urban...</td>\n",
       "      <td>-1;-1;3;-1;-1</td>\n",
       "      <td>3;2</td>\n",
       "      <td>1718;17889;161;8800;20766</td>\n",
       "      <td>59;1045;17;78;409</td>\n",
       "      <td>17;54;7;33;63</td>\n",
       "      <td>True</td>\n",
       "    </tr>\n",
       "    <tr>\n",
       "      <th>3</th>\n",
       "      <td>2018</td>\n",
       "      <td>Interactive Grounded Language Acquisition and ...</td>\n",
       "      <td>Haonan Yu;Haichao Zhang;Wei Xu</td>\n",
       "      <td>6.333333</td>\n",
       "      <td>Accept</td>\n",
       "      <td>Baidu;Baidu;Baidu</td>\n",
       "      <td>-1;-1;-1</td>\n",
       "      <td>6;8</td>\n",
       "      <td>890;1382;9553</td>\n",
       "      <td>37;63;557</td>\n",
       "      <td>12;20;44</td>\n",
       "      <td>False</td>\n",
       "    </tr>\n",
       "    <tr>\n",
       "      <th>4</th>\n",
       "      <td>2018</td>\n",
       "      <td>A Boo(n) for Evaluating Architecture Performance</td>\n",
       "      <td>Ondrej Bajgar;Rudolf Kadlec;and Jan Kleindienst</td>\n",
       "      <td>4.666667</td>\n",
       "      <td>Reject</td>\n",
       "      <td>;International Business Machines;International...</td>\n",
       "      <td>-1;-1;-1</td>\n",
       "      <td>0</td>\n",
       "      <td>366;678;658</td>\n",
       "      <td>10;40;76</td>\n",
       "      <td>5;11;9</td>\n",
       "      <td>False</td>\n",
       "    </tr>\n",
       "  </tbody>\n",
       "</table>\n",
       "</div>"
      ],
      "text/plain": [
       "   year                                              paper  \\\n",
       "0  2018  Certifying Some Distributional Robustness with...   \n",
       "1  2018  Parametric Information Bottleneck to Optimize ...   \n",
       "2  2018    Towards Neural Phrase-based Machine Translation   \n",
       "3  2018  Interactive Grounded Language Acquisition and ...   \n",
       "4  2018   A Boo(n) for Evaluating Architecture Performance   \n",
       "\n",
       "                                             authors   ratings decisions  \\\n",
       "0            Aman Sinha;Hongseok Namkoong;John Duchi  9.000000    Accept   \n",
       "1                        Thanh T. Nguyen;Jaesik Choi  4.666667    Reject   \n",
       "2  Po-Sen Huang;Chong Wang;Sitao Huang;Dengyong Z...  6.666667    Accept   \n",
       "3                     Haonan Yu;Haichao Zhang;Wei Xu  6.333333    Accept   \n",
       "4    Ondrej Bajgar;Rudolf Kadlec;and Jan Kleindienst  4.666667    Reject   \n",
       "\n",
       "                                         institution      csranking  \\\n",
       "0  Stanford University;Stanford University;Stanfo...          4;4;4   \n",
       "1  Ulsan National Institute of Science and Techno...        468;468   \n",
       "2  Microsoft;Google;University of Illinois, Urban...  -1;-1;3;-1;-1   \n",
       "3                                  Baidu;Baidu;Baidu       -1;-1;-1   \n",
       "4  ;International Business Machines;International...       -1;-1;-1   \n",
       "\n",
       "  categories          authors_citations authors_publications authors_hindex  \\\n",
       "0          4              655;904;12908            42;19;162        8;10;42   \n",
       "1          8                   1052;727                86;88          16;15   \n",
       "2        3;2  1718;17889;161;8800;20766    59;1045;17;78;409  17;54;7;33;63   \n",
       "3        6;8              890;1382;9553            37;63;557       12;20;44   \n",
       "4          0                366;678;658             10;40;76         5;11;9   \n",
       "\n",
       "   arxiv  \n",
       "0   True  \n",
       "1  False  \n",
       "2   True  \n",
       "3  False  \n",
       "4  False  "
      ]
     },
     "execution_count": 187,
     "metadata": {},
     "output_type": "execute_result"
    }
   ],
   "source": [
    "import pandas as pd\n",
    "import numpy as np\n",
    "import statistics\n",
    "from sklearn.model_selection import train_test_split\n",
    "from sklearn.linear_model import LinearRegression\n",
    "from sklearn import datasets, linear_model\n",
    "from sklearn.metrics import mean_squared_error, r2_score\n",
    "import matplotlib.pyplot as plt\n",
    "import seaborn as sns\n",
    "import random\n",
    "import math\n",
    "from scipy import stats\n",
    "from sklearn.ensemble import GradientBoostingRegressor\n",
    "import statsmodels.api as sm\n",
    "import statsmodels.formula.api as smf\n",
    "%matplotlib inline\n",
    "\n",
    "### Import data ###\n",
    "data_iclr = pd.read_csv('data/dataset_final.csv')\n",
    "data_iclr.head()"
   ]
  },
  {
   "cell_type": "code",
   "execution_count": 188,
   "metadata": {},
   "outputs": [],
   "source": [
    "# 1.1.1\n",
    "# Get median of each column element given as str list with \";\" separator\n",
    "def median_of_str_list(str_list):\n",
    "    str_list=str_list.split(';')\n",
    "    str_list=[float(i) for i in str_list]\n",
    "    while -1 in str_list: str_list.remove(-1)\n",
    "    return statistics.median(str_list)\n",
    "\n",
    "# Obtain features\n",
    "data_iclr['author_citations_median']=data_iclr['authors_citations'].apply(median_of_str_list)\n",
    "data_iclr['authors_publications_median']=data_iclr['authors_publications'].apply(median_of_str_list)\n",
    "data_iclr['authors_hindex_median']=data_iclr['authors_hindex'].apply(median_of_str_list)"
   ]
  },
  {
   "cell_type": "code",
   "execution_count": 189,
   "metadata": {},
   "outputs": [],
   "source": [
    "# 1.1.2\n",
    "# Calculate reputation for each row (publication)\n",
    "def reputation_method(row):\n",
    "    last_author_citations=float(row['authors_citations'].split(';')[-1])\n",
    "    last_author_publications=float(row['authors_publications'].split(';')[-1])\n",
    "    return(np.log10(1+last_author_citations/last_author_publications))\n",
    "   \n",
    "data_iclr['reputation']=data_iclr.apply(reputation_method, axis=1)"
   ]
  },
  {
   "cell_type": "code",
   "execution_count": 190,
   "metadata": {},
   "outputs": [
    {
     "data": {
      "text/html": [
       "<div>\n",
       "<style scoped>\n",
       "    .dataframe tbody tr th:only-of-type {\n",
       "        vertical-align: middle;\n",
       "    }\n",
       "\n",
       "    .dataframe tbody tr th {\n",
       "        vertical-align: top;\n",
       "    }\n",
       "\n",
       "    .dataframe thead th {\n",
       "        text-align: right;\n",
       "    }\n",
       "</style>\n",
       "<table border=\"1\" class=\"dataframe\">\n",
       "  <thead>\n",
       "    <tr style=\"text-align: right;\">\n",
       "      <th></th>\n",
       "      <th>year</th>\n",
       "      <th>paper</th>\n",
       "      <th>authors</th>\n",
       "      <th>ratings</th>\n",
       "      <th>decisions</th>\n",
       "      <th>institution</th>\n",
       "      <th>csranking</th>\n",
       "      <th>categories</th>\n",
       "      <th>authors_citations</th>\n",
       "      <th>authors_publications</th>\n",
       "      <th>authors_hindex</th>\n",
       "      <th>arxiv</th>\n",
       "      <th>author_citations_median</th>\n",
       "      <th>authors_publications_median</th>\n",
       "      <th>authors_hindex_median</th>\n",
       "      <th>reputation</th>\n",
       "      <th>has_top_company</th>\n",
       "      <th>has_top_institution</th>\n",
       "    </tr>\n",
       "  </thead>\n",
       "  <tbody>\n",
       "    <tr>\n",
       "      <th>0</th>\n",
       "      <td>2018</td>\n",
       "      <td>Certifying Some Distributional Robustness with...</td>\n",
       "      <td>Aman Sinha;Hongseok Namkoong;John Duchi</td>\n",
       "      <td>9.000000</td>\n",
       "      <td>Accept</td>\n",
       "      <td>Stanford University;Stanford University;Stanfo...</td>\n",
       "      <td>4;4;4</td>\n",
       "      <td>4</td>\n",
       "      <td>655;904;12908</td>\n",
       "      <td>42;19;162</td>\n",
       "      <td>8;10;42</td>\n",
       "      <td>True</td>\n",
       "      <td>904.0</td>\n",
       "      <td>42.0</td>\n",
       "      <td>10.0</td>\n",
       "      <td>1.906761</td>\n",
       "      <td>0</td>\n",
       "      <td>1</td>\n",
       "    </tr>\n",
       "    <tr>\n",
       "      <th>1</th>\n",
       "      <td>2018</td>\n",
       "      <td>Parametric Information Bottleneck to Optimize ...</td>\n",
       "      <td>Thanh T. Nguyen;Jaesik Choi</td>\n",
       "      <td>4.666667</td>\n",
       "      <td>Reject</td>\n",
       "      <td>Ulsan National Institute of Science and Techno...</td>\n",
       "      <td>468;468</td>\n",
       "      <td>8</td>\n",
       "      <td>1052;727</td>\n",
       "      <td>86;88</td>\n",
       "      <td>16;15</td>\n",
       "      <td>False</td>\n",
       "      <td>889.5</td>\n",
       "      <td>87.0</td>\n",
       "      <td>15.5</td>\n",
       "      <td>0.966675</td>\n",
       "      <td>0</td>\n",
       "      <td>0</td>\n",
       "    </tr>\n",
       "    <tr>\n",
       "      <th>2</th>\n",
       "      <td>2018</td>\n",
       "      <td>Towards Neural Phrase-based Machine Translation</td>\n",
       "      <td>Po-Sen Huang;Chong Wang;Sitao Huang;Dengyong Z...</td>\n",
       "      <td>6.666667</td>\n",
       "      <td>Accept</td>\n",
       "      <td>Microsoft;Google;University of Illinois, Urban...</td>\n",
       "      <td>-1;-1;3;-1;-1</td>\n",
       "      <td>3;2</td>\n",
       "      <td>1718;17889;161;8800;20766</td>\n",
       "      <td>59;1045;17;78;409</td>\n",
       "      <td>17;54;7;33;63</td>\n",
       "      <td>True</td>\n",
       "      <td>8800.0</td>\n",
       "      <td>78.0</td>\n",
       "      <td>33.0</td>\n",
       "      <td>1.714100</td>\n",
       "      <td>1</td>\n",
       "      <td>1</td>\n",
       "    </tr>\n",
       "    <tr>\n",
       "      <th>3</th>\n",
       "      <td>2018</td>\n",
       "      <td>Interactive Grounded Language Acquisition and ...</td>\n",
       "      <td>Haonan Yu;Haichao Zhang;Wei Xu</td>\n",
       "      <td>6.333333</td>\n",
       "      <td>Accept</td>\n",
       "      <td>Baidu;Baidu;Baidu</td>\n",
       "      <td>-1;-1;-1</td>\n",
       "      <td>6;8</td>\n",
       "      <td>890;1382;9553</td>\n",
       "      <td>37;63;557</td>\n",
       "      <td>12;20;44</td>\n",
       "      <td>False</td>\n",
       "      <td>1382.0</td>\n",
       "      <td>63.0</td>\n",
       "      <td>20.0</td>\n",
       "      <td>1.258896</td>\n",
       "      <td>0</td>\n",
       "      <td>0</td>\n",
       "    </tr>\n",
       "    <tr>\n",
       "      <th>4</th>\n",
       "      <td>2018</td>\n",
       "      <td>A Boo(n) for Evaluating Architecture Performance</td>\n",
       "      <td>Ondrej Bajgar;Rudolf Kadlec;and Jan Kleindienst</td>\n",
       "      <td>4.666667</td>\n",
       "      <td>Reject</td>\n",
       "      <td>;International Business Machines;International...</td>\n",
       "      <td>-1;-1;-1</td>\n",
       "      <td>0</td>\n",
       "      <td>366;678;658</td>\n",
       "      <td>10;40;76</td>\n",
       "      <td>5;11;9</td>\n",
       "      <td>False</td>\n",
       "      <td>658.0</td>\n",
       "      <td>40.0</td>\n",
       "      <td>9.0</td>\n",
       "      <td>0.984882</td>\n",
       "      <td>0</td>\n",
       "      <td>0</td>\n",
       "    </tr>\n",
       "  </tbody>\n",
       "</table>\n",
       "</div>"
      ],
      "text/plain": [
       "   year                                              paper  \\\n",
       "0  2018  Certifying Some Distributional Robustness with...   \n",
       "1  2018  Parametric Information Bottleneck to Optimize ...   \n",
       "2  2018    Towards Neural Phrase-based Machine Translation   \n",
       "3  2018  Interactive Grounded Language Acquisition and ...   \n",
       "4  2018   A Boo(n) for Evaluating Architecture Performance   \n",
       "\n",
       "                                             authors   ratings decisions  \\\n",
       "0            Aman Sinha;Hongseok Namkoong;John Duchi  9.000000    Accept   \n",
       "1                        Thanh T. Nguyen;Jaesik Choi  4.666667    Reject   \n",
       "2  Po-Sen Huang;Chong Wang;Sitao Huang;Dengyong Z...  6.666667    Accept   \n",
       "3                     Haonan Yu;Haichao Zhang;Wei Xu  6.333333    Accept   \n",
       "4    Ondrej Bajgar;Rudolf Kadlec;and Jan Kleindienst  4.666667    Reject   \n",
       "\n",
       "                                         institution      csranking  \\\n",
       "0  Stanford University;Stanford University;Stanfo...          4;4;4   \n",
       "1  Ulsan National Institute of Science and Techno...        468;468   \n",
       "2  Microsoft;Google;University of Illinois, Urban...  -1;-1;3;-1;-1   \n",
       "3                                  Baidu;Baidu;Baidu       -1;-1;-1   \n",
       "4  ;International Business Machines;International...       -1;-1;-1   \n",
       "\n",
       "  categories          authors_citations authors_publications authors_hindex  \\\n",
       "0          4              655;904;12908            42;19;162        8;10;42   \n",
       "1          8                   1052;727                86;88          16;15   \n",
       "2        3;2  1718;17889;161;8800;20766    59;1045;17;78;409  17;54;7;33;63   \n",
       "3        6;8              890;1382;9553            37;63;557       12;20;44   \n",
       "4          0                366;678;658             10;40;76         5;11;9   \n",
       "\n",
       "   arxiv  author_citations_median  authors_publications_median  \\\n",
       "0   True                    904.0                         42.0   \n",
       "1  False                    889.5                         87.0   \n",
       "2   True                   8800.0                         78.0   \n",
       "3  False                   1382.0                         63.0   \n",
       "4  False                    658.0                         40.0   \n",
       "\n",
       "   authors_hindex_median  reputation  has_top_company  has_top_institution  \n",
       "0                   10.0    1.906761                0                    1  \n",
       "1                   15.5    0.966675                0                    0  \n",
       "2                   33.0    1.714100                1                    1  \n",
       "3                   20.0    1.258896                0                    0  \n",
       "4                    9.0    0.984882                0                    0  "
      ]
     },
     "execution_count": 190,
     "metadata": {},
     "output_type": "execute_result"
    }
   ],
   "source": [
    "# 1.1.3\n",
    "\n",
    "# Check if any of authors is in one of the top companies (case insensitive)\n",
    "def check_top_company(institutions):\n",
    "    top_companies=[\"facebook\", \"google\", \"microsoft\", \"deepmind\"]\n",
    "    institutions=institutions.split(';')\n",
    "    for element in institutions:\n",
    "        if element.lower() in top_companies:\n",
    "            return 1;\n",
    "    return 0\n",
    "# Check if any of the authors is in one of the top ten institutions\n",
    "def check_top_institution(ranks):\n",
    "    ranks=ranks.split(';')\n",
    "    for rank in ranks:\n",
    "        if int(rank)>0 and int(rank)<11:\n",
    "            return 1;\n",
    "    return 0;\n",
    "        \n",
    "data_iclr['has_top_company']=data_iclr['institution'].apply(check_top_company)\n",
    "data_iclr['has_top_institution']=data_iclr['csranking'].apply(check_top_institution)\n",
    "\n",
    "#final output\n",
    "data_iclr.head()"
   ]
  },
  {
   "cell_type": "markdown",
   "metadata": {},
   "source": [
    "## 1.1.4\n",
    "In the case of -1 in 1.1.1 we decided to remove such authors from the consediration, median then is obtain only for authors for which the data exist. After checking the data in each article there is at least one author without any -1 value."
   ]
  },
  {
   "cell_type": "markdown",
   "metadata": {},
   "source": [
    "### Task 1.2\n",
    "\n",
    "Now that you have cleaned up your data, your next task is to divide your data into a training set and a testing set. You should do this in two ways:\n",
    "\n",
    "1. First, do it randomly. Split the data into a training set (70%) and a testing set (30%). We refer to these as \"random split\" in the subsequent tasks.\n",
    "2. Second, do it longitudinally. Use the data from 2018 and 2019 for the training set, and the data from 2020 as the testing set. We refer to these as \"longitudinal split\" in the subsequent tasks.\n"
   ]
  },
  {
   "cell_type": "code",
   "execution_count": 191,
   "metadata": {},
   "outputs": [],
   "source": [
    "### Spliting the data ###\n",
    "\n",
    "#random split\n",
    "train, test = train_test_split(data_iclr, test_size=0.3)\n",
    "\n",
    "#longitudinal split\n",
    "mask=data_iclr['year'].apply(lambda x: x<2020)\n",
    "train_18_19=data_iclr[mask]\n",
    "test_20=data_iclr[~mask]"
   ]
  },
  {
   "cell_type": "markdown",
   "metadata": {},
   "source": [
    "### Task 1.3\n",
    "\n",
    "Build a Linear Regression model (use [sklearn](https://scikit-learn.org/stable/)) that predicts the score of a paper (which is in the variable ratings in the dataframe). Train it and test it using the split you previously defined. Your model should use as features:\n",
    "- Median values for the number of author citations, publications and h-indexes, as calculated in Task 1.1.1.\n",
    "\n",
    "- `reputation` of the last author, as calculated in Task 1.1.2.\n",
    "\n",
    "For the two scenarios above (random split and longitudinal split):\n",
    "\n",
    "1. Report the model $R^2$ in each case (for the testing set).\n",
    "2. **Discuss:** Hypothesize a reason why the results are different. Additionally, interpret the $R^2$ value for the longitudinal split. How can it be negative?\n",
    "3. **From now onwards (in this task and the following ones), consider only the random split.** For a given entry $X$ your model outputs a predicted score $Y'$. The difference between the real score $Y$ and the predicted score $Y'$ is called the \"residual\". Plot the distribution of your residuals for the test set. Using this distribution, estimate what is the probability that your prediction is off by more than 2-points? Provide bootstrapped confidence intervals for your answer.\n",
    "4. **Discuss:** Identify three additional features that are already computed in your dataframe and that could boost your model's predictive performance. You are not allowed to use the variable `decisions` as an input here. Before running any experiments, discuss why each of these features might add valuable information to your model.\n",
    "5. Report the $R^2$ (for the test set) for a newly trained model with these additional features. Please note that you do not need to improve the model performance to be successful in this task!\n",
    "\n",
    "**Hint**: [Metrics!](https://scikit-learn.org/stable/modules/classes.html#sklearn-metrics-metrics)"
   ]
  },
  {
   "cell_type": "code",
   "execution_count": 192,
   "metadata": {},
   "outputs": [
    {
     "name": "stdout",
     "output_type": "stream",
     "text": [
      "R^2 for random split on test case: 0.08087\n",
      "R^2 for longitudinal split on test case: -0.24010\n"
     ]
    }
   ],
   "source": [
    "### Task 1.3.1 ### alternative created before Antonio pushed, results are the same, i would use mine because i saved variables we need later \n",
    "# create the regression models for both random and longitudinal split\n",
    "lin_reg_rand = LinearRegression()  \n",
    "lin_reg_longi = LinearRegression()\n",
    "features_names=[\"author_citations_median\", \"authors_publications_median\", \"authors_hindex_median\", \"reputation\"]\n",
    "\n",
    "#splitting in X and y\n",
    "y_rand = train[\"ratings\"]\n",
    "X_rand = train[features_names]\n",
    "y_rand_test = test[\"ratings\"]\n",
    "X_rand_test = test[features_names]\n",
    "y_longi = train_18_19[\"ratings\"]\n",
    "X_longi = train_18_19[features_names]\n",
    "y_longi_test = test_20[\"ratings\"]\n",
    "X_longi_test = test_20[features_names]\n",
    "\n",
    "# R^2 calculation on test sets\n",
    "lin_reg_rand.fit(X_rand, y_rand)\n",
    "lin_reg_longi.fit(X_longi, y_longi)\n",
    "r2_rand = lin_reg_rand.score(X_rand_test, y_rand_test)\n",
    "\n",
    "#printing results\n",
    "print(\"R^2 for random split on test case: {i:.5f}\".format(i=r2_rand))\n",
    "r2_longi = lin_reg_longi.score(X_longi_test, y_longi_test)\n",
    "print(\"R^2 for longitudinal split on test case: {i:.5f}\".format(i=r2_longi))"
   ]
  },
  {
   "cell_type": "code",
   "execution_count": 193,
   "metadata": {},
   "outputs": [
    {
     "name": "stdout",
     "output_type": "stream",
     "text": [
      "Random split results\n",
      "Coefficients: \n",
      " [-4.76604044e-05 -2.80941605e-03  5.16604684e-02  5.56673133e-01]\n",
      "Mean squared error: 1.965\n",
      "Coefficient of determination: 0.081\n",
      "\n",
      "Longitudinal split results\n",
      "Coefficients: \n",
      " [-4.03573548e-05 -3.19329046e-03  4.28208378e-02  5.30928681e-01]\n",
      "Mean squared error: 3.143\n",
      "Coefficient of determination: -0.240\n"
     ]
    }
   ],
   "source": [
    "### Task 1.3.1 ###\n",
    "def solve_regression_and_output(x_train,y_train,x_test,y_test):\n",
    "\n",
    "    # Create linear regression object\n",
    "    regr = linear_model.LinearRegression()\n",
    "\n",
    "    # Train the model using the training sets\n",
    "    regr.fit(x_train, y_train)\n",
    "\n",
    "    # Make predictions using the testing set\n",
    "    y_pred = regr.predict(x_test)\n",
    "\n",
    "    # The coefficients\n",
    "    print('Coefficients: \\n', regr.coef_)\n",
    "    # The mean squared error\n",
    "    print('Mean squared error: %.3f' % mean_squared_error(y_test, y_pred))\n",
    "    # The coefficient of determination: 1 is the best possible score\n",
    "    print('Coefficient of determination: %.3f' %r2_score(y_test, y_pred))\n",
    "\n",
    "\n",
    "feature_cols = ['author_citations_median','authors_publications_median','authors_hindex_median','reputation']\n",
    "\n",
    "# Calculate for random split\n",
    "print('Random split results')\n",
    "solve_regression_and_output(train[feature_cols],train['ratings'],test[feature_cols],test['ratings'])\n",
    "\n",
    "# Calculate for longitudinal split\n",
    "print('\\nLongitudinal split results')\n",
    "solve_regression_and_output(train_18_19[feature_cols],train_18_19['ratings'],test_20[feature_cols],test_20['ratings'])"
   ]
  },
  {
   "cell_type": "markdown",
   "metadata": {},
   "source": [
    "# 1.3.2\n",
    "There might be some difference in trends during the years. Tho model has been trained in 2018 and 2019 on trends that had changed in 2020 thats why the R^2 score is negative giving the results worst then one would get with a constant model that always predicts the expected value of y, disregarding the input features, which would get a R^2 score of 0.0."
   ]
  },
  {
   "cell_type": "markdown",
   "metadata": {},
   "source": []
  },
  {
   "cell_type": "code",
   "execution_count": 194,
   "metadata": {},
   "outputs": [
    {
     "data": {
      "image/png": "[encoded data removed]",
      "text/plain": [
       "<Figure size 432x288 with 1 Axes>"
      ]
     },
     "metadata": {
      "needs_background": "light"
     },
     "output_type": "display_data"
    }
   ],
   "source": [
    "# 1.3.3 #\n",
    "# residuals calculation\n",
    "predicted = lin_reg_rand.predict(X_rand_test)\n",
    "residuals = np.array(y_rand_test) - predicted\n",
    "\n",
    "# residuals plot\n",
    "ax = sns.distplot(residuals, hist=True)\n",
    "ax.set(title='Residuals histrogram',xlabel='Residual', ylabel='Residual density')\n",
    "plt.show()"
   ]
  },
  {
   "cell_type": "code",
   "execution_count": 195,
   "metadata": {},
   "outputs": [],
   "source": [
    "# bootstrap function\n",
    "def bootstrap(array, n):\n",
    "    #bootstrapping for 90% confidence interval\n",
    "    #n is the number of bootstrapping samples\n",
    "    averages=np.zeros(n)\n",
    "    for num in range(n):\n",
    "        count=0\n",
    "        choice = random.choices(array, k=len(array))\n",
    "        choice = abs(np.array(choice)) > 2\n",
    "        averages[num] = choice.sum()/len(array)\n",
    "    averages=np.sort(averages)\n",
    "    return (averages[math.floor(0.05*(n-1))], averages[math.ceil(0.95*(n-1))])"
   ]
  },
  {
   "cell_type": "code",
   "execution_count": 196,
   "metadata": {},
   "outputs": [
    {
     "name": "stdout",
     "output_type": "stream",
     "text": [
      "90% bootstrapped confidence interval for probability of residual being greater than 2:  (0.12764, 0.16053)\n"
     ]
    }
   ],
   "source": [
    "print(\"90% bootstrapped confidence interval for probability of residual being greater than 2: \", tuple(map(lambda x: round(x, 5), bootstrap(residuals, 1500))))"
   ]
  },
  {
   "cell_type": "markdown",
   "metadata": {},
   "source": [
    "# 1.3.4\n",
    "I think that the following variables would improve the model: has_top_company and has_top_institution because they are more likely to produce good ratings, arxiv because the experiment is not double blinded anymore and this imply a bias either a positive or negative linked to how much famous an author(s) is/are."
   ]
  },
  {
   "cell_type": "code",
   "execution_count": 197,
   "metadata": {},
   "outputs": [
    {
     "name": "stdout",
     "output_type": "stream",
     "text": [
      "R^2 for augmented model on test case: 0.08691\n"
     ]
    }
   ],
   "source": [
    "# 1.3.5\n",
    "# trying an augmented features model\n",
    "features_augmented=[\"author_citations_median\", \"authors_publications_median\", \"authors_hindex_median\", \"reputation\", \"has_top_company\", \"has_top_institution\", \"arxiv\"]\n",
    "lin_reg_augmented = LinearRegression()\n",
    "y_rand2 = train[\"ratings\"]\n",
    "X_rand2 = train[features_augmented]\n",
    "y_rand_test2 = test[\"ratings\"]\n",
    "X_rand_test2 = test[features_augmented]\n",
    "\n",
    "# R^2 calculation on test sets\n",
    "lin_reg_augmented.fit(X_rand2, y_rand2)\n",
    "print(\"R^2 for augmented model on test case: {i:.5f}\".format(i=lin_reg_augmented.score(X_rand_test2, y_rand_test2)))\n",
    "\n",
    "# the model slightly improved with respect to the R^2 metric"
   ]
  },
  {
   "cell_type": "markdown",
   "metadata": {},
   "source": [
    "### Task 1.4\n",
    "\n",
    "Experiment with training a different regressor, a [Gradient Boosting Regressor](https://scikit-learn.org/stable/modules/ensemble.html?highlight=xgboost#gradient-boosting). This regressor is analogous to the Gradient Boosting Classifier that you have seen in class. This model performs extremely well for a variety of tasks and is often used in machine learning competitions for tabular data (e.g., on [Kaggle](www.kaggle.com)). You must:\n",
    "\n",
    "1. Train a Gradient Boosting Regressor without specifying any parameters, e.g. `GradientBoostingRegressor().fit(X, y)`, and report its $R^2$ on the testing set. Your model should again use as features:\n",
    "    - Median values for the number of author citations, publications and h-indexes as calculated in Task 1.1.1.\n",
    "    - `reputation` of the last author, as calculated in Task 1.1.2.\n",
    "2. Create an additional feature called $crazy$, which is derived as follows. If the score  of the paper, $ratings$, is bigger than 4.96, then $crazy = 9 - ratings$, otherwise, $crazy = - ratings$. Train a Gradient Boosting Regressor to predict paper scores using only $crazy$ as a feature. Additionally, train a Linear Regression model to predict paper scores using only $crazy$ as a feature. Report the $R^2$ in the testing set.\n",
    "3. **Discuss:** Why does the Gradient Boosting Regressor perform so much better?"
   ]
  },
  {
   "cell_type": "code",
   "execution_count": 198,
   "metadata": {},
   "outputs": [
    {
     "name": "stdout",
     "output_type": "stream",
     "text": [
      "R^2 for gradient boosting regressor on test set:  0.08561\n"
     ]
    }
   ],
   "source": [
    "# task 1.4.1\n",
    "boost_reg = GradientBoostingRegressor().fit(X_rand, y_rand)\n",
    "print(\"R^2 for gradient boosting regressor on test set: \", round(boost_reg.score(X_rand_test, y_rand_test),5))"
   ]
  },
  {
   "cell_type": "code",
   "execution_count": 199,
   "metadata": {
    "scrolled": true
   },
   "outputs": [],
   "source": [
    "# task 1.4.2\n",
    "# Calculate crazy for each row (publication)\n",
    "def crazy_method(rating):\n",
    "    if(rating > 4.96):\n",
    "        return (9 - rating)\n",
    "    return -rating\n",
    "\n",
    "data_iclr[\"crazy\"] = data_iclr.ratings.apply(crazy_method)\n",
    "train, test = train_test_split(data_iclr, test_size=0.3)"
   ]
  },
  {
   "cell_type": "code",
   "execution_count": 200,
   "metadata": {},
   "outputs": [
    {
     "name": "stdout",
     "output_type": "stream",
     "text": [
      "R^2 for gradient boosting regressor with crazy feature on test set:  1.0\n",
      "R^2 for linear regressor with crazy feature on test set:  0.4076\n"
     ]
    }
   ],
   "source": [
    "# gradient boosting and linear regression on model with \"crazy\" as predictor variable\n",
    "boost_rating = GradientBoostingRegressor().fit(np.array(train[\"crazy\"]).reshape(-1,1), np.array(train[\"ratings\"]))\n",
    "lin_rating = LinearRegression().fit(np.array(train[\"crazy\"]).reshape(-1,1), np.array(train[\"ratings\"]))\n",
    "print(\"R^2 for gradient boosting regressor with crazy feature on test set: \", round(boost_rating.score(np.array(test[\"crazy\"]).reshape(-1,1), test[\"ratings\"]),5))\n",
    "print(\"R^2 for linear regressor with crazy feature on test set: \", round(lin_rating.score(np.array(test[\"crazy\"]).reshape(-1,1), test[\"ratings\"]),5))"
   ]
  },
  {
   "cell_type": "markdown",
   "metadata": {},
   "source": [
    "# task 1.4.3\n",
    "R^2 improves in both gradient boosting and linear regression using \"crazy\" as only feature, that is because it is a piecewise linear function of the predictor variable \"ratings\". Given that the function is piecewise linear, simple linear regression can approximate it only up to a certain point, while the gradient boosting regressor learns the rule to predict the \"ratings\" variable and obtains an (almost) perfect score."
   ]
  },
  {
   "cell_type": "markdown",
   "metadata": {},
   "source": [
    "### Task 1.5\n",
    "\n",
    "Complex models often have several hyper-parameters. \n",
    "To obtain the best results, it is common-place to use a cross-validation set-up in your training data to find the best hyper-parameters, and then use it for the test set.\n",
    "\n",
    "\n",
    "1. Write modular code (i.e., a function) to divide your training data into $N$ folds and perform cross-validation.\n",
    "2.  Experiment tuning two hyper-parameters of the Gradient Boosting Regressor: `n_estimators` and `learning_rate`.\n",
    "For each possible combination of the two hyper-parameters (see below for the range of values that you should try for each hyper-parameter), train your model in a cross-validation setup with $N$=20. Report the mean $R^2$ along with the 90% CI for the 18 scenarios. Notice that you can calculate the 90% CI in a bootstrap-like fashion.\n",
    "    - `n_estimators`$ \\in  \\{ 50, 75, 100, 150, 200, 250\\}$\n",
    "    - `learning_rate`$ \\in  \\{ 0.1, 0.05, 0.01\\}$.\n",
    "3. With the best hyper-parameters obtained, train your model with the entire training set and report the $R^2$ on the testing set.\n",
    "4. **Discuss:** Why don't we tune the hyper-parameters in the testing set instead of doing cross-validation in the training set?"
   ]
  },
  {
   "cell_type": "code",
   "execution_count": 201,
   "metadata": {},
   "outputs": [],
   "source": [
    "# task 1.5.1\n",
    "#split data and return indeces\n",
    "y = np.array(train[\"ratings\"])\n",
    "x = np.array(train[features_names])\n",
    "\n",
    "def indices(num_row, n, seed):\n",
    "    \"\"\"build k indices for k-fold.\"\"\"\n",
    "    interval = int(num_row / n)\n",
    "    np.random.seed(seed)\n",
    "    indices = np.random.permutation(num_row)\n",
    "    k_indices = [indices[k * interval: (k + 1) * interval] for k in range(n)]\n",
    "    return np.array(k_indices)\n",
    "\n",
    "#one step of cross validation\n",
    "def cross_validation(y, x, k_indices, k, n_estimators, learning_rate):\n",
    "    \"\"\"return the loss of ridge regression.\"\"\"\n",
    "    # get k'th subgroup in test, others in train\n",
    "    te_indice = k_indices[k]\n",
    "    tr_indice = k_indices[~(np.arange(k_indices.shape[0]) == k)]\n",
    "    tr_indice = tr_indice.reshape(-1)\n",
    "    y_te = y[te_indice]\n",
    "    y_tr = y[tr_indice]\n",
    "    x_te = x[te_indice]\n",
    "    x_tr = x[tr_indice]\n",
    "    # gradient boosting\n",
    "    boost_reg = GradientBoostingRegressor(n_estimators=n_estimators, learning_rate=learning_rate).fit(x_tr, y_tr)\n",
    "    # calculate the loss for train and test data\n",
    "    return boost_reg.score(x_te, y_te)\n",
    "\n",
    "#bootstrap for mean \n",
    "def bootstrap_mean(array, n):\n",
    "    #mean bootstrapping for 90% confidence interval\n",
    "    #n is the number of bootstrapping samples\n",
    "    averages=np.zeros(n)\n",
    "    for i in range(n):\n",
    "        averages[i]=(np.mean(random.choices(array, k=len(array))))\n",
    "    averages=np.sort(averages)\n",
    "    return (averages[math.floor(0.05*(n-1))], averages[math.ceil(0.95*(n-1))])"
   ]
  },
  {
   "cell_type": "code",
   "execution_count": 202,
   "metadata": {},
   "outputs": [
    {
     "name": "stdout",
     "output_type": "stream",
     "text": [
      "N:  50 l:  0.1 R^2 mean:  0.09694 R^2 CI (0.07367313383704222, 0.11173661636816815)\n",
      "N:  50 l:  0.05 R^2 mean:  0.0949 R^2 CI (0.07980449169886261, 0.11007850232071889)\n",
      "N:  50 l:  0.01 R^2 mean:  0.05348 R^2 CI (0.04613321235343372, 0.05952439776312459)\n",
      "N:  75 l:  0.1 R^2 mean:  0.09407 R^2 CI (0.07449456347944305, 0.11364568656404195)\n",
      "N:  75 l:  0.05 R^2 mean:  0.09725 R^2 CI (0.08048885858380102, 0.11440166936835387)\n",
      "N:  75 l:  0.01 R^2 mean:  0.06817 R^2 CI (0.0613161563970271, 0.0757746394118454)\n",
      "N:  100 l:  0.1 R^2 mean:  0.08851 R^2 CI (0.05540135269371534, 0.10114101809091533)\n",
      "N:  100 l:  0.05 R^2 mean:  0.0971 R^2 CI (0.08668922772066405, 0.11182637418107774)\n",
      "N:  100 l:  0.01 R^2 mean:  0.07776 R^2 CI (0.07248716819630989, 0.08551517372756264)\n",
      "N:  125 l:  0.1 R^2 mean:  0.08474 R^2 CI (0.05899481413820913, 0.10571506153246454)\n",
      "N:  125 l:  0.05 R^2 mean:  0.09643 R^2 CI (0.07260553391585241, 0.11457437410449864)\n",
      "N:  125 l:  0.01 R^2 mean:  0.08418 R^2 CI (0.07692009003527955, 0.09452568351122806)\n",
      "N:  150 l:  0.1 R^2 mean:  0.08182 R^2 CI (0.05890092696421093, 0.09620182964331833)\n",
      "N:  150 l:  0.05 R^2 mean:  0.09524 R^2 CI (0.07329883651098851, 0.1244654019989492)\n",
      "N:  150 l:  0.01 R^2 mean:  0.0888 R^2 CI (0.0784156984469249, 0.09772204271065141)\n",
      "N:  175 l:  0.1 R^2 mean:  0.07698 R^2 CI (0.06252120627963718, 0.11234474497931894)\n",
      "N:  175 l:  0.05 R^2 mean:  0.09328 R^2 CI (0.07559524362828954, 0.11230126693026828)\n",
      "N:  175 l:  0.01 R^2 mean:  0.09135 R^2 CI (0.07804121777499268, 0.10427027687546686)\n",
      "N:  200 l:  0.1 R^2 mean:  0.07209 R^2 CI (0.04887940973382306, 0.08813782904518318)\n",
      "N:  200 l:  0.05 R^2 mean:  0.0899 R^2 CI (0.05941021091172536, 0.10438549742363668)\n",
      "N:  200 l:  0.01 R^2 mean:  0.09306 R^2 CI (0.08005862234682128, 0.10713234865393209)\n",
      "N:  225 l:  0.1 R^2 mean:  0.0669 R^2 CI (0.045255098642018446, 0.09028210711159956)\n",
      "N:  225 l:  0.05 R^2 mean:  0.08778 R^2 CI (0.05675854835707796, 0.11119280309994939)\n",
      "N:  225 l:  0.01 R^2 mean:  0.09413 R^2 CI (0.07917174638115831, 0.11531205016569972)\n",
      "N:  250 l:  0.1 R^2 mean:  0.06238 R^2 CI (0.03372700568143218, 0.08471197206405026)\n",
      "N:  250 l:  0.05 R^2 mean:  0.08626 R^2 CI (0.06449923208277775, 0.10338450984722816)\n",
      "N:  250 l:  0.01 R^2 mean:  0.09489 R^2 CI (0.07878438913716126, 0.10528071138909431)\n"
     ]
    }
   ],
   "source": [
    "# task 1.5.2\n",
    "seed = 10\n",
    "n_estimators = range(50,275,25)\n",
    "learning_rate=[0.1, 0.05, 0.01]\n",
    "# split data in k fold\n",
    "k_indices = indices(train.shape[0], 20, seed)\n",
    "# define lists to store the R^2\n",
    "R2_mean = []\n",
    "\n",
    "# cross validation\n",
    "for n_esti in n_estimators:\n",
    "    for lea in learning_rate:\n",
    "        R2_tmp = []\n",
    "        for k in range(20):\n",
    "            R2_tmp.append(cross_validation(y, x, k_indices, k, n_esti, lea))\n",
    "        R2_mean.append(np.mean(R2_tmp))\n",
    "        print(\"N: \", n_esti, \"l: \", lea, \"R^2 mean: \", round(np.mean(R2_tmp),5), \"R^2 CI\", bootstrap_mean(R2_tmp, 30))"
   ]
  },
  {
   "cell_type": "code",
   "execution_count": 203,
   "metadata": {},
   "outputs": [
    {
     "name": "stdout",
     "output_type": "stream",
     "text": [
      "Best estimator are: learning_rate =  0.05  n_estimator =  75  with R^2 =  0.09725\n",
      "R^2 with cross validation:  0.09117\n"
     ]
    }
   ],
   "source": [
    "# 1.5.3\n",
    "# print best results\n",
    "best_lea = np.argmax(R2_mean)%3\n",
    "best_esti = np.argmax(R2_mean)//3\n",
    "print(\"Best estimator are: learning_rate = \", learning_rate[best_lea], \" n_estimator = \", n_estimators[best_esti], \" with R^2 = \", round(max(R2_mean),5))\n",
    "\n",
    "# fit on complete train set\n",
    "boost_reg = GradientBoostingRegressor(n_estimators=n_estimators[best_esti], learning_rate=learning_rate[best_lea]).fit(x, y)\n",
    "print(\"R^2 with cross validation: \", round(boost_reg.score(np.array(test[features_names]), np.array(test[\"ratings\"])),5))\n",
    "\n"
   ]
  },
  {
   "cell_type": "markdown",
   "metadata": {},
   "source": [
    "# 1.5.4\n",
    "We use test set such to build a model that generalizes well on unseen dataset. If we use test set in tuning for hyper-parameters to select the model, we’re indirectly using test set in training or rather, our model has seen the test set. Hence, it is no longer an unseen dataset but already used to find the right parameters."
   ]
  },
  {
   "cell_type": "markdown",
   "metadata": {},
   "source": [
    "## _Step 2:_ What influences papers getting accepted?\n",
    "\n",
    "Time to change hats!\n",
    "\n",
    "If before we were interested in creating an accurate regressor, now we are interested in understanding what increases the chance of papers getting accepted. \n",
    "\n",
    "Typically, in that scenario, simpler models with a clear statistical interpretation (e.g. logistic regression) yield more interesting insights.\n",
    "\n",
    "For the analysis in this and the next step, you should use [statsmodels](https://www.statsmodels.org/) (for the regressions) and [scipy](https://www.scipy.org/) (for the statistical hypothesis testing).\n"
   ]
  },
  {
   "cell_type": "markdown",
   "metadata": {},
   "source": [
    "### Task 2.1\n",
    "\n",
    "Let's warm up with some visualizations and some hypothesis testing!\n",
    "\n",
    "1. Plot the distributions of 1) ratings of papers that got accepted in 2020, 2) ratings of papers that got rejected in 2020.\n",
    "2. Select a statistical test to compare whether the mean for ratings of papers that got accepted in 2020 is significantly higher.\n",
    "3. **Discuss:** Justify why the statistical test you selected is appropriate. Interpret the test-related statistic and its p-value: concretely, what do they mean?"
   ]
  },
  {
   "cell_type": "code",
   "execution_count": 204,
   "metadata": {},
   "outputs": [
    {
     "data": {
      "image/png": "[encoded data removed]",
      "text/plain": [
       "<Figure size 432x288 with 1 Axes>"
      ]
     },
     "metadata": {
      "needs_background": "light"
     },
     "output_type": "display_data"
    },
    {
     "data": {
      "image/png": "[encoded data removed]",
      "text/plain": [
       "<Figure size 432x288 with 1 Axes>"
      ]
     },
     "metadata": {
      "needs_background": "light"
     },
     "output_type": "display_data"
    }
   ],
   "source": [
    "### task 2.1.1 ###\n",
    "# create mask for accepted and rejected papers\n",
    "accepted20=data_iclr[(data_iclr['decisions']==\"Accept\") & (data_iclr['year']==2020)]\n",
    "rejected20=data_iclr[(data_iclr['decisions']==\"Reject\") & (data_iclr['year']==2020)]\n",
    "\n",
    "\n",
    "#plot\n",
    "ax = sns.distplot(accepted20[\"ratings\"], hist=True)\n",
    "ax.set(title='Accepted papers 2020',xlabel='Ratings', ylabel='Ratings density')\n",
    "plt.show()\n",
    "ax = sns.distplot(rejected20[\"ratings\"], hist=True)\n",
    "ax.set(title='Rejected papers 2020',xlabel='Ratings', ylabel='Ratings density')\n",
    "plt.show()"
   ]
  },
  {
   "cell_type": "code",
   "execution_count": 205,
   "metadata": {},
   "outputs": [
    {
     "name": "stdout",
     "output_type": "stream",
     "text": [
      "Ttest_indResult(statistic=45.79777665813106, pvalue=5.21595695e-316)\n",
      "Ttest_relResult(statistic=42.89206610989116, pvalue=8.794877771146617e-189)\n"
     ]
    }
   ],
   "source": [
    "# task 2.1.2\n",
    "print(stats.ttest_ind(accepted20.ratings, rejected20.ratings))\n",
    "print(stats.ttest_rel(accepted20.ratings, rejected20.ratings[:len(accepted20)]))"
   ]
  },
  {
   "cell_type": "markdown",
   "metadata": {},
   "source": [
    "# 2.1.3\n",
    "The first test is a T-test for the means of two independent samples sets, this test can be used if we observe two independent samples from the same or different population. Its p-value is extremely close to zero and that implies that we can reject the null hypothesis of equal averages, the t-statistic, from which the p-value is derived, also express a very large difference in the means of the two samples. By applying this test we also hypothize that the variance is the same in the two samples.\n",
    "The second test is a t-test on TWO RELATED samples of scores, it does not require the assumptions of independence of the test above, it's p-value also is really close to zero and that implies that we can reject the null hypothesis of equal averages with very high confidence."
   ]
  },
  {
   "cell_type": "markdown",
   "metadata": {},
   "source": [
    "### Task 2.2\n",
    "\n",
    "We will now carry out a logistic regression modeling the binary variable `decisions` as a function of the continuous variable `ratings` and an intercept. \n",
    "\n",
    "Recall that a logistic regression is a model in the form:\n",
    "\n",
    "$$\n",
    "\\log \\Big( \\frac{p}{1-p} \\Big) = b_0 + b_1x_1 + b_2x_2 + \\ldots\n",
    "$$\n",
    "\n",
    "Where $p$ is the probability of the dependent variable (here, `decisions`) being equals to 1. \n",
    "Note that $\\frac{p}{1-p}$ represents the odds of the variable, and thus, on the left-hand side we have the log-odds of the variable.\n",
    "This can be also written as:\n",
    "\n",
    "$$\n",
    "\\Big( \\frac{p}{1-p} \\Big) = e^{b_0 + b_1 x_1 + b_2 x_2 + \\ldots} =  e^{b_0} e^{b_1 x_1} e^{b_2 x_2} \\ldots\n",
    "$$\n",
    "\n",
    "Given a linear variable, say $x_1$, if we increase the value associated with this variable by a single unit, and keep everything constant, we have:\n",
    "\n",
    "$$\n",
    " e^{b_1(x_1+1)} =  e^{b_1 x_1 + b_1} = e^{b_1 x_1}e^{b_1}  \n",
    "$$\n",
    "\n",
    "This means that we multiply the odds of the outcome variable by $e^{b_1}$. Thus, let's say that $x_1$ is the average rating, and $\\beta_1$ is the associated coefficient. Also, let's assume that $\\beta_1$ equals 2. In that case, increasing the score of the paper by 1 unit is equivalent to multiplying both sides of the previous equation by $e^{b_1}$. The original equation for our model becomes:\n",
    "\n",
    "$$\n",
    "\\Big( \\frac{p}{1-p} \\Big) = e^{b_0} e^{b_1 x_1} \n",
    "$$\n",
    "$$\n",
    "\\Big( \\frac{p}{1-p} \\Big) e^{b_1}  = e^{b_0} e^{b_1 x_1} e^{b_1}\n",
    "$$\n",
    "\n",
    "Since $b_1=2$, we have that this is the same as multiplying the odds of the variable by $e^2\\approx7$. \n",
    "So for example, if a paper with a score 5 had $p=0.05$ of being approved, its odds would be $0.05/0.95\\approx0.052$. According to our model, an increase in 1-rating point would mean that the new odds would be $0.052*7\\approx0.36$. Using the odds formula  ($\\frac{p}{1-p}$), this suggests that this paper would have a chance of $0.56$ of being accepted.\n",
    "\n",
    "---\n",
    "\n",
    "This is the theory. Now, let's find out what the real world looks like.\n",
    "\n",
    "\n",
    "1. Fit a logistic regression model to our data considering as the training set all papers submitted in 2020. Your model should predict a binary variable related to decisions (which equals true if the paper was accepted and false otherwise) as a function of the paper ratings and an intercept. In mathematical notation:\n",
    "$$\n",
    "d = b_0 + r b_1\n",
    "$$\n",
    "Where $d$ is the binary variable corresponding to a decision, $r$ is a numeric variable corresponding to the rating a paper has received and $b$ are coefficients.\n",
    "Notice that here we have no testing set!\n",
    "Report the summary of your model. \n",
    "2. **Discuss:** Interpreting the coefficients of your model, calculate the probability that a paper with a score 7 will be accepted.\n"
   ]
  },
  {
   "cell_type": "code",
   "execution_count": 206,
   "metadata": {},
   "outputs": [
    {
     "name": "stderr",
     "output_type": "stream",
     "text": [
      "C:\\Users\\Toni\\anaconda3\\envs\\ada\\lib\\site-packages\\pandas\\core\\series.py:4563: SettingWithCopyWarning: \n",
      "A value is trying to be set on a copy of a slice from a DataFrame\n",
      "\n",
      "See the caveats in the documentation: https://pandas.pydata.org/pandas-docs/stable/user_guide/indexing.html#returning-a-view-versus-a-copy\n",
      "  return super().replace(\n"
     ]
    }
   ],
   "source": [
    "### task 2.2.1 ###\n",
    "# all papers submitted in 2020\n",
    "papers20=data_iclr[data_iclr['year']==2020]\n",
    "\n",
    "# 1 accepted 0 rejected\n",
    "papers20[\"decisions\"].replace(to_replace=[\"Accept\",\"Reject\"], value=[1,0], inplace=True)"
   ]
  },
  {
   "cell_type": "code",
   "execution_count": 207,
   "metadata": {},
   "outputs": [
    {
     "name": "stdout",
     "output_type": "stream",
     "text": [
      "Optimization terminated successfully.\n",
      "         Current function value: 0.251882\n",
      "         Iterations 8\n",
      "                           Logit Regression Results                           \n",
      "==============================================================================\n",
      "Dep. Variable:              decisions   No. Observations:                 2052\n",
      "Model:                          Logit   Df Residuals:                     2050\n",
      "Method:                           MLE   Df Model:                            1\n",
      "Date:                Mon, 16 Nov 2020   Pseudo R-squ.:                  0.5913\n",
      "Time:                        12:44:55   Log-Likelihood:                -516.86\n",
      "converged:                       True   LL-Null:                       -1264.6\n",
      "Covariance Type:            nonrobust   LLR p-value:                     0.000\n",
      "==============================================================================\n",
      "                 coef    std err          z      P>|z|      [0.025      0.975]\n",
      "------------------------------------------------------------------------------\n",
      "Intercept    -12.8811      0.597    -21.574      0.000     -14.051     -11.711\n",
      "ratings        2.3672      0.110     21.438      0.000       2.151       2.584\n",
      "==============================================================================\n"
     ]
    }
   ],
   "source": [
    "# logistic regression\n",
    "mod = smf.logit(formula='decisions ~  ratings', data=papers20)\n",
    "res = mod.fit()\n",
    "print(res.summary())\n",
    "\n",
    "#storing coefficients\n",
    "coef=np.array(res.params)"
   ]
  },
  {
   "cell_type": "markdown",
   "metadata": {},
   "source": [
    "# 2.2.2\n",
    "Coefficient intercept = -15.34\n",
    "Coefficient ratings = 2.67\n",
    "They both have small standard errors, relative to their coefficient, therefore we are confident about their value. \n",
    "The rating coefficient being strongly positive also suggests a strong direct reltionship between the rating and acceptance of a paper."
   ]
  },
  {
   "cell_type": "code",
   "execution_count": 208,
   "metadata": {},
   "outputs": [
    {
     "name": "stdout",
     "output_type": "stream",
     "text": [
      "Probability of acceptance for paper of rating 7 =  0.9756242668260545\n"
     ]
    }
   ],
   "source": [
    "# Calculation for probability of acceptance for paper with rating = 7\n",
    "z = coef[0] + 7 * coef[1]\n",
    "\n",
    "y = 1/(1+math.e**(-z))\n",
    "print(\"Probability of acceptance for paper of rating 7 = \", y)"
   ]
  },
  {
   "cell_type": "markdown",
   "metadata": {},
   "source": [
    "### Task 2.3\n",
    "\n",
    "Our model is not so interesting since the only independent variable (that is, our model' feature or predictor) is something blatantly associated with paper acceptance. Let's go further! \n",
    "\n",
    "1. Run a logistic regression with the binary decision as the dependent variable (the outcome) and using as independent variables (the features): ratings, the reputation of the last author, and whether the paper was on arxiv or not. That is, in [patsy-style formula](https://patsy.readthedocs.io/en/latest/formulas.html): `decisions ~ ratings + reputation + arxiv` (variable names do not need to be exactly these). Consider all papers submitted in 2020 as your training data.\n",
    "Notice that reputation was calculated in Task 1.1. \n",
    "2. **Discuss:** Unlike `ratings` and `reputation`, the variable `arxiv` is binary. Following the same logic as we did for continuous variables in the text of Task 2.2, interpret the meaning of this coefficient. What happens to the odds ratio if the paper was seen in arxiv? Is this effect statistically significant?"
   ]
  },
  {
   "cell_type": "code",
   "execution_count": 209,
   "metadata": {},
   "outputs": [
    {
     "name": "stderr",
     "output_type": "stream",
     "text": [
      "C:\\Users\\Toni\\anaconda3\\envs\\ada\\lib\\site-packages\\pandas\\core\\series.py:4563: SettingWithCopyWarning: \n",
      "A value is trying to be set on a copy of a slice from a DataFrame\n",
      "\n",
      "See the caveats in the documentation: https://pandas.pydata.org/pandas-docs/stable/user_guide/indexing.html#returning-a-view-versus-a-copy\n",
      "  return super().replace(\n"
     ]
    }
   ],
   "source": [
    "### task 2.3.1 ###\n",
    "# 1 True 0 False\n",
    "papers20[\"arxiv\"].replace(to_replace=[True,False], value=[1,0], inplace=True)"
   ]
  },
  {
   "cell_type": "code",
   "execution_count": 210,
   "metadata": {},
   "outputs": [
    {
     "name": "stdout",
     "output_type": "stream",
     "text": [
      "Optimization terminated successfully.\n",
      "         Current function value: 0.250440\n",
      "         Iterations 8\n",
      "                           Logit Regression Results                           \n",
      "==============================================================================\n",
      "Dep. Variable:              decisions   No. Observations:                 2052\n",
      "Model:                          Logit   Df Residuals:                     2048\n",
      "Method:                           MLE   Df Model:                            3\n",
      "Date:                Mon, 16 Nov 2020   Pseudo R-squ.:                  0.5936\n",
      "Time:                        12:44:55   Log-Likelihood:                -513.90\n",
      "converged:                       True   LL-Null:                       -1264.6\n",
      "Covariance Type:            nonrobust   LLR p-value:                     0.000\n",
      "==============================================================================\n",
      "                 coef    std err          z      P>|z|      [0.025      0.975]\n",
      "------------------------------------------------------------------------------\n",
      "Intercept    -13.2261      0.634    -20.873      0.000     -14.468     -11.984\n",
      "ratings        2.3541      0.111     21.296      0.000       2.137       2.571\n",
      "reputation     0.2267      0.148      1.533      0.125      -0.063       0.517\n",
      "arxiv          0.2890      0.167      1.727      0.084      -0.039       0.617\n",
      "==============================================================================\n"
     ]
    }
   ],
   "source": [
    "# logistic regression expanded model\n",
    "mod = smf.logit(formula='decisions ~  ratings + reputation + arxiv', data=papers20)\n",
    "res = mod.fit()\n",
    "print(res.summary())"
   ]
  },
  {
   "cell_type": "markdown",
   "metadata": {},
   "source": [
    "# 2.3.2\n",
    "The coefficient for arxiv is positive (0.438) and that suggests that paper on arxiv are more likely to be accepted, quantitatively that implies an increase in the odd ratio of a factor e^0.438 therefore about 1.55\n",
    "The result is statistically significant because the 95% confidence for the arxiv coefficient is entirely contained in the positive real numbers."
   ]
  },
  {
   "cell_type": "markdown",
   "metadata": {},
   "source": [
    "### Task 2.4\n",
    "\n",
    "Let's finally move on to the question that you have been dying to answer: Do pre-prints favor top institutions? \n",
    "\n",
    "In order to (try to) answer that question, you must fit yet another logistic regression.\n",
    "\n",
    "Your regression should have the paper decision as the dependent variable, and `ratings`, `reputation`, and `arxiv` as independent variables just like in task 2.3. Yet, here, include also as independent variables the binary variable `has_top_institution`, which equals 1 if the paper has an author in a top-10 institution; and the interaction variable `arxiv:has_top_institution`, which equals one only if the paper is from a top-10 institution **and** if it appeared on arxiv before the submission deadline. In patsy-style formula your model should look something like: \n",
    "\n",
    "`decisions_bool ~ ratings + reputation + arxiv + has_top_institution + arxiv:has_top_institution`\n",
    "\n",
    "\n",
    "1. Fit this model and estimate the effect of posting on arxiv for a top institution. Again, consider only papers submitted in the 2020 edition.\n",
    "2. **Discuss:** Interpreting the p-values, discuss: is this evidence that arxiv breaks double-blind submissions?"
   ]
  },
  {
   "cell_type": "code",
   "execution_count": 211,
   "metadata": {},
   "outputs": [
    {
     "name": "stdout",
     "output_type": "stream",
     "text": [
      "Optimization terminated successfully.\n",
      "         Current function value: 0.247320\n",
      "         Iterations 8\n",
      "                           Logit Regression Results                           \n",
      "==============================================================================\n",
      "Dep. Variable:              decisions   No. Observations:                 2052\n",
      "Model:                          Logit   Df Residuals:                     2046\n",
      "Method:                           MLE   Df Model:                            5\n",
      "Date:                Mon, 16 Nov 2020   Pseudo R-squ.:                  0.5987\n",
      "Time:                        12:44:55   Log-Likelihood:                -507.50\n",
      "converged:                       True   LL-Null:                       -1264.6\n",
      "Covariance Type:            nonrobust   LLR p-value:                     0.000\n",
      "=====================================================================================================\n",
      "                                        coef    std err          z      P>|z|      [0.025      0.975]\n",
      "-----------------------------------------------------------------------------------------------------\n",
      "Intercept                           -13.3940      0.647    -20.717      0.000     -14.661     -12.127\n",
      "C(has_top_institution)[T.1]           0.3662      0.224      1.631      0.103      -0.074       0.806\n",
      "ratings                               2.3834      0.113     21.171      0.000       2.163       2.604\n",
      "reputation                            0.1605      0.150      1.072      0.284      -0.133       0.454\n",
      "arxiv                                 0.1061      0.200      0.529      0.597      -0.287       0.499\n",
      "arxiv:C(has_top_institution)[T.1]     0.5793      0.370      1.568      0.117      -0.145       1.304\n",
      "=====================================================================================================\n"
     ]
    }
   ],
   "source": [
    "### Task 2.4 ###\n",
    "# logistic regression expanded model\n",
    "mod = smf.logit(formula='decisions ~  ratings + reputation + arxiv+C(has_top_institution)+arxiv:C(has_top_institution)', data=papers20)\n",
    "res = mod.fit()\n",
    "print(res.summary())"
   ]
  },
  {
   "cell_type": "markdown",
   "metadata": {},
   "source": [
    "# 2.4.2\n",
    "Even though the results sugest that there might be an influence of arxiv on objectiveness of reviewing process results are not statisticly significant since the 95% interval for the coefficients is having a change of sign for two limits. Bigger data set should be used to estimate if there is significant effect on reviewing process..."
   ]
  },
  {
   "cell_type": "markdown",
   "metadata": {},
   "source": [
    "## Step 3: Matching\n",
    "\n",
    "Okay, so let's change hats one last time.\n",
    "\n",
    "As you have all seen in class, a particularly powerful way of disentangling causal effects from observational data is through matching: making sure we are not comparing apples to oranges.\n",
    "\n",
    "\n",
    "### Task 3.1\n",
    "\n",
    "One of the ways to do matching is called \"Propensity Score Matching.\" There, we calculate a *propensity score* for each subject which represents the propensity to receive a \"treatment.\" Then, we match subjects who received and did not receive the treatment, but that had similar propensity scores (that is, even though some received the treatment and some did not, they had similar chances to receive it).\n",
    "\n",
    "In our specific case, we can further attempt to study the impact of pre-prints by considering publishing to arxiv as our \"treatment\".\n",
    "\n",
    "In that context, the first step to perform propensity score matching is to create a classifier that predicts whether a paper was published on arxiv or not.\n",
    "\n",
    "1. We have trained this classifier for you (don't get spoiled!). You may load the pandas dataframe entitled `propensity_scores.csv.gz` from the github repo. \n",
    "Notice that we will be using only the articles published in 2020. \n",
    "Create a new dataframe that is a merged version of this new dataframe with the dataframe you have been working on so far. Remember to keep only the papers published in 2020!\n",
    "2. **Discuss:** In which way is this classifier (that is a classifier trained to estimate propensity scores) different from the previous classifier that you trained in Step 1?\n",
    "\n",
    "**Hint:** For a classifier tra we don't need a training set and a test set!\n"
   ]
  },
  {
   "cell_type": "code",
   "execution_count": 212,
   "metadata": {},
   "outputs": [],
   "source": [
    "### Task 3.1 ###\n",
    "propensity = pd.read_csv('data/propensity_scores.csv.gz', compression='gzip')\n",
    "papers20=papers20.merge(propensity, left_on='paper', right_on='paper')"
   ]
  },
  {
   "cell_type": "markdown",
   "metadata": {},
   "source": [
    "# 3.1.2\n",
    "In task 1 we train the model to estimate the ratings. Propensity score classifier is trained to estimate the probability that subject is treated (arxiv) assuming the naive model."
   ]
  },
  {
   "cell_type": "markdown",
   "metadata": {},
   "source": [
    "### Task 3.2\n",
    "\n",
    "Now is time to match users! You will be implementing a technique called *caliper matching*. \n",
    "\n",
    "Create pairs of users as follows. For each treated subject (here a paper that was submitted to arxiv), find a non-treated subject (a paper that was not submitted to arxiv) with similar propensity score. Namely, if the propensity score of the treated unit is $p_t$, you must find a non-treated unit $p_c$ with propensity score $|p_{c} - p_t| < \\epsilon$. If there is no such a non-treated unit, you may ignore the treated unit and move forward with the matching. Notice that your output must be a 1-to-1 matching. So each paper can only be matched once.\n",
    "\n",
    "1. Perform this matching procedure using $\\epsilon = 0.05$.\n",
    "2. Report how many pairs did you manage to match? How many didn't you?"
   ]
  },
  {
   "cell_type": "code",
   "execution_count": 244,
   "metadata": {},
   "outputs": [
    {
     "name": "stdout",
     "output_type": "stream",
     "text": [
      "We have matched  590  out of  590  treated cases\n"
     ]
    }
   ],
   "source": [
    "### Task 3.2 ###\n",
    "\n",
    "def caliper_matching(first,other,cal_value):\n",
    "    other_cp=other.copy()\n",
    "    \n",
    "    index_pairs_1=[]\n",
    "    index_pairs_2=[]\n",
    "    \n",
    "    # We take best possible pair, not the first one that satisfy condition \n",
    "    for index,value in first.items():\n",
    "            err=1.\n",
    "            for index2,value2 in other_cp.items():\n",
    "                temp=abs(value-value2)\n",
    "                # Get the best possible pair\n",
    "                if temp<err:\n",
    "                    err=temp;\n",
    "                    temp_index=index2\n",
    "                    \n",
    "            # Check if best possible pair is good enough\n",
    "            if err<cal_value:\n",
    "                index_pairs_1.append(index)\n",
    "                index_pairs_2.append(temp_index)\n",
    "                # Drop paired elements so that matching is 1 to 1\n",
    "                other_cp.drop(temp_index,inplace=True)\n",
    "                \n",
    "    # Note that in order to increase the quality of the matching one could also do matching without droping the duplicates and then to pick among the duplicates\n",
    "    #ones with the smallest difference e.   \n",
    "    \n",
    "    return index_pairs_1,index_pairs_2;\n",
    "\n",
    " \n",
    "mask=papers20['arxiv']==True\n",
    "papers20_treated=papers20[mask]\n",
    "papers20_not_treated=papers20[~mask]\n",
    "\n",
    "ind_treat,ind_not=caliper_matching(papers20_treated['propensity_score'],papers20_not_treated['propensity_score'],0.05)\n",
    "\n",
    "matched_treated=papers20_treated.loc[ind_treat]\n",
    "matched_not_treated=papers20_not_treated.loc[ind_not]\n",
    "\n",
    "print(\"We have matched \",len(ind1_treat),\" out of \",papers20_treated.shape[0], \" treated cases\")"
   ]
  },
  {
   "cell_type": "markdown",
   "metadata": {},
   "source": [
    "# 3.2.2\n",
    "We found a match for all of treated papers, relatively high number of untreated papers allowed this."
   ]
  },
  {
   "cell_type": "markdown",
   "metadata": {
    "pycharm": {
     "name": "#%% md\n"
    }
   },
   "source": [
    "### Task 3.3\n",
    "\n",
    "Let's evaluate your matching! There are more rigorous ways to do it, but we'll go the easy path.\n",
    "\n",
    "\n",
    "1. Using one or several appropriate plot types, visualize the distributions of the variables reputation and ratings, for treated and non-treated subjects that you matched.\n",
    "2. Visualize the distributions of these variables for all papers from 2020 that appeared on arxiv, and all papers that did not (including those you did not manage to match).\n",
    "3. **Discuss:** According to your visual analysis (no statistical tests needed here), did the matching do a good job at balancing covariates?"
   ]
  },
  {
   "cell_type": "code",
   "execution_count": 243,
   "metadata": {
    "pycharm": {
     "name": "#%%\n"
    }
   },
   "outputs": [
    {
     "name": "stdout",
     "output_type": "stream",
     "text": [
      "         year     ratings   decisions  arxiv  author_citations_median  \\\n",
      "count   590.0  590.000000  590.000000  590.0               590.000000   \n",
      "mean   2020.0    4.799068    0.400000    1.0              2026.070339   \n",
      "std       0.0    1.487178    0.490314    0.0              5730.627784   \n",
      "min    2020.0    1.000000    0.000000    1.0                 2.000000   \n",
      "25%    2020.0    4.000000    0.000000    1.0               198.250000   \n",
      "50%    2020.0    5.000000    0.000000    1.0               567.000000   \n",
      "75%    2020.0    6.000000    1.000000    1.0              1701.125000   \n",
      "max    2020.0    8.000000    1.000000    1.0            104743.500000   \n",
      "\n",
      "       authors_publications_median  authors_hindex_median  reputation  \\\n",
      "count                   590.000000             590.000000  590.000000   \n",
      "mean                     57.804237              12.517797    1.430553   \n",
      "std                      90.081901               9.969611    0.527993   \n",
      "min                       2.000000               1.000000    0.109144   \n",
      "25%                      20.000000               6.000000    1.098410   \n",
      "50%                      35.250000              10.000000    1.447166   \n",
      "75%                      63.375000              15.500000    1.794849   \n",
      "max                    1514.500000              79.500000    2.975924   \n",
      "\n",
      "       has_top_company  has_top_institution       crazy  propensity_score  \n",
      "count       590.000000           590.000000  590.000000        590.000000  \n",
      "mean          0.238983             0.272881    0.158559          0.311581  \n",
      "std           0.426824             0.445818    3.338101          0.079968  \n",
      "min           0.000000             0.000000   -4.750000          0.104777  \n",
      "25%           0.000000             0.000000   -3.333333          0.253300  \n",
      "50%           0.000000             0.000000    2.333333          0.310575  \n",
      "75%           0.000000             1.000000    3.250000          0.369462  \n",
      "max           1.000000             1.000000    4.000000          0.564158  \n",
      "         year     ratings   decisions  arxiv  author_citations_median  \\\n",
      "count   590.0  590.000000  590.000000  590.0               590.000000   \n",
      "mean   2020.0    4.802627    0.364407    0.0              1337.227966   \n",
      "std       0.0    1.531212    0.481672    0.0              2619.222623   \n",
      "min    2020.0    1.000000    0.000000    0.0                 0.500000   \n",
      "25%    2020.0    4.000000    0.000000    0.0               157.000000   \n",
      "50%    2020.0    5.000000    0.000000    0.0               448.500000   \n",
      "75%    2020.0    6.000000    1.000000    0.0              1324.125000   \n",
      "max    2020.0    8.000000    1.000000    0.0             26006.000000   \n",
      "\n",
      "       authors_publications_median  authors_hindex_median  reputation  \\\n",
      "count                   590.000000             590.000000  590.000000   \n",
      "mean                     47.662712              10.942373    1.428255   \n",
      "std                      43.677392               8.544604    0.522482   \n",
      "min                       1.500000               0.500000    0.066947   \n",
      "25%                      20.125000               5.000000    1.118062   \n",
      "50%                      34.000000               9.000000    1.458883   \n",
      "75%                      58.000000              14.000000    1.772795   \n",
      "max                     357.000000              52.500000    2.975924   \n",
      "\n",
      "       has_top_company  has_top_institution       crazy  propensity_score  \n",
      "count       590.000000           590.000000  590.000000        590.000000  \n",
      "mean          0.218644             0.279661    0.032966          0.311522  \n",
      "std           0.413677             0.449213    3.329275          0.079854  \n",
      "min           0.000000             0.000000   -4.666667          0.104224  \n",
      "25%           0.000000             0.000000   -3.750000          0.253229  \n",
      "50%           0.000000             0.000000    1.666667          0.310424  \n",
      "75%           0.000000             1.000000    3.000000          0.369315  \n",
      "max           1.000000             1.000000    4.000000          0.567842  \n"
     ]
    }
   ],
   "source": [
    "### Your code here! ###\n",
    "print(matched_treated.describe())\n",
    "print(matched_not_treated.describe())"
   ]
  },
  {
   "cell_type": "markdown",
   "metadata": {
    "pycharm": {
     "name": "#%% md\n"
    }
   },
   "source": [
    "### Task 3.4\n",
    "\n",
    "Finally, it's time to estimate the treatment effect. Given that we have pairs of matched samples, one that received treatment and one that did not, and that they have associated outcomes $y_{treat}$ and $y_{\\neg treat}$. We can calculate the average treatment effect as:\n",
    "\n",
    "$$\n",
    "ATE = \\frac{1}{N} \\sum_i^N  y_{treat}^{(i)} - y_{\\neg treat}^{(i)}\n",
    "$$\n",
    "\n",
    "Notice that here the outcome is a simple binary variable which equals 1 if the paper has been accepted and equals 0 if the paper has been rejected, and $N$ is the total number of matched samples in our analysis.\n",
    "\n",
    "According to your matched sample, estimate the treatment effect of publishing a paper on arxiv. Report the 95% CI through bootstrapping.\n"
   ]
  },
  {
   "cell_type": "code",
   "execution_count": null,
   "metadata": {
    "pycharm": {
     "name": "#%%\n"
    }
   },
   "outputs": [],
   "source": [
    "### Your code here! ###"
   ]
  },
  {
   "cell_type": "markdown",
   "metadata": {
    "pycharm": {
     "name": "#%% md\n"
    }
   },
   "source": [
    "### Task 3.5\n",
    "\n",
    "Wait, but what about prestigious institutions? \n",
    "\n",
    "1.  To understand what is going on there, repeat tasks 3.2 to 3.4 considering *only* the top 10 institutions. Notice that you can use the same propensity scores and re-do the steps in a reduced dataframe containing only top-institutions.\n",
    "2. **Discuss:** Is this evidence that arxiv breaks double-blind submissions?"
   ]
  },
  {
   "cell_type": "code",
   "execution_count": null,
   "metadata": {
    "pycharm": {
     "name": "#%%\n"
    }
   },
   "outputs": [],
   "source": [
    "### Your code here! ###"
   ]
  }
 ],
 "metadata": {
  "kernelspec": {
   "display_name": "Python 3",
   "language": "python",
   "name": "python3"
  },
  "language_info": {
   "codemirror_mode": {
    "name": "ipython",
    "version": 3
   },
   "file_extension": ".py",
   "mimetype": "text/x-python",
   "name": "python",
   "nbconvert_exporter": "python",
   "pygments_lexer": "ipython3",
   "version": "3.8.5"
  },
  "pycharm": {
   "stem_cell": {
    "cell_type": "raw",
    "metadata": {
     "collapsed": false
    },
    "source": []
   }
  }
 },
 "nbformat": 4,
 "nbformat_minor": 4
}
