{
 "cells": [
  {
   "cell_type": "markdown",
   "metadata": {
    "pycharm": {
     "name": "#%% md\n"
    }
   },
   "source": [
    "# Homework 1 (HW1)\n",
    "\n",
    "---\n",
    "By the end of this homework we expect you to be able to:\n",
    "1. Load data from different formats using [pandas](https://pandas.pydata.org/);\n",
    "2. Navigate the documentation of Python packages by yourself;\n",
    "3. Filter and tidy up noisy data sets;\n",
    "4. Aggregate your data in different (and hopefully helpful) ways; and\n",
    "5. Create meaningful visualizations to analyze the data!\n",
    "---\n",
    "\n",
    "## Important Dates\n",
    "\n",
    "- Homework release: Fri 2 Oct 2020\n",
    "- **Homework due**: Fri 16 Oct 2020, 23:59\n",
    "- Grade release: Fri 23 Oct 2020\n",
    "\n",
    "---\n",
    "\n",
    "##  Some rules\n",
    "\n",
    "1. You are allowed to use any built-in Python library that comes with Anaconda. If you want to use an external library, you have to justify your choice.\n",
    "2. Make sure you use the `data` folder provided in the repository in **read-only** mode.\n",
    "3. Be sure to provide a textual description of your thought process, the assumptions you made, the solution you implemented, and explanations for your answers. A notebook that only has code cells will not suffice.\n",
    "4. For questions containing the **/Discuss:/** prefix, answer not with code, but with a textual explanation (in either comments or markdown).\n",
    "5. Back up any hypotheses and claims with data, since this is an important aspect of the course.\n",
    "6. Please write all your comments in English, and use meaningful variable names in your code. Your repo should have a single notebook (plus the required data files) in the master branch. If there are multiple notebooks present, we will not grade anything.\n",
    "7. Also, be sure to hand in a fully-run and evaluated notebook. We will not run your notebook for you, we will grade it as is, which means that only the results contained in your evaluated code cells will be considered, and we will not see the results in unevaluated code cells. In order to check whether everything looks as intended, you can check the rendered notebook on the GitHub website once you have pushed your solution there.\n",
    "8. Make sure to print results or dataframes that confirm you have properly addressed the task.\n",
    "\n",
    "\n",
    "\n",
    "## Context\n",
    "\n",
    "The coronavirus pandemic has led to the implementation of unprecedented non-pharmaceutical interventions ranging from case isolation to national lockdowns. These interventions, along with the disease itself, have created massive shifts in people’s lives. For instance, in mid-May 2020, more than one third of the global population was under lockdown, and millions have since lost their jobs or have moved to work-from-home arrangements.\n",
    "\n",
    "\n",
    "Importantly, the disease has shifted people's [needs](https://en.wikipedia.org/wiki/Toilet_paper), [interests](https://en.wikipedia.org/wiki/TikTok), and [concerns](https://en.wikipedia.org/wiki/COVID-19_pandemic_in_Switzerland) across the globe.\n",
    "\n",
    "In this homework, we will take a deep dive into Wikipedia data and try to uncover what changed with the pandemic. More specifically, we will be focusing on Wikipedia pageviews, that is, how many people read each article on Wikipedia each day.\n",
    "A nice graphical user interface for playing with Wikipedia pageviews is available [here](https://pageviews.toolforge.org/?project=en.wikipedia.org&platform=all-access&agent=user&redirects=0&range=latest-20&pages=Cat|Dog).\n",
    "Also, the Wikimedia Foundation releases dump files with the number of pageviews per article across all Wikimedia websites, including Wikipedia in all its language editions [(amazing, right?)](https://dumps.wikimedia.org/other/pagecounts-ez/). \n",
    "\n",
    "#### But wait, what is a pageview?\n",
    "\n",
    "> A pageview or page view, abbreviated in business to PV and occasionally called page impression, is a request to load a single HTML file (web page) of an Internet site. On the World Wide Web, a page request would result from a web surfer clicking on a link on another page pointing to the page in question. (Source: [Wikipedia article \"Pageviews\"](https://en.wikipedia.org/wiki/Pageview))\n",
    "\n",
    "Pageviews in Wikipedia can tell us that people are looking for certain information online. Analyzing how the volume and the distribution of pageviews changed can tell us about how the behavior of Wikipedia readers has changed.\n",
    "\n",
    "In this homework, you will take a deep dive into analyzing Wikipedia pageview logs and uncover shifts in interests associated with the current pandemic.\n",
    "\n",
    "---\n",
    "\n",
    "## The data\n",
    "\n",
    "First, you need to download a **meraviglioso** dataset from the Italian Wikipedia that we prepared for you. The structure of the data is described next. \n",
    "\n",
    "**The dataset is available in the `data` directory pushed to the same GitHub repo as the homework**. Inside of the data directory, you will find three files:\n",
    "\n",
    "### `articles.tsv.gz`\n",
    "\n",
    "This is a tab-separated file containing daily pageviews for a subset of the articles from Italian Wikipedia. It is compressed! Each row corresponds to a different article, and each column (except the first) corresponds to the number of pageviews this article received on a given day. The example below shows the structure for two of the things [Kristina Gligorić](https://kristinagligoric.github.io/), one of your TAs, likes the most on her Pizza:\n",
    "\n",
    "**Example:**\n",
    "~~~\n",
    "index       2018-01-01 00:00:00    2018-01-02 00:00:00 (...)\n",
    "Formaggio   100                    101                 (...)\n",
    "Ananas      12                     54                  (...)\n",
    "(...)       (...)                  (...)\n",
    "~~~\n",
    "\n",
    "\n",
    "### `topics.jsonl.gz`\n",
    "\n",
    "This is a classification of which topics an article belongs to, according to a model released by the Wikimedia Foundation (the classes are derived from this [taxonomy](https://www.mediawiki.org/wiki/ORES/Articletopic)). Importantly, this file was obtained from English Wikipedia, while the previous one contains articles from the Italian Wikipedia. This is important because article titles in the Italian Wikipedia are in Italian, while article titles in the English page are in English (duh!). In any case, each line contains a .json object with\n",
    "the English name of the article (name);\n",
    "1. the English name of the article (`name`);\n",
    "2. a set of fields related to topics themselves. Each of these fields is set as either `True` (if the article belongs to this topic) or `False` (if it does not). Notice that the same article may belong to multiple topics. \n",
    "\n",
    "**Example:**\n",
    "~~~\n",
    "{\"index\": \"Cheese\", \"Culture.Food and drink\": True, \"Culture.Literature\": False (...)}\n",
    "{\"index\": \"Pineapple\", \"Culture.Food and drink\": True, \"Culture.Literature\": False (...)}\n",
    "(...)\n",
    "~~~\n",
    "\n",
    " \n",
    "### `mapping.pickle`\n",
    "\n",
    "This is a `.pickle` file, that is, a serialized Python object. You can read about Python pickles  [here](https://wiki.python.org/moin/UsingPickle), \n",
    "but in short: the default Python library `pickle` allows you to save and load Python objects to and from disk. This is one object saved via the pickle library: a Python dictionary containing a mapping between the English names and the Italian names of Wikipedia articles:\n",
    "\n",
    "**Example:**\n",
    "~~~\n",
    "{\n",
    "    \"Cheese\": \"Formaggio\",\n",
    "    \"Ananas\": \"Pineapple\"\n",
    "    (...)\n",
    "}\n",
    "~~~\n",
    "---"
   ]
  },
  {
   "cell_type": "markdown",
   "metadata": {},
   "source": [
    "\n",
    "## _Step 1:_ Loading the data\n",
    "\n",
    "---\n",
    "### **Task 1**\n",
    "\n",
    "Your first task is to load all these datasets into memory using pandas and pickle. \n",
    "**You should load the files compressed.**\n",
    "\n",
    "Here, the files at hand are rather small, and you could easily uncompress  the files to disk and work with them as plain text. \n",
    "Why, then, are we asking you to load the files compressed? The reason is that, in your life as a data scientist, this will often not be the case.\n",
    "\n",
    "Then, working with compressed files is key so that you don't receive e-mail from your (often more responsible) colleagues demanding to know how you have managed to fill the entire cluster with your datasets. \n",
    "Another big advantage of compressing files is to simply read files faster. You will often find that reading compressed data on the fly (uncompressing it as you go), is much faster than reading compressed data, since reading and writing to the disk may be your [bottleneck](https://skipperkongen.dk/2012/02/28/uncompressed-versus-compressed-read/). \n",
    "\n",
    " \n",
    "---\n",
    "\n",
    "**Hint:** `pandas` can open compressed files.\n",
    "\n",
    "**Hint:** In the real world (and in ADA-homework), your file often comes with some weird lines! \n",
    "This time you can safely ignore them (but in the real world you must try to understand why they are there!). Check the `error_bad_lines` parameter on `read_csv`."
   ]
  },
  {
   "cell_type": "code",
   "execution_count": 1,
   "metadata": {},
   "outputs": [
    {
     "name": "stderr",
     "output_type": "stream",
     "text": [
      "b'Skipping line 7: expected 944 fields, saw 945\\n'\n"
     ]
    },
    {
     "data": {
      "text/html": [
       "<div>\n",
       "<style scoped>\n",
       "    .dataframe tbody tr th:only-of-type {\n",
       "        vertical-align: middle;\n",
       "    }\n",
       "\n",
       "    .dataframe tbody tr th {\n",
       "        vertical-align: top;\n",
       "    }\n",
       "\n",
       "    .dataframe thead th {\n",
       "        text-align: right;\n",
       "    }\n",
       "</style>\n",
       "<table border=\"1\" class=\"dataframe\">\n",
       "  <thead>\n",
       "    <tr style=\"text-align: right;\">\n",
       "      <th></th>\n",
       "      <th>Article</th>\n",
       "      <th>2018-01-01 00:00:00</th>\n",
       "      <th>2018-01-02 00:00:00</th>\n",
       "      <th>2018-01-03 00:00:00</th>\n",
       "      <th>2018-01-04 00:00:00</th>\n",
       "      <th>2018-01-05 00:00:00</th>\n",
       "      <th>2018-01-06 00:00:00</th>\n",
       "      <th>2018-01-07 00:00:00</th>\n",
       "      <th>2018-01-08 00:00:00</th>\n",
       "      <th>2018-01-09 00:00:00</th>\n",
       "      <th>...</th>\n",
       "      <th>2020-07-22 00:00:00</th>\n",
       "      <th>2020-07-23 00:00:00</th>\n",
       "      <th>2020-07-24 00:00:00</th>\n",
       "      <th>2020-07-25 00:00:00</th>\n",
       "      <th>2020-07-26 00:00:00</th>\n",
       "      <th>2020-07-27 00:00:00</th>\n",
       "      <th>2020-07-28 00:00:00</th>\n",
       "      <th>2020-07-29 00:00:00</th>\n",
       "      <th>2020-07-30 00:00:00</th>\n",
       "      <th>2020-07-31 00:00:00</th>\n",
       "    </tr>\n",
       "  </thead>\n",
       "  <tbody>\n",
       "    <tr>\n",
       "      <th>0</th>\n",
       "      <td>Khulna</td>\n",
       "      <td>0</td>\n",
       "      <td>2</td>\n",
       "      <td>1</td>\n",
       "      <td>0</td>\n",
       "      <td>0</td>\n",
       "      <td>2</td>\n",
       "      <td>0</td>\n",
       "      <td>2</td>\n",
       "      <td>0</td>\n",
       "      <td>...</td>\n",
       "      <td>0</td>\n",
       "      <td>1</td>\n",
       "      <td>1</td>\n",
       "      <td>0</td>\n",
       "      <td>1</td>\n",
       "      <td>1</td>\n",
       "      <td>0</td>\n",
       "      <td>2</td>\n",
       "      <td>1</td>\n",
       "      <td>2</td>\n",
       "    </tr>\n",
       "    <tr>\n",
       "      <th>1</th>\n",
       "      <td>Karim_Ansarifard</td>\n",
       "      <td>1</td>\n",
       "      <td>5</td>\n",
       "      <td>1</td>\n",
       "      <td>1</td>\n",
       "      <td>1</td>\n",
       "      <td>3</td>\n",
       "      <td>6</td>\n",
       "      <td>4</td>\n",
       "      <td>5</td>\n",
       "      <td>...</td>\n",
       "      <td>2</td>\n",
       "      <td>2</td>\n",
       "      <td>0</td>\n",
       "      <td>1</td>\n",
       "      <td>2</td>\n",
       "      <td>0</td>\n",
       "      <td>1</td>\n",
       "      <td>0</td>\n",
       "      <td>0</td>\n",
       "      <td>0</td>\n",
       "    </tr>\n",
       "    <tr>\n",
       "      <th>2</th>\n",
       "      <td>Poldhu</td>\n",
       "      <td>0</td>\n",
       "      <td>0</td>\n",
       "      <td>1</td>\n",
       "      <td>1</td>\n",
       "      <td>0</td>\n",
       "      <td>1</td>\n",
       "      <td>0</td>\n",
       "      <td>2</td>\n",
       "      <td>2</td>\n",
       "      <td>...</td>\n",
       "      <td>0</td>\n",
       "      <td>2</td>\n",
       "      <td>2</td>\n",
       "      <td>0</td>\n",
       "      <td>0</td>\n",
       "      <td>0</td>\n",
       "      <td>2</td>\n",
       "      <td>1</td>\n",
       "      <td>2</td>\n",
       "      <td>1</td>\n",
       "    </tr>\n",
       "    <tr>\n",
       "      <th>3</th>\n",
       "      <td>Alice_(The_Sisters_of_Mercy)</td>\n",
       "      <td>0</td>\n",
       "      <td>1</td>\n",
       "      <td>0</td>\n",
       "      <td>0</td>\n",
       "      <td>1</td>\n",
       "      <td>1</td>\n",
       "      <td>1</td>\n",
       "      <td>1</td>\n",
       "      <td>0</td>\n",
       "      <td>...</td>\n",
       "      <td>0</td>\n",
       "      <td>0</td>\n",
       "      <td>0</td>\n",
       "      <td>0</td>\n",
       "      <td>0</td>\n",
       "      <td>1</td>\n",
       "      <td>0</td>\n",
       "      <td>0</td>\n",
       "      <td>0</td>\n",
       "      <td>0</td>\n",
       "    </tr>\n",
       "    <tr>\n",
       "      <th>4</th>\n",
       "      <td>Palmyra</td>\n",
       "      <td>1</td>\n",
       "      <td>4</td>\n",
       "      <td>0</td>\n",
       "      <td>0</td>\n",
       "      <td>0</td>\n",
       "      <td>2</td>\n",
       "      <td>11</td>\n",
       "      <td>2</td>\n",
       "      <td>0</td>\n",
       "      <td>...</td>\n",
       "      <td>0</td>\n",
       "      <td>0</td>\n",
       "      <td>1</td>\n",
       "      <td>0</td>\n",
       "      <td>0</td>\n",
       "      <td>0</td>\n",
       "      <td>1</td>\n",
       "      <td>0</td>\n",
       "      <td>0</td>\n",
       "      <td>0</td>\n",
       "    </tr>\n",
       "  </tbody>\n",
       "</table>\n",
       "<p>5 rows × 944 columns</p>\n",
       "</div>"
      ],
      "text/plain": [
       "                        Article  2018-01-01 00:00:00  2018-01-02 00:00:00  \\\n",
       "0                        Khulna                    0                    2   \n",
       "1              Karim_Ansarifard                    1                    5   \n",
       "2                        Poldhu                    0                    0   \n",
       "3  Alice_(The_Sisters_of_Mercy)                    0                    1   \n",
       "4                       Palmyra                    1                    4   \n",
       "\n",
       "   2018-01-03 00:00:00  2018-01-04 00:00:00  2018-01-05 00:00:00  \\\n",
       "0                    1                    0                    0   \n",
       "1                    1                    1                    1   \n",
       "2                    1                    1                    0   \n",
       "3                    0                    0                    1   \n",
       "4                    0                    0                    0   \n",
       "\n",
       "   2018-01-06 00:00:00  2018-01-07 00:00:00  2018-01-08 00:00:00  \\\n",
       "0                    2                    0                    2   \n",
       "1                    3                    6                    4   \n",
       "2                    1                    0                    2   \n",
       "3                    1                    1                    1   \n",
       "4                    2                   11                    2   \n",
       "\n",
       "   2018-01-09 00:00:00  ...  2020-07-22 00:00:00  2020-07-23 00:00:00  \\\n",
       "0                    0  ...                    0                    1   \n",
       "1                    5  ...                    2                    2   \n",
       "2                    2  ...                    0                    2   \n",
       "3                    0  ...                    0                    0   \n",
       "4                    0  ...                    0                    0   \n",
       "\n",
       "   2020-07-24 00:00:00  2020-07-25 00:00:00  2020-07-26 00:00:00  \\\n",
       "0                    1                    0                    1   \n",
       "1                    0                    1                    2   \n",
       "2                    2                    0                    0   \n",
       "3                    0                    0                    0   \n",
       "4                    1                    0                    0   \n",
       "\n",
       "   2020-07-27 00:00:00  2020-07-28 00:00:00  2020-07-29 00:00:00  \\\n",
       "0                    1                    0                    2   \n",
       "1                    0                    1                    0   \n",
       "2                    0                    2                    1   \n",
       "3                    1                    0                    0   \n",
       "4                    0                    1                    0   \n",
       "\n",
       "   2020-07-30 00:00:00  2020-07-31 00:00:00  \n",
       "0                    1                    2  \n",
       "1                    0                    0  \n",
       "2                    2                    1  \n",
       "3                    0                    0  \n",
       "4                    0                    0  \n",
       "\n",
       "[5 rows x 944 columns]"
      ]
     },
     "execution_count": 1,
     "metadata": {},
     "output_type": "execute_result"
    }
   ],
   "source": [
    "import pandas as pd\n",
    "import pickle\n",
    "import time\n",
    "### ~ 1.1\n",
    "### Your code here! ###\n",
    "data_articles = pd.read_csv('data/articles.tsv.gz', compression='gzip', header=0, sep='\\t', error_bad_lines=False)\n",
    "data_articles = data_articles.rename(columns={'index':'Article'})\n",
    "data_articles.head()"
   ]
  },
  {
   "cell_type": "code",
   "execution_count": 2,
   "metadata": {},
   "outputs": [
    {
     "data": {
      "text/html": [
       "<div>\n",
       "<style scoped>\n",
       "    .dataframe tbody tr th:only-of-type {\n",
       "        vertical-align: middle;\n",
       "    }\n",
       "\n",
       "    .dataframe tbody tr th {\n",
       "        vertical-align: top;\n",
       "    }\n",
       "\n",
       "    .dataframe thead th {\n",
       "        text-align: right;\n",
       "    }\n",
       "</style>\n",
       "<table border=\"1\" class=\"dataframe\">\n",
       "  <thead>\n",
       "    <tr style=\"text-align: right;\">\n",
       "      <th></th>\n",
       "      <th>Topic</th>\n",
       "      <th>Geography.Regions.Asia.Central Asia</th>\n",
       "      <th>Geography.Regions.Europe.Eastern Europe</th>\n",
       "      <th>History and Society.Military and warfare</th>\n",
       "      <th>Culture.Media.Television</th>\n",
       "      <th>History and Society.Education</th>\n",
       "      <th>Culture.Media.Books</th>\n",
       "      <th>Geography.Regions.Africa.Africa*</th>\n",
       "      <th>Culture.Visual arts.Architecture</th>\n",
       "      <th>Culture.Biography.Women</th>\n",
       "      <th>...</th>\n",
       "      <th>STEM.Mathematics</th>\n",
       "      <th>Geography.Regions.Asia.West Asia</th>\n",
       "      <th>STEM.Chemistry</th>\n",
       "      <th>Geography.Regions.Europe.Northern Europe</th>\n",
       "      <th>Culture.Media.Video games</th>\n",
       "      <th>Geography.Regions.Asia.Southeast Asia</th>\n",
       "      <th>Culture.Media.Entertainment</th>\n",
       "      <th>Culture.Media.Music</th>\n",
       "      <th>Geography.Regions.Asia.Asia*</th>\n",
       "      <th>Geography.Regions.Asia.North Asia</th>\n",
       "    </tr>\n",
       "  </thead>\n",
       "  <tbody>\n",
       "    <tr>\n",
       "      <th>0</th>\n",
       "      <td>Chinese_food_therapy</td>\n",
       "      <td>False</td>\n",
       "      <td>False</td>\n",
       "      <td>False</td>\n",
       "      <td>False</td>\n",
       "      <td>False</td>\n",
       "      <td>False</td>\n",
       "      <td>False</td>\n",
       "      <td>False</td>\n",
       "      <td>False</td>\n",
       "      <td>...</td>\n",
       "      <td>False</td>\n",
       "      <td>False</td>\n",
       "      <td>False</td>\n",
       "      <td>False</td>\n",
       "      <td>False</td>\n",
       "      <td>False</td>\n",
       "      <td>False</td>\n",
       "      <td>False</td>\n",
       "      <td>True</td>\n",
       "      <td>False</td>\n",
       "    </tr>\n",
       "    <tr>\n",
       "      <th>1</th>\n",
       "      <td>Battle_of_Naissus</td>\n",
       "      <td>False</td>\n",
       "      <td>False</td>\n",
       "      <td>True</td>\n",
       "      <td>False</td>\n",
       "      <td>False</td>\n",
       "      <td>False</td>\n",
       "      <td>False</td>\n",
       "      <td>False</td>\n",
       "      <td>False</td>\n",
       "      <td>...</td>\n",
       "      <td>False</td>\n",
       "      <td>False</td>\n",
       "      <td>False</td>\n",
       "      <td>False</td>\n",
       "      <td>False</td>\n",
       "      <td>False</td>\n",
       "      <td>False</td>\n",
       "      <td>False</td>\n",
       "      <td>False</td>\n",
       "      <td>False</td>\n",
       "    </tr>\n",
       "    <tr>\n",
       "      <th>2</th>\n",
       "      <td>Battle_of_Stoke_Field</td>\n",
       "      <td>False</td>\n",
       "      <td>False</td>\n",
       "      <td>True</td>\n",
       "      <td>False</td>\n",
       "      <td>False</td>\n",
       "      <td>False</td>\n",
       "      <td>False</td>\n",
       "      <td>False</td>\n",
       "      <td>False</td>\n",
       "      <td>...</td>\n",
       "      <td>False</td>\n",
       "      <td>False</td>\n",
       "      <td>False</td>\n",
       "      <td>True</td>\n",
       "      <td>False</td>\n",
       "      <td>False</td>\n",
       "      <td>False</td>\n",
       "      <td>False</td>\n",
       "      <td>False</td>\n",
       "      <td>False</td>\n",
       "    </tr>\n",
       "    <tr>\n",
       "      <th>3</th>\n",
       "      <td>Smooth_newt</td>\n",
       "      <td>False</td>\n",
       "      <td>False</td>\n",
       "      <td>False</td>\n",
       "      <td>False</td>\n",
       "      <td>False</td>\n",
       "      <td>False</td>\n",
       "      <td>False</td>\n",
       "      <td>False</td>\n",
       "      <td>False</td>\n",
       "      <td>...</td>\n",
       "      <td>False</td>\n",
       "      <td>False</td>\n",
       "      <td>False</td>\n",
       "      <td>False</td>\n",
       "      <td>False</td>\n",
       "      <td>False</td>\n",
       "      <td>False</td>\n",
       "      <td>False</td>\n",
       "      <td>False</td>\n",
       "      <td>False</td>\n",
       "    </tr>\n",
       "    <tr>\n",
       "      <th>4</th>\n",
       "      <td>Vicente_Aleixandre</td>\n",
       "      <td>False</td>\n",
       "      <td>False</td>\n",
       "      <td>False</td>\n",
       "      <td>False</td>\n",
       "      <td>False</td>\n",
       "      <td>False</td>\n",
       "      <td>False</td>\n",
       "      <td>False</td>\n",
       "      <td>False</td>\n",
       "      <td>...</td>\n",
       "      <td>False</td>\n",
       "      <td>False</td>\n",
       "      <td>False</td>\n",
       "      <td>False</td>\n",
       "      <td>False</td>\n",
       "      <td>False</td>\n",
       "      <td>False</td>\n",
       "      <td>False</td>\n",
       "      <td>False</td>\n",
       "      <td>False</td>\n",
       "    </tr>\n",
       "  </tbody>\n",
       "</table>\n",
       "<p>5 rows × 65 columns</p>\n",
       "</div>"
      ],
      "text/plain": [
       "                   Topic  Geography.Regions.Asia.Central Asia  \\\n",
       "0   Chinese_food_therapy                                False   \n",
       "1      Battle_of_Naissus                                False   \n",
       "2  Battle_of_Stoke_Field                                False   \n",
       "3            Smooth_newt                                False   \n",
       "4     Vicente_Aleixandre                                False   \n",
       "\n",
       "   Geography.Regions.Europe.Eastern Europe  \\\n",
       "0                                    False   \n",
       "1                                    False   \n",
       "2                                    False   \n",
       "3                                    False   \n",
       "4                                    False   \n",
       "\n",
       "   History and Society.Military and warfare  Culture.Media.Television  \\\n",
       "0                                     False                     False   \n",
       "1                                      True                     False   \n",
       "2                                      True                     False   \n",
       "3                                     False                     False   \n",
       "4                                     False                     False   \n",
       "\n",
       "   History and Society.Education  Culture.Media.Books  \\\n",
       "0                          False                False   \n",
       "1                          False                False   \n",
       "2                          False                False   \n",
       "3                          False                False   \n",
       "4                          False                False   \n",
       "\n",
       "   Geography.Regions.Africa.Africa*  Culture.Visual arts.Architecture  \\\n",
       "0                             False                             False   \n",
       "1                             False                             False   \n",
       "2                             False                             False   \n",
       "3                             False                             False   \n",
       "4                             False                             False   \n",
       "\n",
       "   Culture.Biography.Women  ...  STEM.Mathematics  \\\n",
       "0                    False  ...             False   \n",
       "1                    False  ...             False   \n",
       "2                    False  ...             False   \n",
       "3                    False  ...             False   \n",
       "4                    False  ...             False   \n",
       "\n",
       "   Geography.Regions.Asia.West Asia  STEM.Chemistry  \\\n",
       "0                             False           False   \n",
       "1                             False           False   \n",
       "2                             False           False   \n",
       "3                             False           False   \n",
       "4                             False           False   \n",
       "\n",
       "   Geography.Regions.Europe.Northern Europe  Culture.Media.Video games  \\\n",
       "0                                     False                      False   \n",
       "1                                     False                      False   \n",
       "2                                      True                      False   \n",
       "3                                     False                      False   \n",
       "4                                     False                      False   \n",
       "\n",
       "   Geography.Regions.Asia.Southeast Asia  Culture.Media.Entertainment  \\\n",
       "0                                  False                        False   \n",
       "1                                  False                        False   \n",
       "2                                  False                        False   \n",
       "3                                  False                        False   \n",
       "4                                  False                        False   \n",
       "\n",
       "   Culture.Media.Music  Geography.Regions.Asia.Asia*  \\\n",
       "0                False                          True   \n",
       "1                False                         False   \n",
       "2                False                         False   \n",
       "3                False                         False   \n",
       "4                False                         False   \n",
       "\n",
       "   Geography.Regions.Asia.North Asia  \n",
       "0                              False  \n",
       "1                              False  \n",
       "2                              False  \n",
       "3                              False  \n",
       "4                              False  \n",
       "\n",
       "[5 rows x 65 columns]"
      ]
     },
     "execution_count": 2,
     "metadata": {},
     "output_type": "execute_result"
    }
   ],
   "source": [
    "\n",
    "data_topics = pd.read_json('./data/topics.jsonl.gz', compression='gzip',lines='True')\n",
    "data_topics = data_topics.rename(columns={'index':'Topic'})\n",
    "data_topics.head()"
   ]
  },
  {
   "cell_type": "code",
   "execution_count": 3,
   "metadata": {},
   "outputs": [
    {
     "data": {
      "text/plain": [
       "{'Chinese_food_therapy': 'Dietetica_cinese',\n",
       " 'Battle_of_Naissus': 'Battaglia_di_Naisso',\n",
       " 'Battle_of_Stoke_Field': 'Battaglia_di_Stoke_Field',\n",
       " 'Smooth_newt': 'Lissotriton_vulgaris',\n",
       " 'Vicente_Aleixandre': 'Vicente_Aleixandre'}"
      ]
     },
     "execution_count": 3,
     "metadata": {},
     "output_type": "execute_result"
    }
   ],
   "source": [
    "data_mapping = pd.read_pickle('./data/mapping.pickle')\n",
    "dict(list(data_mapping.items())[0:5])"
   ]
  },
  {
   "cell_type": "markdown",
   "metadata": {
    "pycharm": {
     "name": "#%% md\n"
    }
   },
   "source": [
    "## _Step 2:_ Filtering the data\n",
    "\n",
    "---\n",
    "### **Task 2**\n",
    "\n",
    "Oh no! Something seems wrong with your dataframe!\n",
    "It seems that some of the lines in the `articles.tsv.gz` are weird! \n",
    "They have titles in the format `\"Discussione:name_of_the_page\"`.\n",
    "\n",
    "Unsure of what they mean, you ask about them in the [Wiki-research mailing list](https://lists.wikimedia.org/mailman/listinfo/wiki-research-l).\n",
    "Twenty minutes later a kind internet stranger comes with an answer! \n",
    "She tells you that these are talk pages, where people discussing what should and should not be in the article (in fact it can be pretty funny to read, eg, [you can read Italians debating about pizza](https://it.wikipedia.org/wiki/Discussione:Pizza))\n",
    "\n",
    "After understanding what they are, your task is now to filter these lines using `pandas`! After all, we are interested in pageviews going towards articles! Not discussion pages!\n",
    "\n",
    "---\n",
    "\n",
    "**Hint**: There is one of them in the position \\#180 of the dataframe, if you want to check it!"
   ]
  },
  {
   "cell_type": "code",
   "execution_count": 4,
   "metadata": {
    "pycharm": {
     "name": "#%%\n"
    }
   },
   "outputs": [
    {
     "name": "stdout",
     "output_type": "stream",
     "text": [
      "The number of removed articles is equal to 1000\n"
     ]
    }
   ],
   "source": [
    "### ~ 2.1\n",
    "### Your code here! ###\n",
    "# print(data_articles.iloc[[180],:3])\n",
    "df_size = data_articles.shape[0]\n",
    "data_articles = data_articles[data_articles['Article'].apply(lambda x:'Discussione' not in str(x))]\n",
    "df_size_filtered = data_articles.shape[0]\n",
    "# data_articles = data_articles.dropna()\n",
    "rem = df_size - df_size_filtered\n",
    "print('The number of removed articles is equal to {}'.format(rem))"
   ]
  },
  {
   "cell_type": "code",
   "execution_count": 5,
   "metadata": {
    "pycharm": {
     "name": "#%%\n"
    }
   },
   "outputs": [],
   "source": [
    "# ### ~ 2.1\n",
    "# ### Your code here! ###\n",
    "# data_articles.loc[[180]]\n",
    "# data_articles=data_articles[data_articles['Article'].apply(lambda x:'Discussione' not in str(x) )].copy()\n",
    "# #data_articles_filtered.dropna()\n",
    "# rem=data_articles.size-data_articles.size\n",
    "# print('The number of removed articles is equal to {}'.format(rem))"
   ]
  },
  {
   "cell_type": "markdown",
   "metadata": {
    "pycharm": {
     "name": "#%% md\n"
    }
   },
   "source": [
    "## *Step 3*: Understanding the data\n",
    "\n",
    "---\n",
    "### **Task 3.1**\n",
    "Data cleaning is hard huh? But now that this headache is behind us we can go on to explore our data.\n",
    "\n",
    "Let's begin with some basic stats. It is always important to do this as a sanity check.\n",
    "\n",
    "You should:\n",
    "\n",
    "1. Start by calculating how many topics and articles there are. Also, while you are at it, print the names of the topics to get a grasp of what they are about. \n",
    "2. Calculate the average daily number of pageviews in the dataset.\n",
    "3. **Discuss:** As previously mentioned, your data is a sample of _some_ (and not all) Wikipedia articles! Estimate (roughly) what percentage of Italian Wikipedia articles are in your dataset comparing your daily average pageview numbers with the official statistics (which can be found [here](https://pageviews.toolforge.org/siteviews/?platform=desktop&source=pageviews&agent=user&start=2020-01-01&end=2020-09-21&sites=it.wikipedia.org)). Notice that we are focusing on the desktop version of Wikipedia.\n",
    "\n",
    "---\n",
    "**Hint**: topics are in the columns of the topic file!"
   ]
  },
  {
   "cell_type": "code",
   "execution_count": 6,
   "metadata": {
    "pycharm": {
     "name": "#%%\n"
    },
    "scrolled": true
   },
   "outputs": [
    {
     "name": "stdout",
     "output_type": "stream",
     "text": [
      "There are 55791 articles.\n",
      "There are 35611 topics.\n"
     ]
    },
    {
     "data": {
      "text/html": [
       "<div>\n",
       "<style scoped>\n",
       "    .dataframe tbody tr th:only-of-type {\n",
       "        vertical-align: middle;\n",
       "    }\n",
       "\n",
       "    .dataframe tbody tr th {\n",
       "        vertical-align: top;\n",
       "    }\n",
       "\n",
       "    .dataframe thead th {\n",
       "        text-align: right;\n",
       "    }\n",
       "</style>\n",
       "<table border=\"1\" class=\"dataframe\">\n",
       "  <thead>\n",
       "    <tr style=\"text-align: right;\">\n",
       "      <th></th>\n",
       "      <th>Topic</th>\n",
       "    </tr>\n",
       "  </thead>\n",
       "  <tbody>\n",
       "    <tr>\n",
       "      <th>0</th>\n",
       "      <td>Chinese_food_therapy</td>\n",
       "    </tr>\n",
       "    <tr>\n",
       "      <th>1</th>\n",
       "      <td>Battle_of_Naissus</td>\n",
       "    </tr>\n",
       "    <tr>\n",
       "      <th>2</th>\n",
       "      <td>Battle_of_Stoke_Field</td>\n",
       "    </tr>\n",
       "    <tr>\n",
       "      <th>3</th>\n",
       "      <td>Smooth_newt</td>\n",
       "    </tr>\n",
       "    <tr>\n",
       "      <th>4</th>\n",
       "      <td>Vicente_Aleixandre</td>\n",
       "    </tr>\n",
       "  </tbody>\n",
       "</table>\n",
       "</div>"
      ],
      "text/plain": [
       "                   Topic\n",
       "0   Chinese_food_therapy\n",
       "1      Battle_of_Naissus\n",
       "2  Battle_of_Stoke_Field\n",
       "3            Smooth_newt\n",
       "4     Vicente_Aleixandre"
      ]
     },
     "execution_count": 6,
     "metadata": {},
     "output_type": "execute_result"
    }
   ],
   "source": [
    "### ~ 3.1.1\n",
    "### Your code here! ###\n",
    "print('There are {} articles.'.format(len(data_articles.index)))\n",
    "print('There are {} topics.'.format(len(data_topics.index)))\n",
    "data_topics[['Topic']].head()"
   ]
  },
  {
   "cell_type": "code",
   "execution_count": 7,
   "metadata": {},
   "outputs": [
    {
     "name": "stdout",
     "output_type": "stream",
     "text": [
      "There average daily pageviews of articles in sample during the observed period is 324268\n"
     ]
    }
   ],
   "source": [
    "### ~ 3.1.2\n",
    "### Your code here! ###\n",
    "mean_pageviews_per_day = round(data_articles.iloc[:,1:].sum(axis=0).mean())\n",
    "print('There average daily pageviews of articles in sample during the observed period is {}'.format(mean_pageviews_per_day))"
   ]
  },
  {
   "cell_type": "code",
   "execution_count": 8,
   "metadata": {},
   "outputs": [],
   "source": [
    "# ### ~ 3.1.2\n",
    "# ### Your code here! ###\n",
    "# mean_pageviews_per_day=data_articles.drop(['Article'], axis=1).values.mean()\n",
    "# print('There average daily pageviews of articles in sample during the observed period is {}.'.format(mean_pageviews_per_day))"
   ]
  },
  {
   "cell_type": "code",
   "execution_count": 9,
   "metadata": {},
   "outputs": [
    {
     "name": "stdout",
     "output_type": "stream",
     "text": [
      "The ratio between the daily average PV obtained from the dataset and the one from the official statistics is: 4.76% which is a rough stimate for stimating the real number of articles.\n",
      "The real ratio between the number of articles in the data set and the one from the official statistics is 3.40%\n"
     ]
    }
   ],
   "source": [
    "### ~ 3.1.3\n",
    "daily_average_it = round(data_articles.iloc[:,1:].sum(axis=0).mean())\n",
    "daily_average_it_wik = 6816929\n",
    "tot_num_of_articles_it = data_articles.shape[0]\n",
    "tot_num_of_articles_it_wik = 1640610\n",
    "ratio_daily_average = daily_average_it/daily_average_it_wik\n",
    "ratio_num_of_articles = tot_num_of_articles_it/tot_num_of_articles_it_wik\n",
    "print('The ratio between the daily average PV obtained from the dataset and the one from the \\\n",
    "official statistics is: {:.2%} which is a rough stimate for stimating the real number of articles.\\nThe real ratio \\\n",
    "between the number of articles in the data set and the one from the official statistics \\\n",
    "is {:.2%}'.format(ratio_daily_average, ratio_num_of_articles))\n",
    "\n",
    "# import matplotlib.pyplot as plt\n",
    "# data_articles.iloc[:,1:].sum(axis=0).plot()"
   ]
  },
  {
   "cell_type": "code",
   "execution_count": 10,
   "metadata": {},
   "outputs": [],
   "source": [
    "# ### ~ 3.1.3\n",
    "# tot_num_of_views_it=5283692;\n",
    "# tot_num_of_articles_it=1639683;\n",
    "# tot_average_pageviews=tot_num_of_views_it/tot_num_of_articles_it\n",
    "# ratio_articles=len(data_articles.index)/tot_num_of_articles_it\n",
    "# ratio_views=(len(data_articles.index)*mean_pageviews_per_day)/tot_num_of_views_it\n",
    "# ### Your text (and code if necessary) here! ###\n",
    "# print('At 07.10.2020 our sample consist of {:.2f}% of total articles available and it covers on average about {:.2f}% of total desktop ews.'.format(ratio_articles*100,ratio_views*100))\n",
    "# print('Our sample is not good representative of whole population in terms of average dailyviews as it has about {:.2f} times more pageviews than average of whole population'.format(mean_pageviews_per_day/tot_average_pageviews))"
   ]
  },
  {
   "cell_type": "markdown",
   "metadata": {
    "pycharm": {
     "name": "#%% md\n"
    }
   },
   "source": [
    "\n",
    "### **Task 3.2**\n",
    "\n",
    "Now that we have a better understanding of the data, let's look at some articles to get a feeling of what is happening. \n",
    "\n",
    "Your task is to:\n",
    "\n",
    "1. Find all articles whose names contain the sequence of characters `\"virus\"` (case insensitive) and that received least 7,000 pageviews across the entire period (no point in zooming on very insignificant articles);\n",
    "2. Find a way to nicely visualize __each__ one of the time-series (in a single plot, which may have multiple panels; in the lecture, Bob referred to these as “small multiples); Your visualization should allow one to see overall trends across each of the different articles and depict the overall trends, with the least noise possible. Additionally, highlight two specific dates in your plot: 31 January ([first case reported in Italy](https://en.wikipedia.org/wiki/COVID-19_pandemic_in_Italy#First_confirmed_cases)) and 21 February ([when multiple cases were confirmed in northern Italy](https://en.wikipedia.org/wiki/COVID-19_pandemic_in_Italy#Clusters_in_northern_Italy)).\n",
    "4. **Discuss**: What did you observe? Did all the articles behave similarly?\n",
    "\n",
    "---\n",
    "\n",
    "**Hint**: The column dates are currently strings which are not very plot friendly. You can turn them into datetime objects using: \n",
    "\n",
    "~~~python\n",
    "your_dataframe_name.columns = pd.to_datetime(your_dataframe_name.columns)\n",
    "~~~\n",
    "\n",
    "Notice that this only works if you have only date-related columns. Fortunately, if you get rid of the `index` column by making it a real pandas index, things should work just fine.\n",
    "\n",
    "**Hint**: Choose your axes wisely!\n",
    "\n"
   ]
  },
  {
   "cell_type": "code",
   "execution_count": 11,
   "metadata": {
    "pycharm": {
     "name": "#%%\n"
    }
   },
   "outputs": [
    {
     "data": {
      "text/html": [
       "<div>\n",
       "<style scoped>\n",
       "    .dataframe tbody tr th:only-of-type {\n",
       "        vertical-align: middle;\n",
       "    }\n",
       "\n",
       "    .dataframe tbody tr th {\n",
       "        vertical-align: top;\n",
       "    }\n",
       "\n",
       "    .dataframe thead th {\n",
       "        text-align: right;\n",
       "    }\n",
       "</style>\n",
       "<table border=\"1\" class=\"dataframe\">\n",
       "  <thead>\n",
       "    <tr style=\"text-align: right;\">\n",
       "      <th></th>\n",
       "      <th>2018-01-01</th>\n",
       "      <th>2018-01-02</th>\n",
       "      <th>2018-01-03</th>\n",
       "      <th>2018-01-04</th>\n",
       "      <th>2018-01-05</th>\n",
       "      <th>2018-01-06</th>\n",
       "      <th>2018-01-07</th>\n",
       "      <th>2018-01-08</th>\n",
       "      <th>2018-01-09</th>\n",
       "      <th>2018-01-10</th>\n",
       "      <th>...</th>\n",
       "      <th>2020-07-22</th>\n",
       "      <th>2020-07-23</th>\n",
       "      <th>2020-07-24</th>\n",
       "      <th>2020-07-25</th>\n",
       "      <th>2020-07-26</th>\n",
       "      <th>2020-07-27</th>\n",
       "      <th>2020-07-28</th>\n",
       "      <th>2020-07-29</th>\n",
       "      <th>2020-07-30</th>\n",
       "      <th>2020-07-31</th>\n",
       "    </tr>\n",
       "    <tr>\n",
       "      <th>Article</th>\n",
       "      <th></th>\n",
       "      <th></th>\n",
       "      <th></th>\n",
       "      <th></th>\n",
       "      <th></th>\n",
       "      <th></th>\n",
       "      <th></th>\n",
       "      <th></th>\n",
       "      <th></th>\n",
       "      <th></th>\n",
       "      <th></th>\n",
       "      <th></th>\n",
       "      <th></th>\n",
       "      <th></th>\n",
       "      <th></th>\n",
       "      <th></th>\n",
       "      <th></th>\n",
       "      <th></th>\n",
       "      <th></th>\n",
       "      <th></th>\n",
       "      <th></th>\n",
       "    </tr>\n",
       "  </thead>\n",
       "  <tbody>\n",
       "    <tr>\n",
       "      <th>Virus_della_leucemia_felina</th>\n",
       "      <td>11</td>\n",
       "      <td>27</td>\n",
       "      <td>20</td>\n",
       "      <td>28</td>\n",
       "      <td>24</td>\n",
       "      <td>9</td>\n",
       "      <td>13</td>\n",
       "      <td>36</td>\n",
       "      <td>30</td>\n",
       "      <td>34</td>\n",
       "      <td>...</td>\n",
       "      <td>13</td>\n",
       "      <td>12</td>\n",
       "      <td>13</td>\n",
       "      <td>9</td>\n",
       "      <td>6</td>\n",
       "      <td>10</td>\n",
       "      <td>11</td>\n",
       "      <td>7</td>\n",
       "      <td>7</td>\n",
       "      <td>8</td>\n",
       "    </tr>\n",
       "    <tr>\n",
       "      <th>Malattia_da_virus_Ebola</th>\n",
       "      <td>3</td>\n",
       "      <td>21</td>\n",
       "      <td>13</td>\n",
       "      <td>23</td>\n",
       "      <td>28</td>\n",
       "      <td>5</td>\n",
       "      <td>11</td>\n",
       "      <td>11</td>\n",
       "      <td>17</td>\n",
       "      <td>18</td>\n",
       "      <td>...</td>\n",
       "      <td>142</td>\n",
       "      <td>30</td>\n",
       "      <td>25</td>\n",
       "      <td>126</td>\n",
       "      <td>30</td>\n",
       "      <td>27</td>\n",
       "      <td>147</td>\n",
       "      <td>25</td>\n",
       "      <td>39</td>\n",
       "      <td>146</td>\n",
       "    </tr>\n",
       "    <tr>\n",
       "      <th>Influenzavirus_A_sottotipo_H1N1</th>\n",
       "      <td>20</td>\n",
       "      <td>23</td>\n",
       "      <td>49</td>\n",
       "      <td>52</td>\n",
       "      <td>46</td>\n",
       "      <td>108</td>\n",
       "      <td>271</td>\n",
       "      <td>143</td>\n",
       "      <td>75</td>\n",
       "      <td>60</td>\n",
       "      <td>...</td>\n",
       "      <td>37</td>\n",
       "      <td>27</td>\n",
       "      <td>30</td>\n",
       "      <td>70</td>\n",
       "      <td>36</td>\n",
       "      <td>39</td>\n",
       "      <td>39</td>\n",
       "      <td>35</td>\n",
       "      <td>35</td>\n",
       "      <td>44</td>\n",
       "    </tr>\n",
       "    <tr>\n",
       "      <th>Rhinovirus</th>\n",
       "      <td>6</td>\n",
       "      <td>9</td>\n",
       "      <td>12</td>\n",
       "      <td>22</td>\n",
       "      <td>13</td>\n",
       "      <td>12</td>\n",
       "      <td>21</td>\n",
       "      <td>18</td>\n",
       "      <td>19</td>\n",
       "      <td>15</td>\n",
       "      <td>...</td>\n",
       "      <td>8</td>\n",
       "      <td>10</td>\n",
       "      <td>10</td>\n",
       "      <td>13</td>\n",
       "      <td>6</td>\n",
       "      <td>14</td>\n",
       "      <td>10</td>\n",
       "      <td>8</td>\n",
       "      <td>9</td>\n",
       "      <td>14</td>\n",
       "    </tr>\n",
       "    <tr>\n",
       "      <th>Virus_(informatica)</th>\n",
       "      <td>26</td>\n",
       "      <td>70</td>\n",
       "      <td>74</td>\n",
       "      <td>66</td>\n",
       "      <td>86</td>\n",
       "      <td>44</td>\n",
       "      <td>67</td>\n",
       "      <td>94</td>\n",
       "      <td>107</td>\n",
       "      <td>168</td>\n",
       "      <td>...</td>\n",
       "      <td>21</td>\n",
       "      <td>38</td>\n",
       "      <td>21</td>\n",
       "      <td>18</td>\n",
       "      <td>30</td>\n",
       "      <td>24</td>\n",
       "      <td>33</td>\n",
       "      <td>28</td>\n",
       "      <td>22</td>\n",
       "      <td>17</td>\n",
       "    </tr>\n",
       "    <tr>\n",
       "      <th>Herpesvirus_umano_3</th>\n",
       "      <td>2</td>\n",
       "      <td>5</td>\n",
       "      <td>5</td>\n",
       "      <td>14</td>\n",
       "      <td>6</td>\n",
       "      <td>13</td>\n",
       "      <td>9</td>\n",
       "      <td>12</td>\n",
       "      <td>11</td>\n",
       "      <td>5</td>\n",
       "      <td>...</td>\n",
       "      <td>10</td>\n",
       "      <td>9</td>\n",
       "      <td>10</td>\n",
       "      <td>5</td>\n",
       "      <td>7</td>\n",
       "      <td>8</td>\n",
       "      <td>13</td>\n",
       "      <td>5</td>\n",
       "      <td>9</td>\n",
       "      <td>8</td>\n",
       "    </tr>\n",
       "    <tr>\n",
       "      <th>Antivirus</th>\n",
       "      <td>19</td>\n",
       "      <td>31</td>\n",
       "      <td>26</td>\n",
       "      <td>27</td>\n",
       "      <td>42</td>\n",
       "      <td>30</td>\n",
       "      <td>24</td>\n",
       "      <td>54</td>\n",
       "      <td>45</td>\n",
       "      <td>80</td>\n",
       "      <td>...</td>\n",
       "      <td>16</td>\n",
       "      <td>33</td>\n",
       "      <td>25</td>\n",
       "      <td>14</td>\n",
       "      <td>14</td>\n",
       "      <td>19</td>\n",
       "      <td>23</td>\n",
       "      <td>23</td>\n",
       "      <td>22</td>\n",
       "      <td>12</td>\n",
       "    </tr>\n",
       "    <tr>\n",
       "      <th>Virus_respiratorio_sinciziale_umano</th>\n",
       "      <td>6</td>\n",
       "      <td>11</td>\n",
       "      <td>18</td>\n",
       "      <td>18</td>\n",
       "      <td>15</td>\n",
       "      <td>14</td>\n",
       "      <td>9</td>\n",
       "      <td>21</td>\n",
       "      <td>17</td>\n",
       "      <td>19</td>\n",
       "      <td>...</td>\n",
       "      <td>11</td>\n",
       "      <td>10</td>\n",
       "      <td>10</td>\n",
       "      <td>4</td>\n",
       "      <td>4</td>\n",
       "      <td>9</td>\n",
       "      <td>4</td>\n",
       "      <td>12</td>\n",
       "      <td>5</td>\n",
       "      <td>7</td>\n",
       "    </tr>\n",
       "  </tbody>\n",
       "</table>\n",
       "<p>8 rows × 943 columns</p>\n",
       "</div>"
      ],
      "text/plain": [
       "                                     2018-01-01  2018-01-02  2018-01-03  \\\n",
       "Article                                                                   \n",
       "Virus_della_leucemia_felina                  11          27          20   \n",
       "Malattia_da_virus_Ebola                       3          21          13   \n",
       "Influenzavirus_A_sottotipo_H1N1              20          23          49   \n",
       "Rhinovirus                                    6           9          12   \n",
       "Virus_(informatica)                          26          70          74   \n",
       "Herpesvirus_umano_3                           2           5           5   \n",
       "Antivirus                                    19          31          26   \n",
       "Virus_respiratorio_sinciziale_umano           6          11          18   \n",
       "\n",
       "                                     2018-01-04  2018-01-05  2018-01-06  \\\n",
       "Article                                                                   \n",
       "Virus_della_leucemia_felina                  28          24           9   \n",
       "Malattia_da_virus_Ebola                      23          28           5   \n",
       "Influenzavirus_A_sottotipo_H1N1              52          46         108   \n",
       "Rhinovirus                                   22          13          12   \n",
       "Virus_(informatica)                          66          86          44   \n",
       "Herpesvirus_umano_3                          14           6          13   \n",
       "Antivirus                                    27          42          30   \n",
       "Virus_respiratorio_sinciziale_umano          18          15          14   \n",
       "\n",
       "                                     2018-01-07  2018-01-08  2018-01-09  \\\n",
       "Article                                                                   \n",
       "Virus_della_leucemia_felina                  13          36          30   \n",
       "Malattia_da_virus_Ebola                      11          11          17   \n",
       "Influenzavirus_A_sottotipo_H1N1             271         143          75   \n",
       "Rhinovirus                                   21          18          19   \n",
       "Virus_(informatica)                          67          94         107   \n",
       "Herpesvirus_umano_3                           9          12          11   \n",
       "Antivirus                                    24          54          45   \n",
       "Virus_respiratorio_sinciziale_umano           9          21          17   \n",
       "\n",
       "                                     2018-01-10  ...  2020-07-22  2020-07-23  \\\n",
       "Article                                          ...                           \n",
       "Virus_della_leucemia_felina                  34  ...          13          12   \n",
       "Malattia_da_virus_Ebola                      18  ...         142          30   \n",
       "Influenzavirus_A_sottotipo_H1N1              60  ...          37          27   \n",
       "Rhinovirus                                   15  ...           8          10   \n",
       "Virus_(informatica)                         168  ...          21          38   \n",
       "Herpesvirus_umano_3                           5  ...          10           9   \n",
       "Antivirus                                    80  ...          16          33   \n",
       "Virus_respiratorio_sinciziale_umano          19  ...          11          10   \n",
       "\n",
       "                                     2020-07-24  2020-07-25  2020-07-26  \\\n",
       "Article                                                                   \n",
       "Virus_della_leucemia_felina                  13           9           6   \n",
       "Malattia_da_virus_Ebola                      25         126          30   \n",
       "Influenzavirus_A_sottotipo_H1N1              30          70          36   \n",
       "Rhinovirus                                   10          13           6   \n",
       "Virus_(informatica)                          21          18          30   \n",
       "Herpesvirus_umano_3                          10           5           7   \n",
       "Antivirus                                    25          14          14   \n",
       "Virus_respiratorio_sinciziale_umano          10           4           4   \n",
       "\n",
       "                                     2020-07-27  2020-07-28  2020-07-29  \\\n",
       "Article                                                                   \n",
       "Virus_della_leucemia_felina                  10          11           7   \n",
       "Malattia_da_virus_Ebola                      27         147          25   \n",
       "Influenzavirus_A_sottotipo_H1N1              39          39          35   \n",
       "Rhinovirus                                   14          10           8   \n",
       "Virus_(informatica)                          24          33          28   \n",
       "Herpesvirus_umano_3                           8          13           5   \n",
       "Antivirus                                    19          23          23   \n",
       "Virus_respiratorio_sinciziale_umano           9           4          12   \n",
       "\n",
       "                                     2020-07-30  2020-07-31  \n",
       "Article                                                      \n",
       "Virus_della_leucemia_felina                   7           8  \n",
       "Malattia_da_virus_Ebola                      39         146  \n",
       "Influenzavirus_A_sottotipo_H1N1              35          44  \n",
       "Rhinovirus                                    9          14  \n",
       "Virus_(informatica)                          22          17  \n",
       "Herpesvirus_umano_3                           9           8  \n",
       "Antivirus                                    22          12  \n",
       "Virus_respiratorio_sinciziale_umano           5           7  \n",
       "\n",
       "[8 rows x 943 columns]"
      ]
     },
     "execution_count": 11,
     "metadata": {},
     "output_type": "execute_result"
    }
   ],
   "source": [
    "### ~ 3.2.1\n",
    "### Your code here! ##\n",
    "virus_articles = data_articles[data_articles['Article'].apply(lambda x:'virus' in str(x).lower() )]\n",
    "virus_articles = virus_articles.set_index('Article')\n",
    "virus_articles = virus_articles[virus_articles.sum(axis=1) >= 7000]\n",
    "virus_articles.columns = pd.to_datetime(virus_articles.columns)\n",
    "virus_articles"
   ]
  },
  {
   "cell_type": "code",
   "execution_count": 12,
   "metadata": {},
   "outputs": [
    {
     "data": {
      "text/plain": [
       "Text(-0.01, 0.5, 'Counts')"
      ]
     },
     "execution_count": 12,
     "metadata": {},
     "output_type": "execute_result"
    },
    {
     "data": {
      "image/png": "[encoded data removed]",
      "text/plain": [
       "<Figure size 1152x432 with 8 Axes>"
      ]
     },
     "metadata": {
      "needs_background": "light"
     },
     "output_type": "display_data"
    }
   ],
   "source": [
    "import matplotlib.pyplot as plt\n",
    "\n",
    "virus_articles_rol_average=virus_articles.rolling(window=4,axis=1).mean()\n",
    "### ~ 3.2.2\n",
    "### Your code here! ###\n",
    "fig, ax = plt.subplots(nrows=2, ncols=4, sharex=True, sharey=True, figsize=(16, 6))\n",
    "fig.tight_layout(pad=3.0)\n",
    "for i,ind in enumerate(virus_articles.index):\n",
    "    plt.subplot(2,4,i+1)\n",
    "    plt.plot(virus_articles.columns,virus_articles.loc[ind],color='k')\n",
    "    plt.plot(virus_articles.columns,virus_articles_rol_average.loc[ind],color='r')\n",
    "\n",
    "    plt.axvline(x='2020-01-31 00:00:00',color='g',linestyle='--',alpha=0.4)\n",
    "    plt.axvline(x='2020-02-21 00:00:00',color='b',linestyle='--',alpha=0.4)\n",
    "    ax = plt.gca()\n",
    "    plt.xlim(['2019-10-01 00:00:00','2020-07-31 00:00:00'])\n",
    "    plt.xticks(['2019-12-01 00:00:00','2020-01-31 00:00:00','2020-02-21 00:00:00','2020-07-01 00:00:00'],fontsize=8,labels=('2019 Dec','FC','MC','2020 July'))\n",
    "    \n",
    "    plt.legend(('Signal','4-day')) \n",
    "    plt.title(ind)\n",
    "#virus_articles.columns[-1]\n",
    "fig.text(0.5, 0.01, 'Date', ha='center',size=20)\n",
    "fig.text(-0.01, 0.5, 'Counts', va='center', rotation='vertical',size=20)\n",
    "\n"
   ]
  },
  {
   "cell_type": "code",
   "execution_count": 13,
   "metadata": {
    "pycharm": {
     "name": "#%%\n"
    }
   },
   "outputs": [],
   "source": [
    "### ~ 3.2.3\n",
    "### Your text here! ###"
   ]
  },
  {
   "cell_type": "markdown",
   "metadata": {
    "pycharm": {
     "name": "#%% md\n"
    }
   },
   "source": [
    "\n",
    "### **Task 3.3**\n",
    "\n",
    "Before we move on, let's make a final sanity check and analyze the distribution of pageviews over all articles in our dataset. You are given a function to calculate the **cumulative distribution function** (CDF) of a sample. The CDF is a function f(x) associated with a data sample. For each value x, f(x) represents the percentage of elements in your sample that have values smaller or equal to x (read more about it [here](https://en.wikipedia.org/wiki/Empirical_distribution_function)).\n",
    "Your task is to:\n",
    "\n",
    "1. Calculate the CDF of the distribution of pageviews across all days over articles. That is, a) calculate the total number of pageviews each article has received and then, b) calculate the CDF for these values.\n",
    "\n",
    "\n",
    "2. Now plot this function using different scales for the x- and y-axis. You should plot it in 4 different ways:\n",
    "\n",
    "    a. x-axis on linear scale, y-axis on linear scale\n",
    "    \n",
    "    b. x-axis on log scale, y-axis on linear scale\n",
    "    \n",
    "    c. x-axis on linear scale, y-axis on log scale\n",
    "    \n",
    "    d. x-axis on log scale, y-axis on log scale\n",
    "    \n",
    "3. **Discuss:** There is a pretty odd fact about the distribution of our data! Can you spot it and describe it? Which of the different plots (a-d) allows you to find this oddity? Why isn't this visible in the other plots?\n",
    "\n",
    "---\n",
    "\n",
    "**Hint:** You can use `plt.xscale` and `plt.yscale`."
   ]
  },
  {
   "cell_type": "code",
   "execution_count": 14,
   "metadata": {
    "pycharm": {
     "name": "#%%\n"
    }
   },
   "outputs": [
    {
     "data": {
      "image/png": "[encoded data removed]",
      "text/plain": [
       "<Figure size 432x288 with 1 Axes>"
      ]
     },
     "metadata": {
      "needs_background": "light"
     },
     "output_type": "display_data"
    }
   ],
   "source": [
    "# This function is being given to you with a usage example :)! Make good use!\n",
    "\n",
    "import numpy as np\n",
    "\n",
    "def get_cdf(vals):\n",
    "    # Input:\n",
    "    # -- vals: an np.array of positive integers\n",
    "    # Output:\n",
    "    # -- x: an array containing all numbers from 1 to max(vals);\n",
    "    # -- y: an array containing the (empirically calculated) probability that vals <= x\n",
    "    \n",
    "    y = np.cumsum(np.bincount(vals)[1:])\n",
    "    y = y / y[-1]\n",
    "    y = y\n",
    "    x = list(range(1, max(vals) + 1))\n",
    "    return x, y  \n",
    "\n",
    "vals = np.array([1,2,3,4,1,2,4,3,4,4,5,4])\n",
    "x, y = get_cdf(vals)\n",
    "plt.plot(x, y)\n",
    "plt.show()\n"
   ]
  },
  {
   "cell_type": "code",
   "execution_count": 15,
   "metadata": {},
   "outputs": [],
   "source": [
    "### ~ 3.3.1\n",
    "### Your code here! ###\n",
    "x, y = get_cdf(data_articles.set_index('Article').sum(axis=1))"
   ]
  },
  {
   "cell_type": "code",
   "execution_count": 16,
   "metadata": {},
   "outputs": [
    {
     "data": {
      "text/plain": [
       "291"
      ]
     },
     "execution_count": 16,
     "metadata": {},
     "output_type": "execute_result"
    },
    {
     "data": {
      "image/png": "[encoded data removed]",
      "text/plain": [
       "<Figure size 576x576 with 4 Axes>"
      ]
     },
     "metadata": {
      "needs_background": "light"
     },
     "output_type": "display_data"
    }
   ],
   "source": [
    "### ~ 3.3.2\n",
    "### Your code here! ###\n",
    "fig, ax = plt.subplots(nrows=2, ncols=2, sharex=True, sharey=True, figsize=(8,8))\n",
    "fig.tight_layout(pad=5.0)\n",
    "for i in range(1,5):\n",
    "    plt.subplot(2,2,i)\n",
    "    plt.plot(x, y)\n",
    "       \n",
    "    plt.ylabel('CDF')\n",
    "    if i==1:\n",
    "        plt.title('Cumulative x-y')\n",
    "    elif i==2:\n",
    "        plt.xscale('log')\n",
    "        plt.title('Cumulative log(x)-y')\n",
    "    elif i==3:\n",
    "        plt.yscale('log')\n",
    "        plt.title('Cumulative x-log(y)')\n",
    "    elif i==4:\n",
    "        plt.xscale('log')\n",
    "        plt.yscale('log')\n",
    "        plt.title('Cumulative log(x)-log(y)')\n",
    "fig.text(0.5, 0.01, 'Proportion of article with pageviews >x', ha='center',size=16)\n",
    "min(data_articles.set_index('Article').sum(axis=1))"
   ]
  },
  {
   "cell_type": "markdown",
   "metadata": {},
   "source": [
    "### ~ 3.3.3\n",
    "### Your text here! ###\n",
    "It can be clearly seen from figure (d) that there is a certain threshold for minimum number of views (during the observed period) per article which is equal to 291 pageviews."
   ]
  },
  {
   "cell_type": "markdown",
   "metadata": {
    "pycharm": {
     "name": "#%% md\n"
    }
   },
   "source": [
    "## *Step 4*: Analyzing Overall Pageview Volume\n",
    "\n",
    "\n",
    "---\n",
    "### **Task 4.1**\n",
    "\n",
    "So far we have seen anecdotal examples. Now let’s move to the big picture! How did Wikipedia pageviews change in general? To gain a better understanding of how Wikipedia’s overall pageview volume has changed during the pandemic, you should do the following:\n",
    "\n",
    "1. Calculate and visualize the pageviews trends across summed across **all** articles in Italian Wikipedia for the year 2020. (and only for 2020!). \n",
    "2. **Discuss**: what regular pattern (something that repeats over and over) do you see in the data?\n",
    "3. Pre-process the data to remove this regular pattern and make the overall trend clearer. Repeat the plot with the processed data.\n",
    "\n",
    "---\n",
    "\n",
    "**Hint**: A convenient way to use `.groupby` alongside dates is to use the [`pd.Grouper`](https://pandas.pydata.org/pandas-docs/stable/reference/api/pandas.Grouper.html) class. Basically, it allows you to group by date periods given frequencies determined by the parameter `freq`. To read how to specify different types of frequencies, see [here](https://pandas.pydata.org/pandas-docs/stable/user_guide/timeseries.html#offset-aliases). Recall that, in order to turn an index, column index -- or pretty much anything -- into a timestamp, you can use  [`pd.to_timestamp`](https://pandas.pydata.org/pandas-docs/stable/reference/api/pandas.DataFrame.to_timestamp.html)."
   ]
  },
  {
   "cell_type": "code",
   "execution_count": 26,
   "metadata": {
    "pycharm": {
     "name": "#%%\n"
    }
   },
   "outputs": [
    {
     "data": {
      "text/plain": [
       "<AxesSubplot:title={'center':'Total PVs per day - From 2020-01-01 00:00:00 to 2020-07-31 00:00:00'}>"
      ]
     },
     "execution_count": 26,
     "metadata": {},
     "output_type": "execute_result"
    },
    {
     "data": {
      "text/plain": [
       "<Figure size 1008x216 with 0 Axes>"
      ]
     },
     "metadata": {},
     "output_type": "display_data"
    },
    {
     "data": {
      "image/png": "[encoded data removed]",
      "text/plain": [
       "<Figure size 432x288 with 1 Axes>"
      ]
     },
     "metadata": {
      "needs_background": "light"
     },
     "output_type": "display_data"
    }
   ],
   "source": [
    "plt.figure(figsize=(14,3)) # change this if needed\n",
    "\n",
    "### ~ 4.1.1\n",
    "### Your code here! ###\n",
    "\n",
    "data_articles4_1 = data_articles.copy()\n",
    "data_articles4_1 = data_articles4_1.set_index('Article')\n",
    "data_articles4_1.columns = pd.to_datetime(data_articles4_1.columns)\n",
    "data_articles4_1 = data_articles4_1.T\n",
    "data_articles4_1 = data_articles4_1[data_articles4_1.index >= '2020-01-01']\n",
    "data_articles4_1['Daily_PVs_2020'] = data_articles4_1.sum(axis=1)\n",
    "data_articles4_1 = data_articles4_1[['Daily_PVs_2020']]\n",
    "data_articles4_1.plot(y='Daily_PVs_2020',title='Total PVs per day - From {} to {}'.format(\n",
    "                    data_articles4_1.index[0], data_articles4_1.index[-1]))"
   ]
  },
  {
   "cell_type": "code",
   "execution_count": 27,
   "metadata": {},
   "outputs": [],
   "source": [
    "### ~ 4.1.2"
   ]
  },
  {
   "cell_type": "markdown",
   "metadata": {},
   "source": [
    "The regular pattern in the plot is probably due to the weekends. There is a valley at least four times per month and it can be verified by checking a calendar. The PVs per day during the weekends significantly fall during weekends."
   ]
  },
  {
   "cell_type": "code",
   "execution_count": 28,
   "metadata": {},
   "outputs": [
    {
     "data": {
      "text/plain": [
       "<AxesSubplot:title={'center':'Total PVs per week - From 2020-01-01 00:00:00 to 2020-07-29 00:00:00'}>"
      ]
     },
     "execution_count": 28,
     "metadata": {},
     "output_type": "execute_result"
    },
    {
     "data": {
      "text/plain": [
       "<Figure size 1008x216 with 0 Axes>"
      ]
     },
     "metadata": {},
     "output_type": "display_data"
    },
    {
     "data": {
      "image/png": "[encoded data removed]",
      "text/plain": [
       "<Figure size 432x288 with 1 Axes>"
      ]
     },
     "metadata": {
      "needs_background": "light"
     },
     "output_type": "display_data"
    }
   ],
   "source": [
    "plt.figure(figsize=(14,3)) # change this if needed\n",
    "\n",
    "### ~ 4.1.3\n",
    "# Plot the average PVs per week \n",
    "data_articles4_1 = data_articles4_1.groupby(pd.Grouper(freq='7D')).sum()\n",
    "data_articles4_1 = data_articles4_1.rename(columns={'Daily_PVs_2020':'Weekly_PVs_2020'})\n",
    "data_articles4_1.plot(y='Weekly_PVs_2020',title='Total PVs per week - From {} to {}'.format(\n",
    "                    data_articles4_1.index[0], data_articles4_1.index[-1]))"
   ]
  },
  {
   "cell_type": "markdown",
   "metadata": {
    "pycharm": {
     "name": "#%% md\n"
    }
   },
   "source": [
    "### **Task 4.2**\n",
    "\n",
    "To get an even clearer picture, your task now is to compare the pageview time series of the current year (2020) with the time series of the previous year (2019).\n",
    "\n",
    "1. Make a visualization where the two years are somehow \"aligned\", that is, where it is possible to compare the same time of year across the two years. Additionally, your visualization should highlight the date on which the nationwide lockdown started in Italy, 9 March 2020. Preprocess each one of the time series (for each year) the same way you did in Task 4.1.\n",
    "\n",
    "3. **Discuss:** What changed from 2019 to 2020? Form and justify hypotheses about  the reasons behind this change.\n",
    "\n",
    "---\n",
    "\n",
    "**Hint**: In order to use two different y-axes in the same plot, you can use plt.twiny() or ax.twinx() (the latter if you are using the subplots environment;  [See this example](https://matplotlib.org/3.3.1/gallery/subplots_axes_and_figures/two_scales.html))."
   ]
  },
  {
   "cell_type": "code",
   "execution_count": 38,
   "metadata": {
    "pycharm": {
     "name": "#%%\n"
    }
   },
   "outputs": [
    {
     "data": {
      "text/plain": [
       "([<matplotlib.axis.XTick at 0x7fde2bac5850>], [Text(17964, 0, 'Lockdown')])"
      ]
     },
     "execution_count": 38,
     "metadata": {},
     "output_type": "execute_result"
    },
    {
     "data": {
      "text/plain": [
       "<Figure size 1008x216 with 0 Axes>"
      ]
     },
     "metadata": {},
     "output_type": "display_data"
    },
    {
     "data": {
      "image/png": "[encoded data removed]",
      "text/plain": [
       "<Figure size 432x288 with 1 Axes>"
      ]
     },
     "metadata": {
      "needs_background": "light"
     },
     "output_type": "display_data"
    }
   ],
   "source": [
    "plt.figure(figsize=(14,3)) # change this if needed\n",
    "\n",
    "### ~ 4.2.1\n",
    "## Your code here! ###\n",
    "\n",
    "data_articles4_2 = data_articles.copy()\n",
    "data_articles4_2 = data_articles4_2.set_index('Article')\n",
    "data_articles4_2.columns = pd.to_datetime(data_articles4_2.columns)\n",
    "data_articles4_2 = data_articles4_2.T\n",
    "data_articles4_2 = data_articles4_2[(data_articles4_2.index >= '2019-01-01') &\n",
    "                                    (data_articles4_2.index <= '2019-07-31')]\n",
    "data_articles4_2['Weekly_PVs_2019'] = data_articles4_2.sum(axis=1)\n",
    "data_articles4_2 = data_articles4_2[['Weekly_PVs_2019']]\n",
    "data_articles4_2 = data_articles4_2.groupby(pd.Grouper(freq='7D')).sum()\n",
    "data_articles4_2['Weekly_PVs_2020'] = data_articles4_1['Weekly_PVs_2020'].values\n",
    "data_articles4_2.plot(y=['Weekly_PVs_2020','Weekly_PVs_2019'])\n",
    "\n",
    "plt.axvline(x='2019-03-9 00:00:00',color='g',linestyle='--',alpha=0.4)\n",
    "plt.xticks(['2019-03-09 00:00:00'],fontsize=8,labels=['Lockdown'])"
   ]
  },
  {
   "cell_type": "code",
   "execution_count": 30,
   "metadata": {},
   "outputs": [],
   "source": [
    "### ~ 4.2.2\n",
    "### Your text here! ###"
   ]
  },
  {
   "cell_type": "markdown",
   "metadata": {},
   "source": [
    "There is a clear increment of PVs once the lockdown was anounced. Before that day, the difference between PVs rates, looks relatively constant. During 2019 there was no pandemic and the figure shows that the PVs does not fluctuate much. On the other hand, during 2020 due to the pandemic, it is reasonable to think that a lot of information was requested, probably not only about the virus but also about the consequences (e.g) home-school, health, politics, etc. "
   ]
  },
  {
   "cell_type": "markdown",
   "metadata": {
    "pycharm": {
     "name": "#%% md\n"
    }
   },
   "source": [
    "## *Step 5*: Fiddling with Topics\n",
    "\n",
    "---\n",
    "### **Task 5.1**\n",
    "\n",
    "We now turn to a different question: what topics were impacted by the lockdown? \n",
    "To start unpacking this question, your task now is to aggregate, for each day, all pageviews that went to each one of the 64 topics. \n",
    "\n",
    "There are multiple ways to do this, but for the sake of this exercise, you must create a dataframe where each row contains the number of pageviews a topic obtained on a given day! Example:\n",
    "\n",
    "~~~\n",
    "index       date                   views             \n",
    "TOPIC1      2019-01-01             101              \n",
    "TOPIC1      2019-01-02             151             \n",
    "(...)       (...)                  (...)\n",
    "TOPICK      2019-01-01             1010              \n",
    "TOPICK      2019-01-02             2123            \n",
    "(...)       (...)                  (...)\n",
    "~~~\n",
    "\n",
    "---\n",
    "\n",
    "**Hint**: You've should find a way to make the index in the dataframe with the topics be the same as the index in the dataframes with the articles. See the file `mapping.pickle`.\n",
    "\n",
    "**Hint**: You may want to use `.melt`."
   ]
  },
  {
   "cell_type": "code",
   "execution_count": null,
   "metadata": {
    "pycharm": {
     "name": "#%%\n"
    }
   },
   "outputs": [],
   "source": [
    "### ~ 5.1.1\n",
    "### Your code here! ###"
   ]
  },
  {
   "cell_type": "markdown",
   "metadata": {
    "pycharm": {
     "name": "#%% md\n"
    }
   },
   "source": [
    "### **Task 5.2**\n",
    "\n",
    "Now to the **grand finale**. We will consider two periods:\n",
    "- the 35 days before the quarantine started (in the 9th of March); and \n",
    "- the 34 days after the quarantined started (including the day of the quarantine itself).\n",
    "\n",
    "Create a visualization where you can compare, for each topic, the mean **number of views** in the aforementioned periods (that is, before and after the quarantine started). **Although there is a very large number of topics, your visualization should be a compact panel, small enough to fit on an A4 page.**\n",
    "\n",
    "---\n",
    "\n",
    "**Hint**: [Hoooray](https://seaborn.pydata.org/examples/index.html)."
   ]
  },
  {
   "cell_type": "code",
   "execution_count": null,
   "metadata": {
    "pycharm": {
     "name": "#%%\n"
    }
   },
   "outputs": [],
   "source": [
    "import seaborn as sns\n",
    "plt.figure(figsize=(14,10)) # change this if needed\n",
    "\n",
    "### ~ 5.2\n",
    "### Your code here! ###"
   ]
  },
  {
   "cell_type": "markdown",
   "metadata": {
    "pycharm": {
     "name": "#%% md\n"
    }
   },
   "source": [
    "### **Task 5.3**\n",
    "\n",
    "Notice that the previous analysis fails to isolate the increases or decreases in each individual topic from the overall increases or decreases in pageviews across Wikipedia in general. That is, it could be that all topics gained/lost pageviews, but some did so more than articles in general, while others did so less than articles in general. To address this issue, you should:\n",
    "\n",
    "\n",
    "1. Normalize the pageviews counts in the dataframe created in Task 5.1. Instead of using the raw number of pageviews, you should compute, for each day, what fraction of all pageviews a topic received.\n",
    "\n",
    "2. Create a second visualization that shows not the **raw** value of pageviews before and after, but the **relative** value that you just calculated.\n",
    "\n",
    "3. **Discuss:** According to Task 5.2, what topics have increased in terms of the raw, absolute number of pageviews after the quarantine started? In relative, rather than absolute, terms, do these findings still hold? If not, what has changed?\n",
    "\n",
    "---"
   ]
  },
  {
   "cell_type": "code",
   "execution_count": null,
   "metadata": {},
   "outputs": [],
   "source": [
    "### ~ 5.3.1\n",
    "### Your code here! ###"
   ]
  },
  {
   "cell_type": "code",
   "execution_count": null,
   "metadata": {},
   "outputs": [],
   "source": [
    "### ~ 5.3.2\n",
    "### Your code here! ###"
   ]
  },
  {
   "cell_type": "code",
   "execution_count": null,
   "metadata": {},
   "outputs": [],
   "source": [
    "### ~ 5.3.3\n",
    "### Your text here! ###"
   ]
  },
  {
   "cell_type": "markdown",
   "metadata": {},
   "source": [
    "---"
   ]
  }
 ],
 "metadata": {
  "kernelspec": {
   "display_name": "Python 3",
   "language": "python",
   "name": "python3"
  },
  "language_info": {
   "codemirror_mode": {
    "name": "ipython",
    "version": 3
   },
   "file_extension": ".py",
   "mimetype": "text/x-python",
   "name": "python",
   "nbconvert_exporter": "python",
   "pygments_lexer": "ipython3",
   "version": "3.8.5"
  },
  "pycharm": {
   "stem_cell": {
    "cell_type": "raw",
    "metadata": {
     "collapsed": false
    },
    "source": []
   }
  }
 },
 "nbformat": 4,
 "nbformat_minor": 4
}
