{
 "cells": [
  {
   "cell_type": "markdown",
   "metadata": {},
   "source": [
    "# Project milestone 4\n",
    "# Detection of housing-health relationship\n",
    "\n",
    "\n",
    "The aim of this project is to estimate the relation between housing quality and health status of a person. The project is an observational study based on a survey made by Mexican National Institute of Statistics and Geography. The health variables reported for each person will be used to define a single health variable which will be a score for each person's health status. We aim to use machine learning methods to do the classification and we will use regression models to predict this health score from the housing variables. Matching will be used to weed out the possible covariates. The motivation is to estimate the most important parameters of housing quality so that we can propose most cost-effective solutions that would increase the quality of health. The original paper is based on the analysis of influence of concrete floors on health quality, while here we would investigate some other parameters such as material used for building and whether there is a toilet or not in the household."
   ]
  },
  {
   "cell_type": "markdown",
   "metadata": {},
   "source": [
    "# Step 1: Import data"
   ]
  },
  {
   "cell_type": "code",
   "execution_count": 1,
   "metadata": {},
   "outputs": [],
   "source": [
    "import pandas as pd\n",
    "import numpy as np\n",
    "import statsmodels.formula.api as smf\n",
    "import matplotlib.pyplot as plt\n",
    "\n",
    "### Import data ###\n",
    "#data_household = pd.read_csv('data_translated/household.csv')\n",
    "data_house = pd.read_csv('data_translated/house.csv',low_memory=False)\n",
    "data_person = pd.read_csv('data_translated/person.csv',low_memory=False)"
   ]
  },
  {
   "cell_type": "code",
   "execution_count": 2,
   "metadata": {},
   "outputs": [],
   "source": [
    "# Merge data sets\n",
    "data_person_all = data_person.merge(data_house, left_on=['House_identifier'], right_on=['House_identifier'])"
   ]
  },
  {
   "cell_type": "markdown",
   "metadata": {},
   "source": [
    "# Step 2: Exploratory Data Analysis"
   ]
  },
  {
   "cell_type": "code",
   "execution_count": 3,
   "metadata": {},
   "outputs": [
    {
     "data": {
      "text/html": [
       "<div>\n",
       "<style scoped>\n",
       "    .dataframe tbody tr th:only-of-type {\n",
       "        vertical-align: middle;\n",
       "    }\n",
       "\n",
       "    .dataframe tbody tr th {\n",
       "        vertical-align: top;\n",
       "    }\n",
       "\n",
       "    .dataframe thead th {\n",
       "        text-align: right;\n",
       "    }\n",
       "</style>\n",
       "<table border=\"1\" class=\"dataframe\">\n",
       "  <thead>\n",
       "    <tr style=\"text-align: right;\">\n",
       "      <th></th>\n",
       "      <th>Wear_glasses</th>\n",
       "      <th>Difficulty_seeing</th>\n",
       "      <th>Wear_a_hearing_aid</th>\n",
       "      <th>Difficulty_hearing</th>\n",
       "      <th>Difficulty_hearing_without_noise</th>\n",
       "      <th>Difficulty_hearing_with_noise</th>\n",
       "      <th>Dificulty_to_walk</th>\n",
       "      <th>Use_a_walking_device</th>\n",
       "      <th>Walking_apparatus</th>\n",
       "      <th>Difficulty_walking_100_m</th>\n",
       "      <th>...</th>\n",
       "      <th>Medication_for_nervousness</th>\n",
       "      <th>Intensity_of_nervousness</th>\n",
       "      <th>Frequency_of_depression</th>\n",
       "      <th>Antidepressant_medications</th>\n",
       "      <th>Intensity_of_depression</th>\n",
       "      <th>Frequency_of_pain</th>\n",
       "      <th>Pain_intensity</th>\n",
       "      <th>Fatigue_frequency</th>\n",
       "      <th>Tired_time</th>\n",
       "      <th>Limiting_physical_or_mental_activity</th>\n",
       "    </tr>\n",
       "  </thead>\n",
       "  <tbody>\n",
       "    <tr>\n",
       "      <th>count</th>\n",
       "      <td>208140</td>\n",
       "      <td>208140</td>\n",
       "      <td>208140</td>\n",
       "      <td>208140</td>\n",
       "      <td>208140</td>\n",
       "      <td>208140</td>\n",
       "      <td>208140</td>\n",
       "      <td>208140</td>\n",
       "      <td>208140</td>\n",
       "      <td>208140</td>\n",
       "      <td>...</td>\n",
       "      <td>208140</td>\n",
       "      <td>208140</td>\n",
       "      <td>208140</td>\n",
       "      <td>208140</td>\n",
       "      <td>208140</td>\n",
       "      <td>208140</td>\n",
       "      <td>208140</td>\n",
       "      <td>208140</td>\n",
       "      <td>208140</td>\n",
       "      <td>208140</td>\n",
       "    </tr>\n",
       "    <tr>\n",
       "      <th>unique</th>\n",
       "      <td>3</td>\n",
       "      <td>6</td>\n",
       "      <td>3</td>\n",
       "      <td>6</td>\n",
       "      <td>6</td>\n",
       "      <td>6</td>\n",
       "      <td>6</td>\n",
       "      <td>3</td>\n",
       "      <td>9</td>\n",
       "      <td>6</td>\n",
       "      <td>...</td>\n",
       "      <td>4</td>\n",
       "      <td>5</td>\n",
       "      <td>7</td>\n",
       "      <td>4</td>\n",
       "      <td>5</td>\n",
       "      <td>6</td>\n",
       "      <td>5</td>\n",
       "      <td>6</td>\n",
       "      <td>5</td>\n",
       "      <td>2</td>\n",
       "    </tr>\n",
       "    <tr>\n",
       "      <th>top</th>\n",
       "      <td>2</td>\n",
       "      <td>1</td>\n",
       "      <td>2</td>\n",
       "      <td>1</td>\n",
       "      <td>1</td>\n",
       "      <td>1</td>\n",
       "      <td>1</td>\n",
       "      <td>2</td>\n",
       "      <td></td>\n",
       "      <td>1</td>\n",
       "      <td>...</td>\n",
       "      <td>2</td>\n",
       "      <td></td>\n",
       "      <td>5</td>\n",
       "      <td>2</td>\n",
       "      <td></td>\n",
       "      <td>1</td>\n",
       "      <td></td>\n",
       "      <td>1</td>\n",
       "      <td></td>\n",
       "      <td></td>\n",
       "    </tr>\n",
       "    <tr>\n",
       "      <th>freq</th>\n",
       "      <td>146309</td>\n",
       "      <td>163575</td>\n",
       "      <td>197136</td>\n",
       "      <td>186322</td>\n",
       "      <td>190264</td>\n",
       "      <td>177606</td>\n",
       "      <td>175302</td>\n",
       "      <td>191991</td>\n",
       "      <td>201868</td>\n",
       "      <td>184590</td>\n",
       "      <td>...</td>\n",
       "      <td>178203</td>\n",
       "      <td>117286</td>\n",
       "      <td>126698</td>\n",
       "      <td>180272</td>\n",
       "      <td>152071</td>\n",
       "      <td>132028</td>\n",
       "      <td>157153</td>\n",
       "      <td>129517</td>\n",
       "      <td>154635</td>\n",
       "      <td>205250</td>\n",
       "    </tr>\n",
       "  </tbody>\n",
       "</table>\n",
       "<p>4 rows × 24 columns</p>\n",
       "</div>"
      ],
      "text/plain": [
       "       Wear_glasses Difficulty_seeing Wear_a_hearing_aid Difficulty_hearing  \\\n",
       "count        208140            208140             208140             208140   \n",
       "unique            3                 6                  3                  6   \n",
       "top               2                 1                  2                  1   \n",
       "freq         146309            163575             197136             186322   \n",
       "\n",
       "       Difficulty_hearing_without_noise Difficulty_hearing_with_noise  \\\n",
       "count                            208140                        208140   \n",
       "unique                                6                             6   \n",
       "top                                   1                             1   \n",
       "freq                             190264                        177606   \n",
       "\n",
       "       Dificulty_to_walk Use_a_walking_device Walking_apparatus  \\\n",
       "count             208140               208140            208140   \n",
       "unique                 6                    3                 9   \n",
       "top                    1                    2                     \n",
       "freq              175302               191991            201868   \n",
       "\n",
       "       Difficulty_walking_100_m  ... Medication_for_nervousness  \\\n",
       "count                    208140  ...                     208140   \n",
       "unique                        6  ...                          4   \n",
       "top                           1  ...                          2   \n",
       "freq                     184590  ...                     178203   \n",
       "\n",
       "       Intensity_of_nervousness Frequency_of_depression  \\\n",
       "count                    208140                  208140   \n",
       "unique                        5                       7   \n",
       "top                                                   5   \n",
       "freq                     117286                  126698   \n",
       "\n",
       "       Antidepressant_medications Intensity_of_depression Frequency_of_pain  \\\n",
       "count                      208140                  208140            208140   \n",
       "unique                          4                       5                 6   \n",
       "top                             2                                         1   \n",
       "freq                       180272                  152071            132028   \n",
       "\n",
       "       Pain_intensity Fatigue_frequency Tired_time  \\\n",
       "count          208140            208140     208140   \n",
       "unique              5                 6          5   \n",
       "top                                   1              \n",
       "freq           157153            129517     154635   \n",
       "\n",
       "       Limiting_physical_or_mental_activity  \n",
       "count                                208140  \n",
       "unique                                    2  \n",
       "top                                          \n",
       "freq                                 205250  \n",
       "\n",
       "[4 rows x 24 columns]"
      ]
     },
     "execution_count": 3,
     "metadata": {},
     "output_type": "execute_result"
    }
   ],
   "source": [
    "# Our selected health variables\n",
    "health_var = list(data_person_all.columns[34:57]) + [data_person_all.columns[26]]\n",
    "data_person_all[health_var].describe()"
   ]
  },
  {
   "cell_type": "code",
   "execution_count": 4,
   "metadata": {},
   "outputs": [],
   "source": [
    "# replacing \" \" and '9' values with proper Nan\n",
    "data_person_all = data_person_all.replace(' ', np.nan)\n",
    "data_person_all = data_person_all.replace('&', np.nan)\n",
    "data_person_all = data_person_all.replace('9', np.nan)"
   ]
  },
  {
   "cell_type": "code",
   "execution_count": 5,
   "metadata": {},
   "outputs": [],
   "source": [
    "# get an idea of what kind of values are present in the daset\n",
    "#for i in range(len(data_person_all.columns)):\n",
    "    #print(data_person_all[data_person_all.columns[i]].isna().sum())\n",
    "    #print(data_person_all[data_person_all.columns[i]].value_counts())"
   ]
  },
  {
   "cell_type": "code",
   "execution_count": 6,
   "metadata": {},
   "outputs": [],
   "source": [
    "# drop columns with more than 30% of NaN values\n",
    "nulli = []\n",
    "exc = []\n",
    "thr = int(len(data_person_all)*0.3)\n",
    "for i in range(len(list(data_person_all.columns))):\n",
    "    nulli.append(data_person_all[list(data_person_all.columns)[i]].isnull().values.sum())\n",
    "    if (nulli[i] > thr):\n",
    "        exc.append(i)\n",
    "data_person_all = data_person_all.drop(columns = [list(data_person_all.columns)[i] for i in exc], axis=1)\n",
    "# drop columns considere not useful\n",
    "data_person_all = data_person_all.drop(columns = [\"Birthday\", \"Birth_month\", \"Basic_geostatistical_area\"], axis=1)"
   ]
  },
  {
   "cell_type": "code",
   "execution_count": 7,
   "metadata": {},
   "outputs": [
    {
     "data": {
      "text/plain": [
       "18"
      ]
     },
     "execution_count": 7,
     "metadata": {},
     "output_type": "execute_result"
    }
   ],
   "source": [
    "# update health variable\n",
    "health_var = [i for i in health_var if i in list(data_person_all.columns)]\n",
    "len(health_var)"
   ]
  },
  {
   "cell_type": "markdown",
   "metadata": {},
   "source": [
    "### Filter nan values"
   ]
  },
  {
   "cell_type": "code",
   "execution_count": 8,
   "metadata": {},
   "outputs": [],
   "source": [
    "# fill nan values with median should be more robust than mean\n",
    "data_person_all.fillna(data_person_all.median(),inplace = True)"
   ]
  },
  {
   "cell_type": "markdown",
   "metadata": {},
   "source": [
    "### Choose appropriate data type for variables and categorize"
   ]
  },
  {
   "cell_type": "code",
   "execution_count": 9,
   "metadata": {},
   "outputs": [],
   "source": [
    "# converting our data to integer type\n",
    "for temp in data_person_all.columns:\n",
    "    data_person_all[temp]=data_person_all[temp].astype(int)"
   ]
  },
  {
   "cell_type": "markdown",
   "metadata": {},
   "source": [
    "### Creation of health variable"
   ]
  },
  {
   "cell_type": "markdown",
   "metadata": {},
   "source": [
    "Given the high number of health related variables present in our dataset, we decided to condense all of them in just one variable ranging from 0 to 18, with 18 being the \"healthiest\" score which also corresponds to number of health variables we selected in the dataset. To obtain this score we first consider every health variable independently, we derive its set of possible values and for each of this values we derive the proportion of people in the dataset that have a value equal or lower divided by the number of elements in the dataset( given the structure of the original database we reverse the order in this operation). We then substituted those new values in the dataset and added them to obtain the final score."
   ]
  },
  {
   "cell_type": "code",
   "execution_count": 10,
   "metadata": {},
   "outputs": [],
   "source": [
    "# from the dataset the binary column have encoding 2:True, 1:False\n",
    "# for variables with more than one outcome they are in increasing order\n",
    "weights = []\n",
    "for temp in health_var:\n",
    "    lista = []\n",
    "    dic = dict(data_person_all[temp].value_counts())\n",
    "    dic = sorted(dic.items(), reverse = True)\n",
    "    \n",
    "    som = 0\n",
    "    for tup in dic:\n",
    "        som += tup[1]\n",
    "        lista.append(som/len(data_person_all))\n",
    "    weights.append(lista)"
   ]
  },
  {
   "cell_type": "code",
   "execution_count": 11,
   "metadata": {},
   "outputs": [],
   "source": [
    "# putting the weights in the dataset\n",
    "for num,temp in enumerate(health_var):\n",
    "    if (len(dic)==2):\n",
    "        data_person_all[temp] = data_person_all[temp].replace(range(2,0,-1),weights[num])\n",
    "    else:\n",
    "        data_person_all[temp] = data_person_all[temp].replace(range(len(weights[num]),0,-1),weights[num])"
   ]
  },
  {
   "cell_type": "code",
   "execution_count": 12,
   "metadata": {},
   "outputs": [],
   "source": [
    "#creating health variable\n",
    "data_person_all[\"health\"] = data_person_all.apply(lambda x: sum([x[i] for i in health_var]), axis=1)"
   ]
  },
  {
   "cell_type": "code",
   "execution_count": 13,
   "metadata": {},
   "outputs": [
    {
     "data": {
      "text/plain": [
       "<AxesSubplot:>"
      ]
     },
     "execution_count": 13,
     "metadata": {},
     "output_type": "execute_result"
    },
    {
     "data": {
      "image/png": "[encoded data removed]",
      "text/plain": [
       "<Figure size 432x288 with 1 Axes>"
      ]
     },
     "metadata": {
      "needs_background": "light"
     },
     "output_type": "display_data"
    }
   ],
   "source": [
    "# distribution of \"health\" in the dataset\n",
    "data_person_all[\"health\"].hist()"
   ]
  },
  {
   "cell_type": "markdown",
   "metadata": {},
   "source": [
    "# Step 3: Regression"
   ]
  },
  {
   "cell_type": "markdown",
   "metadata": {},
   "source": [
    "### Fill response variables"
   ]
  },
  {
   "cell_type": "code",
   "execution_count": 14,
   "metadata": {},
   "outputs": [
    {
     "data": {
      "text/plain": [
       "count    208140.000000\n",
       "mean         16.055419\n",
       "std           1.827860\n",
       "min           6.205251\n",
       "25%          15.885111\n",
       "50%          16.972398\n",
       "75%          16.972398\n",
       "max          17.964452\n",
       "Name: health, dtype: float64"
      ]
     },
     "execution_count": 14,
     "metadata": {},
     "output_type": "execute_result"
    }
   ],
   "source": [
    "data_person_all[\"health\"].describe()"
   ]
  },
  {
   "cell_type": "code",
   "execution_count": 15,
   "metadata": {},
   "outputs": [],
   "source": [
    "# To run for all health_var or for health score\n",
    "response='health'"
   ]
  },
  {
   "cell_type": "markdown",
   "metadata": {},
   "source": [
    "### Pearson correlation"
   ]
  },
  {
   "cell_type": "code",
   "execution_count": 36,
   "metadata": {},
   "outputs": [],
   "source": [
    "health_var.append('health')\n",
    "covariates=list(data_person_all.columns)\n",
    "covariates = [x for x in covariates if not x in health_var]"
   ]
  },
  {
   "cell_type": "code",
   "execution_count": 30,
   "metadata": {},
   "outputs": [
    {
     "name": "stdout",
     "output_type": "stream",
     "text": [
      "('Age', -0.5018541924344349)\n",
      "('Identifier_of_the_person', 0.2504309825248814)\n",
      "('School_attendance', -0.21247584498949967)\n",
      "('Literacy', -0.2000524537493506)\n",
      "('Worked_last_week', -0.17528009260160496)\n",
      "('Relationship', 0.14300248226417683)\n",
      "('Level_of_instruction', 0.13779484228847003)\n",
      "('Age_of_the_home', -0.12841675543308503)\n",
      "('Cell_phone_availability', -0.12348536268802054)\n",
      "('Computer_availability', -0.09732595681633442)\n",
      "('Internet_availability', -0.0947756069700555)\n",
      "('Repair_the_walls', 0.09411765117504883)\n",
      "('Repair_the_roof', 0.09252092605110211)\n",
      "('Type_of_home_ownership', -0.08295425331802052)\n",
      "('Availability_of_own_car', -0.08184190826367867)\n",
      "('Repair_electrical_wiring', 0.08081708905560224)\n",
      "('Garage_space', -0.06454950089016388)\n",
      "('Sex', -0.0642691778731948)\n",
      "('Flooring_material', 0.0617419988995056)\n",
      "('Repair_the_water_pipes', 0.06171887063256594)\n",
      "('Roofing_material', 0.058526520243429477)\n",
      "('Repair_drain_pipes', 0.057728744168288014)\n",
      "('Pay_TV_service_availability', -0.056031455273784544)\n",
      "('Number_of_energy_saving_bulbs', 0.05568139103415067)\n",
      "('Socioeconomic', 0.05380117048039267)\n",
      "('Location_size', -0.05170597102662649)\n",
      "('Toilet_toilet_shower', 0.04724655433383932)\n",
      "('Bedroom_rooms', 0.045681348864129306)\n",
      "('It_has_air_conditioning', -0.04544694163281543)\n",
      "('Fuel_type', 0.04056396664543793)\n",
      "('It_has_a_sink', -0.04024149585137365)\n",
      "('Laundry_room_space', -0.04013046034447025)\n",
      "('Sanitary_water_connection', -0.03970018202581509)\n",
      "('Build_business', 0.039319881346246005)\n",
      "('It_has_a_shower', -0.03807257060161139)\n",
      "('Living_room_space', -0.03759855377161338)\n",
      "('Toilet_toilet', -0.03367224528146542)\n",
      "('Build_kitchen', 0.03240517158384479)\n",
      "('Garbage_disposal', -0.031208404421446158)\n",
      "('Wall_material', 0.02951440940503543)\n",
      "('It_has_heating', -0.026440694603485974)\n",
      "('TV_room_space', -0.026060894188566136)\n",
      "('It_has_a_pool_or_tank', 0.02598310276975725)\n",
      "('It_has_a_gas_heater_for_water', -0.02556669453133177)\n",
      "('It_has_a_cistern', -0.02471040895143249)\n",
      "('Build_bathroom', 0.02411572556491755)\n",
      "('It_has_a_stationary_gas_tank', -0.024111722925438762)\n",
      "('Study_room_space', -0.024022423254926695)\n",
      "('Number_of_rooms', 0.02362107087899212)\n",
      "('Water_supply', -0.022280599369456665)\n",
      "('Common_area_with_other_homes', -0.021460138139365537)\n",
      "('Primary_sampling_unit', -0.021090222756109743)\n",
      "('Water_availability', -0.021007881536765256)\n",
      "('Geographic_location', -0.0202823951131207)\n",
      "('Home', -0.01952868015886139)\n",
      "('Drainage_destination', -0.018775646482130055)\n",
      "('Game_room_space', -0.018366419907976595)\n",
      "('Toilet_shower', -0.01824745009445959)\n",
      "('Sample_design_stratum', -0.017233580204582707)\n",
      "('Housing_type', 0.016930231794650474)\n",
      "('It_has_a_water_pump', -0.01639282548233518)\n",
      "('It_has_a_water_tank', -0.01559286285435224)\n",
      "('It_has_an_electric_shower', -0.014784206882295675)\n",
      "('Shared_use_of_the_toilet', 0.014538333715503933)\n",
      "('Household_identifier', 0.014302000371114372)\n",
      "('Space_for_exercise_room', -0.014231841660622257)\n",
      "('House_identifier', -0.012229959414823474)\n",
      "('Grade_level_of_instruction', 0.011990066879933418)\n",
      "('It_has_a_fireplace', 0.011274707667217372)\n",
      "('It_has_kitchen', -0.010191745229979407)\n",
      "('Number_of_incandescent_bulbs', -0.010178581324447072)\n",
      "('Electric_availability', -0.008712696857811954)\n",
      "('Other_type_of_insulation', 0.008662941344575507)\n",
      "('Fixed_telephone_line_availability', 0.008480382109694774)\n",
      "('It_has_a_solar_water_heater', -0.008160763733532618)\n",
      "('It_has_a_light_meter', 0.007787526655871067)\n",
      "('Marital_status', 0.007781772285552101)\n",
      "('Insulation_in_walls', 0.007338402374131704)\n",
      "('Window_insulation', 0.005879494241818725)\n",
      "('It_has_a_laundry_room', -0.005435111322213721)\n",
      "('Has_a_toilet', 0.005077133119207373)\n",
      "('Roof_insulation', 0.004484293556513773)\n",
      "('Garden_space', 0.004377374522353257)\n",
      "('Total_households_in_the_dwelling', 0.0036310216487226614)\n",
      "('Build_bedroom', -0.0030825802074832603)\n",
      "('Patio_space', 0.0028329735349241062)\n",
      "('Expansion_factor', 0.0017469914947498544)\n",
      "('Used_bedroom_kitchen', 0.0012025647155487163)\n"
     ]
    }
   ],
   "source": [
    "pearson_result=data_person_all[covariates].corrwith(data_person_all['health'], axis=0, method='pearson')\n",
    "pearson_result=pearson_result.reindex(pearson_result.abs().sort_values(ascending=False).index)\n",
    "#for val in pearson_result.items():\n",
    "    #print(val)\n",
    "covariates_top=pearson_result.index[0:30]"
   ]
  },
  {
   "cell_type": "markdown",
   "metadata": {},
   "source": [
    "### Fill model with all variables"
   ]
  },
  {
   "cell_type": "code",
   "execution_count": 37,
   "metadata": {},
   "outputs": [
    {
     "data": {
      "text/plain": [
       "'~+Age_of_the_home+C(Cell_phone_availability)+C(Computer_availability)+C(Internet_availability)+C(Repair_the_walls)+C(Repair_the_roof)+C(Type_of_home_ownership)+C(Availability_of_own_car)+C(Repair_electrical_wiring)+C(Garage_space)+C(Flooring_material)+C(Repair_the_water_pipes)+C(Roofing_material)+C(Repair_drain_pipes)+C(Pay_TV_service_availability)+Number_of_energy_saving_bulbs+C(Socioeconomic)+C(Location_size)+Toilet_toilet_shower+Bedroom_rooms+C(It_has_air_conditioning)+C(Fuel_type)'"
      ]
     },
     "execution_count": 37,
     "metadata": {},
     "output_type": "execute_result"
    }
   ],
   "source": [
    "model='~'\n",
    "cat_list=['Relationship','Type_of_home_ownership', 'Flooring_material', 'Roofing_material', 'Socioeconomic' ,'Location_size', 'Fuel_type']\n",
    "\n",
    "for index,item in enumerate(covariates_top):\n",
    "    if item not in data_house.columns:\n",
    "        continue\n",
    "    if index<1:\n",
    "        model=model+item\n",
    "    else:\n",
    "        if data_person_all[item].value_counts().count()==2 or item in cat_list:\n",
    "            model=model+'+'+'C('+item+')'\n",
    "        else:\n",
    "            model=model+'+'+item\n",
    "            # Standardize the countinuous variables\n",
    "            data_person_all[item] = (data_person_all[item] - data_person_all[item].mean())/data_person_all[item].std()\n",
    "                \n",
    "model"
   ]
  },
  {
   "cell_type": "code",
   "execution_count": 38,
   "metadata": {},
   "outputs": [
    {
     "data": {
      "text/html": [
       "<table class=\"simpletable\">\n",
       "<caption>OLS Regression Results</caption>\n",
       "<tr>\n",
       "  <th>Dep. Variable:</th>         <td>health</td>      <th>  R-squared:         </th>  <td>   0.054</td>  \n",
       "</tr>\n",
       "<tr>\n",
       "  <th>Model:</th>                   <td>OLS</td>       <th>  Adj. R-squared:    </th>  <td>   0.054</td>  \n",
       "</tr>\n",
       "<tr>\n",
       "  <th>Method:</th>             <td>Least Squares</td>  <th>  F-statistic:       </th>  <td>   285.2</td>  \n",
       "</tr>\n",
       "<tr>\n",
       "  <th>Date:</th>             <td>Thu, 17 Dec 2020</td> <th>  Prob (F-statistic):</th>   <td>  0.00</td>   \n",
       "</tr>\n",
       "<tr>\n",
       "  <th>Time:</th>                 <td>19:01:30</td>     <th>  Log-Likelihood:    </th> <td>-4.1505e+05</td>\n",
       "</tr>\n",
       "<tr>\n",
       "  <th>No. Observations:</th>      <td>208140</td>      <th>  AIC:               </th>  <td>8.302e+05</td> \n",
       "</tr>\n",
       "<tr>\n",
       "  <th>Df Residuals:</th>          <td>208097</td>      <th>  BIC:               </th>  <td>8.306e+05</td> \n",
       "</tr>\n",
       "<tr>\n",
       "  <th>Df Model:</th>              <td>    42</td>      <th>                     </th>      <td> </td>     \n",
       "</tr>\n",
       "<tr>\n",
       "  <th>Covariance Type:</th>      <td>nonrobust</td>    <th>                     </th>      <td> </td>     \n",
       "</tr>\n",
       "</table>\n",
       "<table class=\"simpletable\">\n",
       "<tr>\n",
       "                   <td></td>                      <th>coef</th>     <th>std err</th>      <th>t</th>      <th>P>|t|</th>  <th>[0.025</th>    <th>0.975]</th>  \n",
       "</tr>\n",
       "<tr>\n",
       "  <th>Intercept</th>                           <td>   17.0141</td> <td>    0.150</td> <td>  113.562</td> <td> 0.000</td> <td>   16.720</td> <td>   17.308</td>\n",
       "</tr>\n",
       "<tr>\n",
       "  <th>C(Cell_phone_availability)[T.2]</th>     <td>   -0.5770</td> <td>    0.014</td> <td>  -39.976</td> <td> 0.000</td> <td>   -0.605</td> <td>   -0.549</td>\n",
       "</tr>\n",
       "<tr>\n",
       "  <th>C(Computer_availability)[T.2]</th>       <td>   -0.1575</td> <td>    0.010</td> <td>  -15.171</td> <td> 0.000</td> <td>   -0.178</td> <td>   -0.137</td>\n",
       "</tr>\n",
       "<tr>\n",
       "  <th>C(Internet_availability)[T.2]</th>       <td>   -0.1211</td> <td>    0.010</td> <td>  -11.565</td> <td> 0.000</td> <td>   -0.142</td> <td>   -0.101</td>\n",
       "</tr>\n",
       "<tr>\n",
       "  <th>C(Repair_the_walls)[T.2]</th>            <td>    0.0949</td> <td>    0.010</td> <td>    9.811</td> <td> 0.000</td> <td>    0.076</td> <td>    0.114</td>\n",
       "</tr>\n",
       "<tr>\n",
       "  <th>C(Repair_the_roof)[T.2]</th>             <td>    0.0936</td> <td>    0.010</td> <td>    9.613</td> <td> 0.000</td> <td>    0.075</td> <td>    0.113</td>\n",
       "</tr>\n",
       "<tr>\n",
       "  <th>C(Type_of_home_ownership)[T.2]</th>      <td>   -0.1676</td> <td>    0.015</td> <td>  -11.108</td> <td> 0.000</td> <td>   -0.197</td> <td>   -0.138</td>\n",
       "</tr>\n",
       "<tr>\n",
       "  <th>C(Type_of_home_ownership)[T.3]</th>      <td>   -0.1851</td> <td>    0.017</td> <td>  -11.000</td> <td> 0.000</td> <td>   -0.218</td> <td>   -0.152</td>\n",
       "</tr>\n",
       "<tr>\n",
       "  <th>C(Type_of_home_ownership)[T.4]</th>      <td>   -0.4217</td> <td>    0.013</td> <td>  -31.972</td> <td> 0.000</td> <td>   -0.448</td> <td>   -0.396</td>\n",
       "</tr>\n",
       "<tr>\n",
       "  <th>C(Type_of_home_ownership)[T.5]</th>      <td>   -0.3657</td> <td>    0.025</td> <td>  -14.730</td> <td> 0.000</td> <td>   -0.414</td> <td>   -0.317</td>\n",
       "</tr>\n",
       "<tr>\n",
       "  <th>C(Type_of_home_ownership)[T.6]</th>      <td>   -0.2982</td> <td>    0.036</td> <td>   -8.389</td> <td> 0.000</td> <td>   -0.368</td> <td>   -0.229</td>\n",
       "</tr>\n",
       "<tr>\n",
       "  <th>C(Availability_of_own_car)[T.2]</th>     <td>   -0.1217</td> <td>    0.010</td> <td>  -12.502</td> <td> 0.000</td> <td>   -0.141</td> <td>   -0.103</td>\n",
       "</tr>\n",
       "<tr>\n",
       "  <th>C(Repair_electrical_wiring)[T.2]</th>    <td>    0.1174</td> <td>    0.011</td> <td>   10.685</td> <td> 0.000</td> <td>    0.096</td> <td>    0.139</td>\n",
       "</tr>\n",
       "<tr>\n",
       "  <th>C(Garage_space)[T.2]</th>                <td>    0.0151</td> <td>    0.010</td> <td>    1.559</td> <td> 0.119</td> <td>   -0.004</td> <td>    0.034</td>\n",
       "</tr>\n",
       "<tr>\n",
       "  <th>C(Flooring_material)[T.2]</th>           <td>   -0.1369</td> <td>    0.028</td> <td>   -4.953</td> <td> 0.000</td> <td>   -0.191</td> <td>   -0.083</td>\n",
       "</tr>\n",
       "<tr>\n",
       "  <th>C(Flooring_material)[T.3]</th>           <td>   -0.1579</td> <td>    0.029</td> <td>   -5.379</td> <td> 0.000</td> <td>   -0.215</td> <td>   -0.100</td>\n",
       "</tr>\n",
       "<tr>\n",
       "  <th>C(Repair_the_water_pipes)[T.2]</th>      <td>    0.0900</td> <td>    0.012</td> <td>    7.535</td> <td> 0.000</td> <td>    0.067</td> <td>    0.113</td>\n",
       "</tr>\n",
       "<tr>\n",
       "  <th>C(Roofing_material)[T.2]</th>            <td>   -0.2120</td> <td>    0.151</td> <td>   -1.402</td> <td> 0.161</td> <td>   -0.508</td> <td>    0.084</td>\n",
       "</tr>\n",
       "<tr>\n",
       "  <th>C(Roofing_material)[T.3]</th>            <td>   -0.2867</td> <td>    0.145</td> <td>   -1.975</td> <td> 0.048</td> <td>   -0.571</td> <td>   -0.002</td>\n",
       "</tr>\n",
       "<tr>\n",
       "  <th>C(Roofing_material)[T.4]</th>            <td>   -0.3523</td> <td>    0.146</td> <td>   -2.418</td> <td> 0.016</td> <td>   -0.638</td> <td>   -0.067</td>\n",
       "</tr>\n",
       "<tr>\n",
       "  <th>C(Roofing_material)[T.5]</th>            <td>   -0.1138</td> <td>    0.156</td> <td>   -0.731</td> <td> 0.465</td> <td>   -0.419</td> <td>    0.191</td>\n",
       "</tr>\n",
       "<tr>\n",
       "  <th>C(Roofing_material)[T.6]</th>            <td>   -0.2637</td> <td>    0.147</td> <td>   -1.796</td> <td> 0.072</td> <td>   -0.551</td> <td>    0.024</td>\n",
       "</tr>\n",
       "<tr>\n",
       "  <th>C(Roofing_material)[T.7]</th>            <td>   -0.3324</td> <td>    0.150</td> <td>   -2.223</td> <td> 0.026</td> <td>   -0.626</td> <td>   -0.039</td>\n",
       "</tr>\n",
       "<tr>\n",
       "  <th>C(Roofing_material)[T.8]</th>            <td>   -0.3506</td> <td>    0.148</td> <td>   -2.362</td> <td> 0.018</td> <td>   -0.641</td> <td>   -0.060</td>\n",
       "</tr>\n",
       "<tr>\n",
       "  <th>C(Roofing_material)[T.9]</th>            <td>   -0.2440</td> <td>    0.145</td> <td>   -1.685</td> <td> 0.092</td> <td>   -0.528</td> <td>    0.040</td>\n",
       "</tr>\n",
       "<tr>\n",
       "  <th>C(Repair_drain_pipes)[T.2]</th>          <td>    0.0302</td> <td>    0.013</td> <td>    2.300</td> <td> 0.021</td> <td>    0.004</td> <td>    0.056</td>\n",
       "</tr>\n",
       "<tr>\n",
       "  <th>C(Pay_TV_service_availability)[T.2]</th> <td>   -0.0487</td> <td>    0.008</td> <td>   -5.779</td> <td> 0.000</td> <td>   -0.065</td> <td>   -0.032</td>\n",
       "</tr>\n",
       "<tr>\n",
       "  <th>C(Socioeconomic)[T.2]</th>               <td>   -0.1099</td> <td>    0.014</td> <td>   -7.761</td> <td> 0.000</td> <td>   -0.138</td> <td>   -0.082</td>\n",
       "</tr>\n",
       "<tr>\n",
       "  <th>C(Socioeconomic)[T.3]</th>               <td>   -0.1516</td> <td>    0.019</td> <td>   -8.123</td> <td> 0.000</td> <td>   -0.188</td> <td>   -0.115</td>\n",
       "</tr>\n",
       "<tr>\n",
       "  <th>C(Socioeconomic)[T.4]</th>               <td>   -0.0975</td> <td>    0.023</td> <td>   -4.259</td> <td> 0.000</td> <td>   -0.142</td> <td>   -0.053</td>\n",
       "</tr>\n",
       "<tr>\n",
       "  <th>C(Location_size)[T.2]</th>               <td>   -0.0271</td> <td>    0.012</td> <td>   -2.215</td> <td> 0.027</td> <td>   -0.051</td> <td>   -0.003</td>\n",
       "</tr>\n",
       "<tr>\n",
       "  <th>C(Location_size)[T.3]</th>               <td>   -0.0216</td> <td>    0.013</td> <td>   -1.657</td> <td> 0.098</td> <td>   -0.047</td> <td>    0.004</td>\n",
       "</tr>\n",
       "<tr>\n",
       "  <th>C(Location_size)[T.4]</th>               <td>    0.0183</td> <td>    0.014</td> <td>    1.294</td> <td> 0.196</td> <td>   -0.009</td> <td>    0.046</td>\n",
       "</tr>\n",
       "<tr>\n",
       "  <th>C(It_has_air_conditioning)[T.2]</th>     <td>   -0.0698</td> <td>    0.011</td> <td>   -6.376</td> <td> 0.000</td> <td>   -0.091</td> <td>   -0.048</td>\n",
       "</tr>\n",
       "<tr>\n",
       "  <th>C(Fuel_type)[T.2]</th>                   <td>   -0.1902</td> <td>    0.067</td> <td>   -2.821</td> <td> 0.005</td> <td>   -0.322</td> <td>   -0.058</td>\n",
       "</tr>\n",
       "<tr>\n",
       "  <th>C(Fuel_type)[T.3]</th>                   <td>   -0.1140</td> <td>    0.014</td> <td>   -7.930</td> <td> 0.000</td> <td>   -0.142</td> <td>   -0.086</td>\n",
       "</tr>\n",
       "<tr>\n",
       "  <th>C(Fuel_type)[T.4]</th>                   <td>   -0.0512</td> <td>    0.024</td> <td>   -2.162</td> <td> 0.031</td> <td>   -0.098</td> <td>   -0.005</td>\n",
       "</tr>\n",
       "<tr>\n",
       "  <th>C(Fuel_type)[T.5]</th>                   <td>   -0.0101</td> <td>    0.045</td> <td>   -0.223</td> <td> 0.823</td> <td>   -0.099</td> <td>    0.079</td>\n",
       "</tr>\n",
       "<tr>\n",
       "  <th>C(Fuel_type)[T.6]</th>                   <td>   -0.2413</td> <td>    0.061</td> <td>   -3.968</td> <td> 0.000</td> <td>   -0.360</td> <td>   -0.122</td>\n",
       "</tr>\n",
       "<tr>\n",
       "  <th>Age_of_the_home</th>                     <td>   -0.2134</td> <td>    0.004</td> <td>  -50.988</td> <td> 0.000</td> <td>   -0.222</td> <td>   -0.205</td>\n",
       "</tr>\n",
       "<tr>\n",
       "  <th>Number_of_energy_saving_bulbs</th>       <td>    0.0035</td> <td>    0.005</td> <td>    0.702</td> <td> 0.483</td> <td>   -0.006</td> <td>    0.013</td>\n",
       "</tr>\n",
       "<tr>\n",
       "  <th>Toilet_toilet_shower</th>                <td>   -0.0478</td> <td>    0.005</td> <td>   -8.983</td> <td> 0.000</td> <td>   -0.058</td> <td>   -0.037</td>\n",
       "</tr>\n",
       "<tr>\n",
       "  <th>Bedroom_rooms</th>                       <td>    0.0933</td> <td>    0.004</td> <td>   20.959</td> <td> 0.000</td> <td>    0.085</td> <td>    0.102</td>\n",
       "</tr>\n",
       "</table>\n",
       "<table class=\"simpletable\">\n",
       "<tr>\n",
       "  <th>Omnibus:</th>       <td>89219.570</td> <th>  Durbin-Watson:     </th>  <td>   1.588</td> \n",
       "</tr>\n",
       "<tr>\n",
       "  <th>Prob(Omnibus):</th>  <td> 0.000</td>   <th>  Jarque-Bera (JB):  </th> <td>378991.351</td>\n",
       "</tr>\n",
       "<tr>\n",
       "  <th>Skew:</th>           <td>-2.145</td>   <th>  Prob(JB):          </th>  <td>    0.00</td> \n",
       "</tr>\n",
       "<tr>\n",
       "  <th>Kurtosis:</th>       <td> 8.029</td>   <th>  Cond. No.          </th>  <td>    324.</td> \n",
       "</tr>\n",
       "</table><br/><br/>Notes:<br/>[1] Standard Errors assume that the covariance matrix of the errors is correctly specified."
      ],
      "text/plain": [
       "<class 'statsmodels.iolib.summary.Summary'>\n",
       "\"\"\"\n",
       "                            OLS Regression Results                            \n",
       "==============================================================================\n",
       "Dep. Variable:                 health   R-squared:                       0.054\n",
       "Model:                            OLS   Adj. R-squared:                  0.054\n",
       "Method:                 Least Squares   F-statistic:                     285.2\n",
       "Date:                Thu, 17 Dec 2020   Prob (F-statistic):               0.00\n",
       "Time:                        19:01:30   Log-Likelihood:            -4.1505e+05\n",
       "No. Observations:              208140   AIC:                         8.302e+05\n",
       "Df Residuals:                  208097   BIC:                         8.306e+05\n",
       "Df Model:                          42                                         \n",
       "Covariance Type:            nonrobust                                         \n",
       "=======================================================================================================\n",
       "                                          coef    std err          t      P>|t|      [0.025      0.975]\n",
       "-------------------------------------------------------------------------------------------------------\n",
       "Intercept                              17.0141      0.150    113.562      0.000      16.720      17.308\n",
       "C(Cell_phone_availability)[T.2]        -0.5770      0.014    -39.976      0.000      -0.605      -0.549\n",
       "C(Computer_availability)[T.2]          -0.1575      0.010    -15.171      0.000      -0.178      -0.137\n",
       "C(Internet_availability)[T.2]          -0.1211      0.010    -11.565      0.000      -0.142      -0.101\n",
       "C(Repair_the_walls)[T.2]                0.0949      0.010      9.811      0.000       0.076       0.114\n",
       "C(Repair_the_roof)[T.2]                 0.0936      0.010      9.613      0.000       0.075       0.113\n",
       "C(Type_of_home_ownership)[T.2]         -0.1676      0.015    -11.108      0.000      -0.197      -0.138\n",
       "C(Type_of_home_ownership)[T.3]         -0.1851      0.017    -11.000      0.000      -0.218      -0.152\n",
       "C(Type_of_home_ownership)[T.4]         -0.4217      0.013    -31.972      0.000      -0.448      -0.396\n",
       "C(Type_of_home_ownership)[T.5]         -0.3657      0.025    -14.730      0.000      -0.414      -0.317\n",
       "C(Type_of_home_ownership)[T.6]         -0.2982      0.036     -8.389      0.000      -0.368      -0.229\n",
       "C(Availability_of_own_car)[T.2]        -0.1217      0.010    -12.502      0.000      -0.141      -0.103\n",
       "C(Repair_electrical_wiring)[T.2]        0.1174      0.011     10.685      0.000       0.096       0.139\n",
       "C(Garage_space)[T.2]                    0.0151      0.010      1.559      0.119      -0.004       0.034\n",
       "C(Flooring_material)[T.2]              -0.1369      0.028     -4.953      0.000      -0.191      -0.083\n",
       "C(Flooring_material)[T.3]              -0.1579      0.029     -5.379      0.000      -0.215      -0.100\n",
       "C(Repair_the_water_pipes)[T.2]          0.0900      0.012      7.535      0.000       0.067       0.113\n",
       "C(Roofing_material)[T.2]               -0.2120      0.151     -1.402      0.161      -0.508       0.084\n",
       "C(Roofing_material)[T.3]               -0.2867      0.145     -1.975      0.048      -0.571      -0.002\n",
       "C(Roofing_material)[T.4]               -0.3523      0.146     -2.418      0.016      -0.638      -0.067\n",
       "C(Roofing_material)[T.5]               -0.1138      0.156     -0.731      0.465      -0.419       0.191\n",
       "C(Roofing_material)[T.6]               -0.2637      0.147     -1.796      0.072      -0.551       0.024\n",
       "C(Roofing_material)[T.7]               -0.3324      0.150     -2.223      0.026      -0.626      -0.039\n",
       "C(Roofing_material)[T.8]               -0.3506      0.148     -2.362      0.018      -0.641      -0.060\n",
       "C(Roofing_material)[T.9]               -0.2440      0.145     -1.685      0.092      -0.528       0.040\n",
       "C(Repair_drain_pipes)[T.2]              0.0302      0.013      2.300      0.021       0.004       0.056\n",
       "C(Pay_TV_service_availability)[T.2]    -0.0487      0.008     -5.779      0.000      -0.065      -0.032\n",
       "C(Socioeconomic)[T.2]                  -0.1099      0.014     -7.761      0.000      -0.138      -0.082\n",
       "C(Socioeconomic)[T.3]                  -0.1516      0.019     -8.123      0.000      -0.188      -0.115\n",
       "C(Socioeconomic)[T.4]                  -0.0975      0.023     -4.259      0.000      -0.142      -0.053\n",
       "C(Location_size)[T.2]                  -0.0271      0.012     -2.215      0.027      -0.051      -0.003\n",
       "C(Location_size)[T.3]                  -0.0216      0.013     -1.657      0.098      -0.047       0.004\n",
       "C(Location_size)[T.4]                   0.0183      0.014      1.294      0.196      -0.009       0.046\n",
       "C(It_has_air_conditioning)[T.2]        -0.0698      0.011     -6.376      0.000      -0.091      -0.048\n",
       "C(Fuel_type)[T.2]                      -0.1902      0.067     -2.821      0.005      -0.322      -0.058\n",
       "C(Fuel_type)[T.3]                      -0.1140      0.014     -7.930      0.000      -0.142      -0.086\n",
       "C(Fuel_type)[T.4]                      -0.0512      0.024     -2.162      0.031      -0.098      -0.005\n",
       "C(Fuel_type)[T.5]                      -0.0101      0.045     -0.223      0.823      -0.099       0.079\n",
       "C(Fuel_type)[T.6]                      -0.2413      0.061     -3.968      0.000      -0.360      -0.122\n",
       "Age_of_the_home                        -0.2134      0.004    -50.988      0.000      -0.222      -0.205\n",
       "Number_of_energy_saving_bulbs           0.0035      0.005      0.702      0.483      -0.006       0.013\n",
       "Toilet_toilet_shower                   -0.0478      0.005     -8.983      0.000      -0.058      -0.037\n",
       "Bedroom_rooms                           0.0933      0.004     20.959      0.000       0.085       0.102\n",
       "==============================================================================\n",
       "Omnibus:                    89219.570   Durbin-Watson:                   1.588\n",
       "Prob(Omnibus):                  0.000   Jarque-Bera (JB):           378991.351\n",
       "Skew:                          -2.145   Prob(JB):                         0.00\n",
       "Kurtosis:                       8.029   Cond. No.                         324.\n",
       "==============================================================================\n",
       "\n",
       "Notes:\n",
       "[1] Standard Errors assume that the covariance matrix of the errors is correctly specified.\n",
       "\"\"\""
      ]
     },
     "execution_count": 38,
     "metadata": {},
     "output_type": "execute_result"
    }
   ],
   "source": [
    "# Fits the model (find the optimal coefficients, adding a random seed ensures consistency)\n",
    "np.random.seed(1950)\n",
    "mod= smf.ols(formula=response+model, data=data_person_all,missing='raise')\n",
    "res = mod.fit()\n",
    "res.summary()"
   ]
  },
  {
   "cell_type": "code",
   "execution_count": 39,
   "metadata": {},
   "outputs": [],
   "source": [
    "# feature names\n",
    "variables = res.params.index\n",
    "\n",
    "# quantifying uncertainty!\n",
    "\n",
    "# coefficients\n",
    "coefficients = res.params.values\n",
    "\n",
    "# p-values\n",
    "p_values = res.pvalues\n",
    "\n",
    "# standard errors\n",
    "standard_errors = res.bse.values"
   ]
  },
  {
   "cell_type": "code",
   "execution_count": 40,
   "metadata": {},
   "outputs": [],
   "source": [
    "#sort them all by coefficients\n",
    "l1, l2, l3, l4 = zip(*sorted(zip(coefficients[1:], variables[1:], standard_errors[1:], p_values[1:])))\n",
    "\n",
    "# in this case, we index starting from the first element, not to plot the intercept\n",
    "\n",
    "# we will use standard errors, instead of CIs\n",
    "# two standard errors approximate the CIs (you can actually see in the summary table that\n",
    "# +/2 SI is equivalent to the CIs)"
   ]
  },
  {
   "cell_type": "code",
   "execution_count": 41,
   "metadata": {},
   "outputs": [
    {
     "data": {
      "image/png": "[encoded data removed]",
      "text/plain": [
       "<Figure size 864x1008 with 1 Axes>"
      ]
     },
     "metadata": {
      "needs_background": "light"
     },
     "output_type": "display_data"
    }
   ],
   "source": [
    "# Plotting\n",
    "plt.figure(figsize=(12,14))\n",
    "plt.errorbar(l1, np.array(range(len(l1))), xerr= 2*np.array(l3), linewidth = 1,\n",
    "             linestyle = 'none',marker = 'o',markersize= 3,\n",
    "             markerfacecolor = 'black',markeredgecolor = 'black', capsize= 5)\n",
    "\n",
    "plt.vlines(0,0, len(l1), linestyle = '--')\n",
    "\n",
    "plt.yticks(range(len(l2)),l2);\n"
   ]
  },
  {
   "cell_type": "code",
   "execution_count": null,
   "metadata": {},
   "outputs": [],
   "source": []
  }
 ],
 "metadata": {
  "kernelspec": {
   "display_name": "Python [conda env:ada] *",
   "language": "python",
   "name": "conda-env-ada-py"
  },
  "language_info": {
   "codemirror_mode": {
    "name": "ipython",
    "version": 3
   },
   "file_extension": ".py",
   "mimetype": "text/x-python",
   "name": "python",
   "nbconvert_exporter": "python",
   "pygments_lexer": "ipython3",
   "version": "3.8.5"
  }
 },
 "nbformat": 4,
 "nbformat_minor": 4
}
