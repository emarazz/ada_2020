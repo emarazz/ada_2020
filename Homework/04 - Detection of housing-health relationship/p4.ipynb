{
 "cells": [
  {
   "cell_type": "markdown",
   "metadata": {},
   "source": [
    "# Project milestone 4\n",
    "# Detection of housing-health relationship\n",
    "\n",
    "\n",
    "The aim of this project is to estimate the relation between housing quality and health status of a person. The project is an observational study based on a survey made by Mexican National Institute of Statistics and Geography. The health variables reported for each person will be used to define a single health variable which will be a score for each person's health status. We aim to use machine learning methods to do the classification and we will use regression models to predict this health score from the housing variables. Matching will be used to weed out the possible covariates. The motivation is to estimate the most important parameters of housing quality so that we can propose most cost-effective solutions that would increase the quality of health. The original paper is based on the analysis of influence of concrete floors on health quality, while here we would investigate some other parameters such as material used for building and whether there is a toilet or not in the household."
   ]
  },
  {
   "cell_type": "markdown",
   "metadata": {},
   "source": [
    "# Step 1: Import data"
   ]
  },
  {
   "cell_type": "code",
   "execution_count": 284,
   "metadata": {},
   "outputs": [],
   "source": [
    "import pandas as pd\n",
    "import numpy as np\n",
    "import statsmodels.formula.api as smf\n",
    "\n",
    "### Import data ###\n",
    "#data_household = pd.read_csv('data_translated/household.csv')\n",
    "data_house = pd.read_csv('data_translated/house.csv',low_memory=False)\n",
    "data_person = pd.read_csv('data_translated/person.csv',low_memory=False)"
   ]
  },
  {
   "cell_type": "code",
   "execution_count": 285,
   "metadata": {},
   "outputs": [],
   "source": [
    "#data_person_all = data_person.merge(data_house, left_on='House identifier', right_on='House identifier')\n",
    "data_person_all = data_person.merge(data_house, left_on=['House_identifier'], right_on=['House_identifier'])"
   ]
  },
  {
   "cell_type": "markdown",
   "metadata": {},
   "source": [
    "# Step 2: Exploratory Data Analysis"
   ]
  },
  {
   "cell_type": "code",
   "execution_count": 286,
   "metadata": {},
   "outputs": [
    {
     "data": {
      "text/html": [
       "<div>\n",
       "<style scoped>\n",
       "    .dataframe tbody tr th:only-of-type {\n",
       "        vertical-align: middle;\n",
       "    }\n",
       "\n",
       "    .dataframe tbody tr th {\n",
       "        vertical-align: top;\n",
       "    }\n",
       "\n",
       "    .dataframe thead th {\n",
       "        text-align: right;\n",
       "    }\n",
       "</style>\n",
       "<table border=\"1\" class=\"dataframe\">\n",
       "  <thead>\n",
       "    <tr style=\"text-align: right;\">\n",
       "      <th></th>\n",
       "      <th>Difficulty_seeing</th>\n",
       "      <th>Wear_a_hearing_aid</th>\n",
       "      <th>Difficulty_hearing</th>\n",
       "      <th>Difficulty_hearing_without_noise</th>\n",
       "      <th>Difficulty_hearing_with_noise</th>\n",
       "      <th>Dificulty_to_walk</th>\n",
       "      <th>Use_a_walking_device</th>\n",
       "      <th>Walking_apparatus</th>\n",
       "      <th>Difficulty_walking_100_m</th>\n",
       "      <th>Difficulty_walking_500_m</th>\n",
       "      <th>...</th>\n",
       "      <th>Medication_for_nervousness</th>\n",
       "      <th>Intensity_of_nervousness</th>\n",
       "      <th>Frequency_of_depression</th>\n",
       "      <th>Antidepressant_medications</th>\n",
       "      <th>Intensity_of_depression</th>\n",
       "      <th>Frequency_of_pain</th>\n",
       "      <th>Pain_intensity</th>\n",
       "      <th>Fatigue_frequency</th>\n",
       "      <th>Tired_time</th>\n",
       "      <th>Limiting_physical_or_mental_activity</th>\n",
       "    </tr>\n",
       "  </thead>\n",
       "  <tbody>\n",
       "    <tr>\n",
       "      <th>count</th>\n",
       "      <td>208140</td>\n",
       "      <td>208140</td>\n",
       "      <td>208140</td>\n",
       "      <td>208140</td>\n",
       "      <td>208140</td>\n",
       "      <td>208140</td>\n",
       "      <td>208140</td>\n",
       "      <td>208140</td>\n",
       "      <td>208140</td>\n",
       "      <td>208140</td>\n",
       "      <td>...</td>\n",
       "      <td>208140</td>\n",
       "      <td>208140</td>\n",
       "      <td>208140</td>\n",
       "      <td>208140</td>\n",
       "      <td>208140</td>\n",
       "      <td>208140</td>\n",
       "      <td>208140</td>\n",
       "      <td>208140</td>\n",
       "      <td>208140</td>\n",
       "      <td>208140</td>\n",
       "    </tr>\n",
       "    <tr>\n",
       "      <th>unique</th>\n",
       "      <td>6</td>\n",
       "      <td>3</td>\n",
       "      <td>6</td>\n",
       "      <td>6</td>\n",
       "      <td>6</td>\n",
       "      <td>6</td>\n",
       "      <td>3</td>\n",
       "      <td>9</td>\n",
       "      <td>6</td>\n",
       "      <td>6</td>\n",
       "      <td>...</td>\n",
       "      <td>4</td>\n",
       "      <td>5</td>\n",
       "      <td>7</td>\n",
       "      <td>4</td>\n",
       "      <td>5</td>\n",
       "      <td>6</td>\n",
       "      <td>5</td>\n",
       "      <td>6</td>\n",
       "      <td>5</td>\n",
       "      <td>2</td>\n",
       "    </tr>\n",
       "    <tr>\n",
       "      <th>top</th>\n",
       "      <td>1</td>\n",
       "      <td>2</td>\n",
       "      <td>1</td>\n",
       "      <td>1</td>\n",
       "      <td>1</td>\n",
       "      <td>1</td>\n",
       "      <td>2</td>\n",
       "      <td></td>\n",
       "      <td>1</td>\n",
       "      <td>1</td>\n",
       "      <td>...</td>\n",
       "      <td>2</td>\n",
       "      <td></td>\n",
       "      <td>5</td>\n",
       "      <td>2</td>\n",
       "      <td></td>\n",
       "      <td>1</td>\n",
       "      <td></td>\n",
       "      <td>1</td>\n",
       "      <td></td>\n",
       "      <td></td>\n",
       "    </tr>\n",
       "    <tr>\n",
       "      <th>freq</th>\n",
       "      <td>163575</td>\n",
       "      <td>197136</td>\n",
       "      <td>186322</td>\n",
       "      <td>190264</td>\n",
       "      <td>177606</td>\n",
       "      <td>175302</td>\n",
       "      <td>191991</td>\n",
       "      <td>201868</td>\n",
       "      <td>184590</td>\n",
       "      <td>177483</td>\n",
       "      <td>...</td>\n",
       "      <td>178203</td>\n",
       "      <td>117286</td>\n",
       "      <td>126698</td>\n",
       "      <td>180272</td>\n",
       "      <td>152071</td>\n",
       "      <td>132028</td>\n",
       "      <td>157153</td>\n",
       "      <td>129517</td>\n",
       "      <td>154635</td>\n",
       "      <td>205250</td>\n",
       "    </tr>\n",
       "  </tbody>\n",
       "</table>\n",
       "<p>4 rows × 23 columns</p>\n",
       "</div>"
      ],
      "text/plain": [
       "       Difficulty_seeing Wear_a_hearing_aid Difficulty_hearing  \\\n",
       "count             208140             208140             208140   \n",
       "unique                 6                  3                  6   \n",
       "top                    1                  2                  1   \n",
       "freq              163575             197136             186322   \n",
       "\n",
       "       Difficulty_hearing_without_noise Difficulty_hearing_with_noise  \\\n",
       "count                            208140                        208140   \n",
       "unique                                6                             6   \n",
       "top                                   1                             1   \n",
       "freq                             190264                        177606   \n",
       "\n",
       "       Dificulty_to_walk Use_a_walking_device Walking_apparatus  \\\n",
       "count             208140               208140            208140   \n",
       "unique                 6                    3                 9   \n",
       "top                    1                    2                     \n",
       "freq              175302               191991            201868   \n",
       "\n",
       "       Difficulty_walking_100_m Difficulty_walking_500_m  ...  \\\n",
       "count                    208140                   208140  ...   \n",
       "unique                        6                        6  ...   \n",
       "top                           1                        1  ...   \n",
       "freq                     184590                   177483  ...   \n",
       "\n",
       "       Medication_for_nervousness Intensity_of_nervousness  \\\n",
       "count                      208140                   208140   \n",
       "unique                          4                        5   \n",
       "top                             2                            \n",
       "freq                       178203                   117286   \n",
       "\n",
       "       Frequency_of_depression Antidepressant_medications  \\\n",
       "count                   208140                     208140   \n",
       "unique                       7                          4   \n",
       "top                          5                          2   \n",
       "freq                    126698                     180272   \n",
       "\n",
       "       Intensity_of_depression Frequency_of_pain Pain_intensity  \\\n",
       "count                   208140            208140         208140   \n",
       "unique                       5                 6              5   \n",
       "top                                            1                  \n",
       "freq                    152071            132028         157153   \n",
       "\n",
       "       Fatigue_frequency Tired_time Limiting_physical_or_mental_activity  \n",
       "count             208140     208140                               208140  \n",
       "unique                 6          5                                    2  \n",
       "top                    1                                                  \n",
       "freq              129517     154635                               205250  \n",
       "\n",
       "[4 rows x 23 columns]"
      ]
     },
     "execution_count": 286,
     "metadata": {},
     "output_type": "execute_result"
    }
   ],
   "source": [
    "# our selected health variables\n",
    "health_var = list(data_person_all.columns[35:57]) + [data_person_all.columns[26]]\n",
    "data_person_all[health_var].describe()"
   ]
  },
  {
   "cell_type": "code",
   "execution_count": 287,
   "metadata": {},
   "outputs": [],
   "source": [
    "# replacing \" \" values with proper None, what about the 9?\n",
    "data_person_all = data_person_all.replace(' ', np.nan)"
   ]
  },
  {
   "cell_type": "code",
   "execution_count": 288,
   "metadata": {},
   "outputs": [],
   "source": [
    "# drop columns with more than 30% of NaN values\n",
    "nulli = []\n",
    "exc = []\n",
    "thr = int(len(data_person_all)*0.3)\n",
    "for i in range(len(list(data_person_all.columns))):\n",
    "    nulli.append(data_person_all[list(data_person_all.columns)[i]].isnull().values.sum())\n",
    "    if (nulli[i] > thr):\n",
    "        exc.append(i)\n",
    "data_person_all = data_person_all.drop(columns = [list(data_person_all.columns)[i] for i in exc], axis=1)"
   ]
  },
  {
   "cell_type": "code",
   "execution_count": 289,
   "metadata": {},
   "outputs": [],
   "source": [
    "# update health variable\n",
    "health_var = [i for i in health_var if i in list(data_person_all.columns)]\n",
    "len(health_var)"
   ]
  },
  {
   "cell_type": "markdown",
   "metadata": {},
   "source": [
    "### Filter nan values"
   ]
  },
  {
   "cell_type": "code",
   "execution_count": 293,
   "metadata": {},
   "outputs": [],
   "source": [
    "# To do something better just for now maybe fill with mean or so\n",
    "data_person_all.fillna(0,inplace=True)"
   ]
  },
  {
   "cell_type": "markdown",
   "metadata": {},
   "source": [
    "### Choose apropriate data type for variables and categorize"
   ]
  },
  {
   "cell_type": "code",
   "execution_count": 294,
   "metadata": {},
   "outputs": [],
   "source": [
    "# To choose apropriate datatype for each dependant variable or covariates\n",
    "data_person_all[health_var[0]]=data_person_all[health_var[0]].astype(int)"
   ]
  },
  {
   "cell_type": "markdown",
   "metadata": {},
   "source": [
    "# Step 3: Regression"
   ]
  },
  {
   "cell_type": "markdown",
   "metadata": {},
   "source": [
    "### Fill response variables"
   ]
  },
  {
   "cell_type": "code",
   "execution_count": 247,
   "metadata": {},
   "outputs": [],
   "source": [
    "# To run for all health_var or for health score\n",
    "response=health_var[0]"
   ]
  },
  {
   "cell_type": "markdown",
   "metadata": {},
   "source": [
    "### Fill model with all variables"
   ]
  },
  {
   "cell_type": "code",
   "execution_count": 296,
   "metadata": {},
   "outputs": [],
   "source": [
    "# Do we filter here only important variables for example based on person correlation coef. for each response?\n",
    "\n",
    "model='~Age'\n",
    "start=data_person_all.columns.get_loc('Sex')\n",
    "end=data_person_all.columns.get_loc('Worked_last_week')\n",
    "\n",
    "for index,item in enumerate(data_person_all.columns):\n",
    "    # Fill with person (control) variables\n",
    "    if index >=start and index <=end:\n",
    "        model=model+'+'+item\n",
    "        #model=model+'+'+'C('+item+')'\n",
    "\n",
    "    # To add also House variables\n",
    "    elif index>end:\n",
    "        break"
   ]
  },
  {
   "cell_type": "code",
   "execution_count": 263,
   "metadata": {},
   "outputs": [],
   "source": [
    "formula=\"\"\n",
    "formula=response+model"
   ]
  },
  {
   "cell_type": "code",
   "execution_count": 264,
   "metadata": {},
   "outputs": [],
   "source": [
    "# Fits the model (find the optimal coefficients, adding a random seed ensures consistency)\n",
    "np.random.seed(1950)\n",
    "mod= smf.ols(formula=response+model, data=data_person_all,missing='raise')\n",
    "res = mod.fit()\n",
    "res.summary()"
   ]
  }
 ],
 "metadata": {
  "kernelspec": {
   "display_name": "Python [conda env:ada]",
   "language": "python",
   "name": "conda-env-ada-py"
  },
  "language_info": {
   "codemirror_mode": {
    "name": "ipython",
    "version": 3
   },
   "file_extension": ".py",
   "mimetype": "text/x-python",
   "name": "python",
   "nbconvert_exporter": "python",
   "pygments_lexer": "ipython3",
   "version": "3.8.5"
  }
 },
 "nbformat": 4,
 "nbformat_minor": 4
}
