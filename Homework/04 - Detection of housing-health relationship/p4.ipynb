{
 "cells": [
  {
   "cell_type": "markdown",
   "metadata": {},
   "source": [
    "# Project milestone 4\n",
    "# Detection of housing-health relationship\n",
    "\n",
    "\n",
    "The aim of this project is to estimate the relation between housing quality and health status of a person. The project is an observational study based on a survey made by Mexican National Institute of Statistics and Geography. The health variables reported for each person will be used to define a single health variable which will be a score for each person's health status. We aim to use machine learning methods to do the classification and we will use regression models to predict this health score from the housing variables. Matching will be used to weed out the possible covariates. The motivation is to estimate the most important parameters of housing quality so that we can propose most cost-effective solutions that would increase the quality of health. The original paper is based on the analysis of influence of concrete floors on health quality, while here we would investigate some other parameters such as material used for building and whether there is a toilet or not in the household."
   ]
  },
  {
   "cell_type": "markdown",
   "metadata": {},
   "source": [
    "# Step 1: Import data"
   ]
  },
  {
   "cell_type": "code",
   "execution_count": 32,
   "metadata": {},
   "outputs": [],
   "source": [
    "import pandas as pd\n",
    "import numpy as np\n",
    "import statsmodels.formula.api as smf\n",
    "\n",
    "### Import data ###\n",
    "#data_household = pd.read_csv('data_translated/household.csv')\n",
    "data_house = pd.read_csv('data_translated/house.csv',low_memory=False)\n",
    "data_person = pd.read_csv('data_translated/person.csv',low_memory=False)"
   ]
  },
  {
   "cell_type": "code",
   "execution_count": 33,
   "metadata": {},
   "outputs": [],
   "source": [
    "# Merge data sets\n",
    "data_person_all = data_person.merge(data_house, left_on=['House_identifier'], right_on=['House_identifier'])"
   ]
  },
  {
   "cell_type": "markdown",
   "metadata": {},
   "source": [
    "# Step 2: Exploratory Data Analysis"
   ]
  },
  {
   "cell_type": "code",
   "execution_count": 34,
   "metadata": {},
   "outputs": [
    {
     "data": {
      "text/html": [
       "<div>\n",
       "<style scoped>\n",
       "    .dataframe tbody tr th:only-of-type {\n",
       "        vertical-align: middle;\n",
       "    }\n",
       "\n",
       "    .dataframe tbody tr th {\n",
       "        vertical-align: top;\n",
       "    }\n",
       "\n",
       "    .dataframe thead th {\n",
       "        text-align: right;\n",
       "    }\n",
       "</style>\n",
       "<table border=\"1\" class=\"dataframe\">\n",
       "  <thead>\n",
       "    <tr style=\"text-align: right;\">\n",
       "      <th></th>\n",
       "      <th>Wear_glasses</th>\n",
       "      <th>Difficulty_seeing</th>\n",
       "      <th>Wear_a_hearing_aid</th>\n",
       "      <th>Difficulty_hearing</th>\n",
       "      <th>Difficulty_hearing_without_noise</th>\n",
       "      <th>Difficulty_hearing_with_noise</th>\n",
       "      <th>Dificulty_to_walk</th>\n",
       "      <th>Use_a_walking_device</th>\n",
       "      <th>Walking_apparatus</th>\n",
       "      <th>Difficulty_walking_100_m</th>\n",
       "      <th>...</th>\n",
       "      <th>Medication_for_nervousness</th>\n",
       "      <th>Intensity_of_nervousness</th>\n",
       "      <th>Frequency_of_depression</th>\n",
       "      <th>Antidepressant_medications</th>\n",
       "      <th>Intensity_of_depression</th>\n",
       "      <th>Frequency_of_pain</th>\n",
       "      <th>Pain_intensity</th>\n",
       "      <th>Fatigue_frequency</th>\n",
       "      <th>Tired_time</th>\n",
       "      <th>Limiting_physical_or_mental_activity</th>\n",
       "    </tr>\n",
       "  </thead>\n",
       "  <tbody>\n",
       "    <tr>\n",
       "      <th>count</th>\n",
       "      <td>208140</td>\n",
       "      <td>208140</td>\n",
       "      <td>208140</td>\n",
       "      <td>208140</td>\n",
       "      <td>208140</td>\n",
       "      <td>208140</td>\n",
       "      <td>208140</td>\n",
       "      <td>208140</td>\n",
       "      <td>208140</td>\n",
       "      <td>208140</td>\n",
       "      <td>...</td>\n",
       "      <td>208140</td>\n",
       "      <td>208140</td>\n",
       "      <td>208140</td>\n",
       "      <td>208140</td>\n",
       "      <td>208140</td>\n",
       "      <td>208140</td>\n",
       "      <td>208140</td>\n",
       "      <td>208140</td>\n",
       "      <td>208140</td>\n",
       "      <td>208140</td>\n",
       "    </tr>\n",
       "    <tr>\n",
       "      <th>unique</th>\n",
       "      <td>3</td>\n",
       "      <td>6</td>\n",
       "      <td>3</td>\n",
       "      <td>6</td>\n",
       "      <td>6</td>\n",
       "      <td>6</td>\n",
       "      <td>6</td>\n",
       "      <td>3</td>\n",
       "      <td>9</td>\n",
       "      <td>6</td>\n",
       "      <td>...</td>\n",
       "      <td>4</td>\n",
       "      <td>5</td>\n",
       "      <td>7</td>\n",
       "      <td>4</td>\n",
       "      <td>5</td>\n",
       "      <td>6</td>\n",
       "      <td>5</td>\n",
       "      <td>6</td>\n",
       "      <td>5</td>\n",
       "      <td>2</td>\n",
       "    </tr>\n",
       "    <tr>\n",
       "      <th>top</th>\n",
       "      <td>2</td>\n",
       "      <td>1</td>\n",
       "      <td>2</td>\n",
       "      <td>1</td>\n",
       "      <td>1</td>\n",
       "      <td>1</td>\n",
       "      <td>1</td>\n",
       "      <td>2</td>\n",
       "      <td></td>\n",
       "      <td>1</td>\n",
       "      <td>...</td>\n",
       "      <td>2</td>\n",
       "      <td></td>\n",
       "      <td>5</td>\n",
       "      <td>2</td>\n",
       "      <td></td>\n",
       "      <td>1</td>\n",
       "      <td></td>\n",
       "      <td>1</td>\n",
       "      <td></td>\n",
       "      <td></td>\n",
       "    </tr>\n",
       "    <tr>\n",
       "      <th>freq</th>\n",
       "      <td>146309</td>\n",
       "      <td>163575</td>\n",
       "      <td>197136</td>\n",
       "      <td>186322</td>\n",
       "      <td>190264</td>\n",
       "      <td>177606</td>\n",
       "      <td>175302</td>\n",
       "      <td>191991</td>\n",
       "      <td>201868</td>\n",
       "      <td>184590</td>\n",
       "      <td>...</td>\n",
       "      <td>178203</td>\n",
       "      <td>117286</td>\n",
       "      <td>126698</td>\n",
       "      <td>180272</td>\n",
       "      <td>152071</td>\n",
       "      <td>132028</td>\n",
       "      <td>157153</td>\n",
       "      <td>129517</td>\n",
       "      <td>154635</td>\n",
       "      <td>205250</td>\n",
       "    </tr>\n",
       "  </tbody>\n",
       "</table>\n",
       "<p>4 rows × 24 columns</p>\n",
       "</div>"
      ],
      "text/plain": [
       "       Wear_glasses Difficulty_seeing Wear_a_hearing_aid Difficulty_hearing  \\\n",
       "count        208140            208140             208140             208140   \n",
       "unique            3                 6                  3                  6   \n",
       "top               2                 1                  2                  1   \n",
       "freq         146309            163575             197136             186322   \n",
       "\n",
       "       Difficulty_hearing_without_noise Difficulty_hearing_with_noise  \\\n",
       "count                            208140                        208140   \n",
       "unique                                6                             6   \n",
       "top                                   1                             1   \n",
       "freq                             190264                        177606   \n",
       "\n",
       "       Dificulty_to_walk Use_a_walking_device Walking_apparatus  \\\n",
       "count             208140               208140            208140   \n",
       "unique                 6                    3                 9   \n",
       "top                    1                    2                     \n",
       "freq              175302               191991            201868   \n",
       "\n",
       "       Difficulty_walking_100_m  ... Medication_for_nervousness  \\\n",
       "count                    208140  ...                     208140   \n",
       "unique                        6  ...                          4   \n",
       "top                           1  ...                          2   \n",
       "freq                     184590  ...                     178203   \n",
       "\n",
       "       Intensity_of_nervousness Frequency_of_depression  \\\n",
       "count                    208140                  208140   \n",
       "unique                        5                       7   \n",
       "top                                                   5   \n",
       "freq                     117286                  126698   \n",
       "\n",
       "       Antidepressant_medications Intensity_of_depression Frequency_of_pain  \\\n",
       "count                      208140                  208140            208140   \n",
       "unique                          4                       5                 6   \n",
       "top                             2                                         1   \n",
       "freq                       180272                  152071            132028   \n",
       "\n",
       "       Pain_intensity Fatigue_frequency Tired_time  \\\n",
       "count          208140            208140     208140   \n",
       "unique              5                 6          5   \n",
       "top                                   1              \n",
       "freq           157153            129517     154635   \n",
       "\n",
       "       Limiting_physical_or_mental_activity  \n",
       "count                                208140  \n",
       "unique                                    2  \n",
       "top                                          \n",
       "freq                                 205250  \n",
       "\n",
       "[4 rows x 24 columns]"
      ]
     },
     "execution_count": 34,
     "metadata": {},
     "output_type": "execute_result"
    }
   ],
   "source": [
    "# Our selected health variables\n",
    "health_var = list(data_person_all.columns[34:57]) + [data_person_all.columns[26]]\n",
    "data_person_all[health_var].describe()"
   ]
  },
  {
   "cell_type": "code",
   "execution_count": 35,
   "metadata": {},
   "outputs": [],
   "source": [
    "# replacing \" \" and '9' values with proper Nan\n",
    "data_person_all = data_person_all.replace(' ', np.nan)\n",
    "data_person_all = data_person_all.replace('&', np.nan)\n",
    "data_person_all = data_person_all.replace('9', np.nan)"
   ]
  },
  {
   "cell_type": "code",
   "execution_count": 36,
   "metadata": {},
   "outputs": [],
   "source": [
    "# get an idea of what kind of values are present in the daset\n",
    "#for i in range(len(data_person_all.columns)):\n",
    "    #print(data_person_all[data_person_all.columns[i]].isna().sum())\n",
    "    #print(data_person_all[data_person_all.columns[i]].value_counts())"
   ]
  },
  {
   "cell_type": "code",
   "execution_count": 37,
   "metadata": {},
   "outputs": [],
   "source": [
    "# drop columns with more than 30% of NaN values\n",
    "nulli = []\n",
    "exc = []\n",
    "thr = int(len(data_person_all)*0.3)\n",
    "for i in range(len(list(data_person_all.columns))):\n",
    "    nulli.append(data_person_all[list(data_person_all.columns)[i]].isnull().values.sum())\n",
    "    if (nulli[i] > thr):\n",
    "        exc.append(i)\n",
    "data_person_all = data_person_all.drop(columns = [list(data_person_all.columns)[i] for i in exc], axis=1)\n",
    "# drop columns considere not useful\n",
    "data_person_all = data_person_all.drop(columns = [\"Birthday\", \"Birth_month\", \"Basic_geostatistical_area\"], axis=1)"
   ]
  },
  {
   "cell_type": "code",
   "execution_count": 38,
   "metadata": {},
   "outputs": [
    {
     "data": {
      "text/plain": [
       "18"
      ]
     },
     "execution_count": 38,
     "metadata": {},
     "output_type": "execute_result"
    }
   ],
   "source": [
    "# update health variable\n",
    "health_var = [i for i in health_var if i in list(data_person_all.columns)]\n",
    "len(health_var)"
   ]
  },
  {
   "cell_type": "markdown",
   "metadata": {},
   "source": [
    "### Filter nan values"
   ]
  },
  {
   "cell_type": "code",
   "execution_count": 39,
   "metadata": {},
   "outputs": [],
   "source": [
    "# fill nan values with median should be more robust than mean\n",
    "data_person_all.fillna(data_person_all.median(),inplace = True)"
   ]
  },
  {
   "cell_type": "markdown",
   "metadata": {},
   "source": [
    "### Choose appropriate data type for variables and categorize"
   ]
  },
  {
   "cell_type": "code",
   "execution_count": 40,
   "metadata": {},
   "outputs": [],
   "source": [
    "# converting our data to integer type\n",
    "for temp in data_person_all.columns:\n",
    "    data_person_all[temp]=data_person_all[temp].astype(int)"
   ]
  },
  {
   "cell_type": "markdown",
   "metadata": {},
   "source": [
    "### Creation of health variable"
   ]
  },
  {
   "cell_type": "code",
   "execution_count": 41,
   "metadata": {},
   "outputs": [],
   "source": [
    "# from the dataset the binary column have encoding 2:True, 1:False\n",
    "# for variables with more than one outcome they are in increasing order\n",
    "weights = []\n",
    "for temp in health_var:\n",
    "    lista = []\n",
    "    dic = dict(data_person_all[temp].value_counts())\n",
    "    dic = sorted(dic.items(), reverse = True)\n",
    "    \n",
    "    som = 0\n",
    "    for tup in dic:\n",
    "        som += tup[1]\n",
    "        lista.append(som/len(data_person_all))\n",
    "    weights.append(lista)"
   ]
  },
  {
   "cell_type": "code",
   "execution_count": 42,
   "metadata": {},
   "outputs": [],
   "source": [
    "# putting the weights in the dataset\n",
    "for num,temp in enumerate(health_var):\n",
    "    if (len(dic)==2):\n",
    "        data_person_all[temp] = data_person_all[temp].replace(range(2,0,-1),weights[num])\n",
    "    else:\n",
    "        data_person_all[temp] = data_person_all[temp].replace(range(len(weights[num]),0,-1),weights[num])"
   ]
  },
  {
   "cell_type": "code",
   "execution_count": 43,
   "metadata": {},
   "outputs": [],
   "source": [
    "#creating health variable\n",
    "data_person_all[\"health\"] = data_person_all.apply(lambda x: sum([x[i] for i in health_var]), axis=1)"
   ]
  },
  {
   "cell_type": "code",
   "execution_count": 44,
   "metadata": {},
   "outputs": [
    {
     "data": {
      "text/plain": [
       "<AxesSubplot:>"
      ]
     },
     "execution_count": 44,
     "metadata": {},
     "output_type": "execute_result"
    },
    {
     "data": {
      "image/png": "[encoded data removed]",
      "text/plain": [
       "<Figure size 432x288 with 1 Axes>"
      ]
     },
     "metadata": {
      "needs_background": "light"
     },
     "output_type": "display_data"
    }
   ],
   "source": [
    "# distribution of \"health\" in the dataset\n",
    "data_person_all[\"health\"].hist()"
   ]
  },
  {
   "cell_type": "markdown",
   "metadata": {},
   "source": [
    "# Step 3: Regression"
   ]
  },
  {
   "cell_type": "markdown",
   "metadata": {},
   "source": [
    "### Fill response variables"
   ]
  },
  {
   "cell_type": "code",
   "execution_count": 45,
   "metadata": {},
   "outputs": [
    {
     "data": {
      "text/plain": [
       "count    208140.000000\n",
       "mean         16.055419\n",
       "std           1.827860\n",
       "min           6.205251\n",
       "25%          15.885111\n",
       "50%          16.972398\n",
       "75%          16.972398\n",
       "max          17.964452\n",
       "Name: health, dtype: float64"
      ]
     },
     "execution_count": 45,
     "metadata": {},
     "output_type": "execute_result"
    }
   ],
   "source": [
    "data_person_all[\"health\"].describe()"
   ]
  },
  {
   "cell_type": "code",
   "execution_count": 46,
   "metadata": {},
   "outputs": [],
   "source": [
    "# To run for all health_var or for health score\n",
    "response='health'"
   ]
  },
  {
   "cell_type": "markdown",
   "metadata": {},
   "source": [
    "### Pearson correlation"
   ]
  },
  {
   "cell_type": "code",
   "execution_count": 47,
   "metadata": {},
   "outputs": [],
   "source": [
    "health_var.append('health')\n",
    "covariates=list(data_person_all.columns)\n",
    "covariates = [x for x in covariates if not x in health_var or covariates.remove(x)]"
   ]
  },
  {
   "cell_type": "code",
   "execution_count": 48,
   "metadata": {},
   "outputs": [],
   "source": [
    "pearson_result=data_person_all[covariates].corrwith(data_person_all['health'], axis=0, method='pearson')\n",
    "pearson_result=pearson_result.reindex(pearson_result.abs().sort_values(ascending=False).index)\n",
    "#for val in pearson_result.items():\n",
    "    #print(val)\n",
    "covariates_top=pearson_result.index[0:30]"
   ]
  },
  {
   "cell_type": "markdown",
   "metadata": {},
   "source": [
    "### Fill model with all variables"
   ]
  },
  {
   "cell_type": "code",
   "execution_count": 49,
   "metadata": {},
   "outputs": [
    {
     "data": {
      "text/plain": [
       "2"
      ]
     },
     "execution_count": 49,
     "metadata": {},
     "output_type": "execute_result"
    }
   ],
   "source": [
    "data_person_all['Repair_the_walls'].value_counts().count()"
   ]
  },
  {
   "cell_type": "code",
   "execution_count": 50,
   "metadata": {},
   "outputs": [
    {
     "data": {
      "text/plain": [
       "'~Age+Identifier_of_the_person+C(School_attendance)+C(Literacy)+C(Worked_last_week)+Relationship+Level_of_instruction+Age_of_the_home+C(Cell_phone_availability)+C(Computer_availability)+C(Internet_availability)+C(Repair_the_walls)+C(Repair_the_roof)+Type_of_home_ownership+C(Availability_of_own_car)+C(Repair_electrical_wiring)+C(Garage_space)+C(Sex)+Flooring_material+C(Repair_the_water_pipes)+Roofing_material+C(Repair_drain_pipes)+C(Pay_TV_service_availability)+Number_of_energy_saving_bulbs+Socioeconomic+Location_size+Toilet_toilet_shower+Bedroom_rooms+C(It_has_air_conditioning)+Fuel_type'"
      ]
     },
     "execution_count": 50,
     "metadata": {},
     "output_type": "execute_result"
    }
   ],
   "source": [
    "model='~'\n",
    "\n",
    "for index,item in enumerate(covariates_top):\n",
    "        if index<1:\n",
    "            model=model+item\n",
    "        else:\n",
    "            if data_person_all[item].value_counts().count()==2:\n",
    "                model=model+'+'+'C('+item+')'\n",
    "            else:\n",
    "                model=model+'+'+item\n",
    "                \n",
    "model"
   ]
  },
  {
   "cell_type": "code",
   "execution_count": 51,
   "metadata": {},
   "outputs": [
    {
     "data": {
      "text/html": [
       "<table class=\"simpletable\">\n",
       "<caption>OLS Regression Results</caption>\n",
       "<tr>\n",
       "  <th>Dep. Variable:</th>         <td>health</td>      <th>  R-squared:         </th>  <td>   0.317</td>  \n",
       "</tr>\n",
       "<tr>\n",
       "  <th>Model:</th>                   <td>OLS</td>       <th>  Adj. R-squared:    </th>  <td>   0.317</td>  \n",
       "</tr>\n",
       "<tr>\n",
       "  <th>Method:</th>             <td>Least Squares</td>  <th>  F-statistic:       </th>  <td>   3225.</td>  \n",
       "</tr>\n",
       "<tr>\n",
       "  <th>Date:</th>             <td>Thu, 17 Dec 2020</td> <th>  Prob (F-statistic):</th>   <td>  0.00</td>   \n",
       "</tr>\n",
       "<tr>\n",
       "  <th>Time:</th>                 <td>12:29:01</td>     <th>  Log-Likelihood:    </th> <td>-3.8115e+05</td>\n",
       "</tr>\n",
       "<tr>\n",
       "  <th>No. Observations:</th>      <td>208140</td>      <th>  AIC:               </th>  <td>7.624e+05</td> \n",
       "</tr>\n",
       "<tr>\n",
       "  <th>Df Residuals:</th>          <td>208109</td>      <th>  BIC:               </th>  <td>7.627e+05</td> \n",
       "</tr>\n",
       "<tr>\n",
       "  <th>Df Model:</th>              <td>    30</td>      <th>                     </th>      <td> </td>     \n",
       "</tr>\n",
       "<tr>\n",
       "  <th>Covariance Type:</th>      <td>nonrobust</td>    <th>                     </th>      <td> </td>     \n",
       "</tr>\n",
       "</table>\n",
       "<table class=\"simpletable\">\n",
       "<tr>\n",
       "                   <td></td>                      <th>coef</th>     <th>std err</th>      <th>t</th>      <th>P>|t|</th>  <th>[0.025</th>    <th>0.975]</th>  \n",
       "</tr>\n",
       "<tr>\n",
       "  <th>Intercept</th>                           <td>   17.1501</td> <td>    0.037</td> <td>  458.176</td> <td> 0.000</td> <td>   17.077</td> <td>   17.223</td>\n",
       "</tr>\n",
       "<tr>\n",
       "  <th>C(School_attendance)[T.2]</th>           <td>    0.2701</td> <td>    0.009</td> <td>   28.978</td> <td> 0.000</td> <td>    0.252</td> <td>    0.288</td>\n",
       "</tr>\n",
       "<tr>\n",
       "  <th>C(Literacy)[T.2]</th>                    <td>   -0.4979</td> <td>    0.015</td> <td>  -33.701</td> <td> 0.000</td> <td>   -0.527</td> <td>   -0.469</td>\n",
       "</tr>\n",
       "<tr>\n",
       "  <th>C(Worked_last_week)[T.2]</th>            <td>   -0.2218</td> <td>    0.008</td> <td>  -28.867</td> <td> 0.000</td> <td>   -0.237</td> <td>   -0.207</td>\n",
       "</tr>\n",
       "<tr>\n",
       "  <th>C(Cell_phone_availability)[T.2]</th>     <td>   -0.0868</td> <td>    0.012</td> <td>   -7.103</td> <td> 0.000</td> <td>   -0.111</td> <td>   -0.063</td>\n",
       "</tr>\n",
       "<tr>\n",
       "  <th>C(Computer_availability)[T.2]</th>       <td>   -0.0349</td> <td>    0.009</td> <td>   -3.891</td> <td> 0.000</td> <td>   -0.052</td> <td>   -0.017</td>\n",
       "</tr>\n",
       "<tr>\n",
       "  <th>C(Internet_availability)[T.2]</th>       <td>   -0.0187</td> <td>    0.009</td> <td>   -2.102</td> <td> 0.036</td> <td>   -0.036</td> <td>   -0.001</td>\n",
       "</tr>\n",
       "<tr>\n",
       "  <th>C(Repair_the_walls)[T.2]</th>            <td>    0.1018</td> <td>    0.008</td> <td>   12.396</td> <td> 0.000</td> <td>    0.086</td> <td>    0.118</td>\n",
       "</tr>\n",
       "<tr>\n",
       "  <th>C(Repair_the_roof)[T.2]</th>             <td>    0.0934</td> <td>    0.008</td> <td>   11.327</td> <td> 0.000</td> <td>    0.077</td> <td>    0.110</td>\n",
       "</tr>\n",
       "<tr>\n",
       "  <th>C(Availability_of_own_car)[T.2]</th>     <td>   -0.0644</td> <td>    0.008</td> <td>   -7.804</td> <td> 0.000</td> <td>   -0.081</td> <td>   -0.048</td>\n",
       "</tr>\n",
       "<tr>\n",
       "  <th>C(Repair_electrical_wiring)[T.2]</th>    <td>    0.1379</td> <td>    0.009</td> <td>   14.783</td> <td> 0.000</td> <td>    0.120</td> <td>    0.156</td>\n",
       "</tr>\n",
       "<tr>\n",
       "  <th>C(Garage_space)[T.2]</th>                <td>    0.0091</td> <td>    0.008</td> <td>    1.106</td> <td> 0.269</td> <td>   -0.007</td> <td>    0.025</td>\n",
       "</tr>\n",
       "<tr>\n",
       "  <th>C(Sex)[T.2]</th>                         <td>   -0.1007</td> <td>    0.007</td> <td>  -14.638</td> <td> 0.000</td> <td>   -0.114</td> <td>   -0.087</td>\n",
       "</tr>\n",
       "<tr>\n",
       "  <th>C(Repair_the_water_pipes)[T.2]</th>      <td>    0.1069</td> <td>    0.010</td> <td>   10.545</td> <td> 0.000</td> <td>    0.087</td> <td>    0.127</td>\n",
       "</tr>\n",
       "<tr>\n",
       "  <th>C(Repair_drain_pipes)[T.2]</th>          <td>    0.0453</td> <td>    0.011</td> <td>    4.067</td> <td> 0.000</td> <td>    0.023</td> <td>    0.067</td>\n",
       "</tr>\n",
       "<tr>\n",
       "  <th>C(Pay_TV_service_availability)[T.2]</th> <td>   -0.0195</td> <td>    0.007</td> <td>   -2.730</td> <td> 0.006</td> <td>   -0.033</td> <td>   -0.005</td>\n",
       "</tr>\n",
       "<tr>\n",
       "  <th>C(It_has_air_conditioning)[T.2]</th>     <td>   -0.0374</td> <td>    0.009</td> <td>   -4.041</td> <td> 0.000</td> <td>   -0.056</td> <td>   -0.019</td>\n",
       "</tr>\n",
       "<tr>\n",
       "  <th>Age</th>                                 <td>   -0.0501</td> <td>    0.000</td> <td> -195.457</td> <td> 0.000</td> <td>   -0.051</td> <td>   -0.050</td>\n",
       "</tr>\n",
       "<tr>\n",
       "  <th>Identifier_of_the_person</th>            <td>   -0.0610</td> <td>    0.003</td> <td>  -20.058</td> <td> 0.000</td> <td>   -0.067</td> <td>   -0.055</td>\n",
       "</tr>\n",
       "<tr>\n",
       "  <th>Relationship</th>                        <td>   -0.0227</td> <td>    0.003</td> <td>   -8.666</td> <td> 0.000</td> <td>   -0.028</td> <td>   -0.018</td>\n",
       "</tr>\n",
       "<tr>\n",
       "  <th>Level_of_instruction</th>                <td>    0.0860</td> <td>    0.001</td> <td>   61.182</td> <td> 0.000</td> <td>    0.083</td> <td>    0.089</td>\n",
       "</tr>\n",
       "<tr>\n",
       "  <th>Age_of_the_home</th>                     <td>   -0.0011</td> <td>    0.000</td> <td>   -3.853</td> <td> 0.000</td> <td>   -0.002</td> <td>   -0.001</td>\n",
       "</tr>\n",
       "<tr>\n",
       "  <th>Type_of_home_ownership</th>              <td>    0.0289</td> <td>    0.003</td> <td>    9.465</td> <td> 0.000</td> <td>    0.023</td> <td>    0.035</td>\n",
       "</tr>\n",
       "<tr>\n",
       "  <th>Flooring_material</th>                   <td>   -0.0039</td> <td>    0.008</td> <td>   -0.488</td> <td> 0.626</td> <td>   -0.020</td> <td>    0.012</td>\n",
       "</tr>\n",
       "<tr>\n",
       "  <th>Roofing_material</th>                    <td>    0.0015</td> <td>    0.002</td> <td>    0.885</td> <td> 0.376</td> <td>   -0.002</td> <td>    0.005</td>\n",
       "</tr>\n",
       "<tr>\n",
       "  <th>Number_of_energy_saving_bulbs</th>       <td>    0.0021</td> <td>    0.001</td> <td>    2.712</td> <td> 0.007</td> <td>    0.001</td> <td>    0.004</td>\n",
       "</tr>\n",
       "<tr>\n",
       "  <th>Socioeconomic</th>                       <td>    0.0094</td> <td>    0.006</td> <td>    1.562</td> <td> 0.118</td> <td>   -0.002</td> <td>    0.021</td>\n",
       "</tr>\n",
       "<tr>\n",
       "  <th>Location_size</th>                       <td>   -0.0130</td> <td>    0.004</td> <td>   -3.476</td> <td> 0.001</td> <td>   -0.020</td> <td>   -0.006</td>\n",
       "</tr>\n",
       "<tr>\n",
       "  <th>Toilet_toilet_shower</th>                <td>   -0.0069</td> <td>    0.006</td> <td>   -1.187</td> <td> 0.235</td> <td>   -0.018</td> <td>    0.004</td>\n",
       "</tr>\n",
       "<tr>\n",
       "  <th>Bedroom_rooms</th>                       <td>    0.0747</td> <td>    0.004</td> <td>   18.902</td> <td> 0.000</td> <td>    0.067</td> <td>    0.082</td>\n",
       "</tr>\n",
       "<tr>\n",
       "  <th>Fuel_type</th>                           <td>   -0.0399</td> <td>    0.005</td> <td>   -8.182</td> <td> 0.000</td> <td>   -0.049</td> <td>   -0.030</td>\n",
       "</tr>\n",
       "</table>\n",
       "<table class=\"simpletable\">\n",
       "<tr>\n",
       "  <th>Omnibus:</th>       <td>55370.049</td> <th>  Durbin-Watson:     </th>  <td>   1.629</td> \n",
       "</tr>\n",
       "<tr>\n",
       "  <th>Prob(Omnibus):</th>  <td> 0.000</td>   <th>  Jarque-Bera (JB):  </th> <td>172413.022</td>\n",
       "</tr>\n",
       "<tr>\n",
       "  <th>Skew:</th>           <td>-1.367</td>   <th>  Prob(JB):          </th>  <td>    0.00</td> \n",
       "</tr>\n",
       "<tr>\n",
       "  <th>Kurtosis:</th>       <td> 6.521</td>   <th>  Cond. No.          </th>  <td>    504.</td> \n",
       "</tr>\n",
       "</table><br/><br/>Notes:<br/>[1] Standard Errors assume that the covariance matrix of the errors is correctly specified."
      ],
      "text/plain": [
       "<class 'statsmodels.iolib.summary.Summary'>\n",
       "\"\"\"\n",
       "                            OLS Regression Results                            \n",
       "==============================================================================\n",
       "Dep. Variable:                 health   R-squared:                       0.317\n",
       "Model:                            OLS   Adj. R-squared:                  0.317\n",
       "Method:                 Least Squares   F-statistic:                     3225.\n",
       "Date:                Thu, 17 Dec 2020   Prob (F-statistic):               0.00\n",
       "Time:                        12:29:01   Log-Likelihood:            -3.8115e+05\n",
       "No. Observations:              208140   AIC:                         7.624e+05\n",
       "Df Residuals:                  208109   BIC:                         7.627e+05\n",
       "Df Model:                          30                                         \n",
       "Covariance Type:            nonrobust                                         \n",
       "=======================================================================================================\n",
       "                                          coef    std err          t      P>|t|      [0.025      0.975]\n",
       "-------------------------------------------------------------------------------------------------------\n",
       "Intercept                              17.1501      0.037    458.176      0.000      17.077      17.223\n",
       "C(School_attendance)[T.2]               0.2701      0.009     28.978      0.000       0.252       0.288\n",
       "C(Literacy)[T.2]                       -0.4979      0.015    -33.701      0.000      -0.527      -0.469\n",
       "C(Worked_last_week)[T.2]               -0.2218      0.008    -28.867      0.000      -0.237      -0.207\n",
       "C(Cell_phone_availability)[T.2]        -0.0868      0.012     -7.103      0.000      -0.111      -0.063\n",
       "C(Computer_availability)[T.2]          -0.0349      0.009     -3.891      0.000      -0.052      -0.017\n",
       "C(Internet_availability)[T.2]          -0.0187      0.009     -2.102      0.036      -0.036      -0.001\n",
       "C(Repair_the_walls)[T.2]                0.1018      0.008     12.396      0.000       0.086       0.118\n",
       "C(Repair_the_roof)[T.2]                 0.0934      0.008     11.327      0.000       0.077       0.110\n",
       "C(Availability_of_own_car)[T.2]        -0.0644      0.008     -7.804      0.000      -0.081      -0.048\n",
       "C(Repair_electrical_wiring)[T.2]        0.1379      0.009     14.783      0.000       0.120       0.156\n",
       "C(Garage_space)[T.2]                    0.0091      0.008      1.106      0.269      -0.007       0.025\n",
       "C(Sex)[T.2]                            -0.1007      0.007    -14.638      0.000      -0.114      -0.087\n",
       "C(Repair_the_water_pipes)[T.2]          0.1069      0.010     10.545      0.000       0.087       0.127\n",
       "C(Repair_drain_pipes)[T.2]              0.0453      0.011      4.067      0.000       0.023       0.067\n",
       "C(Pay_TV_service_availability)[T.2]    -0.0195      0.007     -2.730      0.006      -0.033      -0.005\n",
       "C(It_has_air_conditioning)[T.2]        -0.0374      0.009     -4.041      0.000      -0.056      -0.019\n",
       "Age                                    -0.0501      0.000   -195.457      0.000      -0.051      -0.050\n",
       "Identifier_of_the_person               -0.0610      0.003    -20.058      0.000      -0.067      -0.055\n",
       "Relationship                           -0.0227      0.003     -8.666      0.000      -0.028      -0.018\n",
       "Level_of_instruction                    0.0860      0.001     61.182      0.000       0.083       0.089\n",
       "Age_of_the_home                        -0.0011      0.000     -3.853      0.000      -0.002      -0.001\n",
       "Type_of_home_ownership                  0.0289      0.003      9.465      0.000       0.023       0.035\n",
       "Flooring_material                      -0.0039      0.008     -0.488      0.626      -0.020       0.012\n",
       "Roofing_material                        0.0015      0.002      0.885      0.376      -0.002       0.005\n",
       "Number_of_energy_saving_bulbs           0.0021      0.001      2.712      0.007       0.001       0.004\n",
       "Socioeconomic                           0.0094      0.006      1.562      0.118      -0.002       0.021\n",
       "Location_size                          -0.0130      0.004     -3.476      0.001      -0.020      -0.006\n",
       "Toilet_toilet_shower                   -0.0069      0.006     -1.187      0.235      -0.018       0.004\n",
       "Bedroom_rooms                           0.0747      0.004     18.902      0.000       0.067       0.082\n",
       "Fuel_type                              -0.0399      0.005     -8.182      0.000      -0.049      -0.030\n",
       "==============================================================================\n",
       "Omnibus:                    55370.049   Durbin-Watson:                   1.629\n",
       "Prob(Omnibus):                  0.000   Jarque-Bera (JB):           172413.022\n",
       "Skew:                          -1.367   Prob(JB):                         0.00\n",
       "Kurtosis:                       6.521   Cond. No.                         504.\n",
       "==============================================================================\n",
       "\n",
       "Notes:\n",
       "[1] Standard Errors assume that the covariance matrix of the errors is correctly specified.\n",
       "\"\"\""
      ]
     },
     "execution_count": 51,
     "metadata": {},
     "output_type": "execute_result"
    }
   ],
   "source": [
    "# Fits the model (find the optimal coefficients, adding a random seed ensures consistency)\n",
    "np.random.seed(1950)\n",
    "mod= smf.ols(formula=response+model, data=data_person_all,missing='raise')\n",
    "res = mod.fit()\n",
    "res.summary()"
   ]
  },
  {
   "cell_type": "code",
   "execution_count": null,
   "metadata": {},
   "outputs": [],
   "source": []
  },
  {
   "cell_type": "code",
   "execution_count": null,
   "metadata": {},
   "outputs": [],
   "source": []
  }
 ],
 "metadata": {
  "kernelspec": {
   "display_name": "Python [conda env:ada]",
   "language": "python",
   "name": "conda-env-ada-py"
  },
  "language_info": {
   "codemirror_mode": {
    "name": "ipython",
    "version": 3
   },
   "file_extension": ".py",
   "mimetype": "text/x-python",
   "name": "python",
   "nbconvert_exporter": "python",
   "pygments_lexer": "ipython3",
   "version": "3.8.5"
  }
 },
 "nbformat": 4,
 "nbformat_minor": 4
}
