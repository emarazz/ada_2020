{
 "cells": [
  {
   "cell_type": "markdown",
   "metadata": {},
   "source": [
    "# Project milestone 4\n",
    "# Detection of housing-health relationship\n",
    "\n",
    "\n",
    "The aim of this project is to estimate the relation between housing quality and health status of a person. The project is an observational study based on a survey made by Mexican National Institute of Statistics and Geography. The health variables reported for each person will be used to define a single health variable which will be a score for each person's health status. We aim to use machine learning methods to do the classification and we will use regression models to predict this health score from the housing variables. Matching will be used to weed out the possible covariates. The motivation is to estimate the most important parameters of housing quality so that we can propose most cost-effective solutions that would increase the quality of health. The original paper is based on the analysis of influence of concrete floors on health quality, while here we would investigate some other parameters such as material used for building and whether there is a toilet or not in the household."
   ]
  },
  {
   "cell_type": "markdown",
   "metadata": {},
   "source": [
    "# Step 1: Import data"
   ]
  },
  {
   "cell_type": "code",
   "execution_count": 26,
   "metadata": {},
   "outputs": [],
   "source": [
    "import pandas as pd\n",
    "import numpy as np\n",
    "import statsmodels.formula.api as smf\n",
    "import matplotlib.pyplot as plt\n",
    "\n",
    "### Import data ###\n",
    "#data_household = pd.read_csv('data_translated/household.csv')\n",
    "data_house = pd.read_csv('data_translated/house.csv',low_memory=False)\n",
    "data_person = pd.read_csv('data_translated/person.csv',low_memory=False)"
   ]
  },
  {
   "cell_type": "code",
   "execution_count": 27,
   "metadata": {},
   "outputs": [],
   "source": [
    "# Merge data sets\n",
    "data_person_all = data_person.merge(data_house, left_on=['House_identifier'], right_on=['House_identifier'])"
   ]
  },
  {
   "cell_type": "markdown",
   "metadata": {},
   "source": [
    "# Step 2: Exploratory Data Analysis"
   ]
  },
  {
   "cell_type": "code",
   "execution_count": 28,
   "metadata": {},
   "outputs": [
    {
     "data": {
      "text/html": [
       "<div>\n",
       "<style scoped>\n",
       "    .dataframe tbody tr th:only-of-type {\n",
       "        vertical-align: middle;\n",
       "    }\n",
       "\n",
       "    .dataframe tbody tr th {\n",
       "        vertical-align: top;\n",
       "    }\n",
       "\n",
       "    .dataframe thead th {\n",
       "        text-align: right;\n",
       "    }\n",
       "</style>\n",
       "<table border=\"1\" class=\"dataframe\">\n",
       "  <thead>\n",
       "    <tr style=\"text-align: right;\">\n",
       "      <th></th>\n",
       "      <th>Wear_glasses</th>\n",
       "      <th>Difficulty_seeing</th>\n",
       "      <th>Wear_a_hearing_aid</th>\n",
       "      <th>Difficulty_hearing</th>\n",
       "      <th>Difficulty_hearing_without_noise</th>\n",
       "      <th>Difficulty_hearing_with_noise</th>\n",
       "      <th>Dificulty_to_walk</th>\n",
       "      <th>Use_a_walking_device</th>\n",
       "      <th>Walking_apparatus</th>\n",
       "      <th>Difficulty_walking_100_m</th>\n",
       "      <th>...</th>\n",
       "      <th>Medication_for_nervousness</th>\n",
       "      <th>Intensity_of_nervousness</th>\n",
       "      <th>Frequency_of_depression</th>\n",
       "      <th>Antidepressant_medications</th>\n",
       "      <th>Intensity_of_depression</th>\n",
       "      <th>Frequency_of_pain</th>\n",
       "      <th>Pain_intensity</th>\n",
       "      <th>Fatigue_frequency</th>\n",
       "      <th>Tired_time</th>\n",
       "      <th>Limiting_physical_or_mental_activity</th>\n",
       "    </tr>\n",
       "  </thead>\n",
       "  <tbody>\n",
       "    <tr>\n",
       "      <th>count</th>\n",
       "      <td>208140</td>\n",
       "      <td>208140</td>\n",
       "      <td>208140</td>\n",
       "      <td>208140</td>\n",
       "      <td>208140</td>\n",
       "      <td>208140</td>\n",
       "      <td>208140</td>\n",
       "      <td>208140</td>\n",
       "      <td>208140</td>\n",
       "      <td>208140</td>\n",
       "      <td>...</td>\n",
       "      <td>208140</td>\n",
       "      <td>208140</td>\n",
       "      <td>208140</td>\n",
       "      <td>208140</td>\n",
       "      <td>208140</td>\n",
       "      <td>208140</td>\n",
       "      <td>208140</td>\n",
       "      <td>208140</td>\n",
       "      <td>208140</td>\n",
       "      <td>208140</td>\n",
       "    </tr>\n",
       "    <tr>\n",
       "      <th>unique</th>\n",
       "      <td>3</td>\n",
       "      <td>6</td>\n",
       "      <td>3</td>\n",
       "      <td>6</td>\n",
       "      <td>6</td>\n",
       "      <td>6</td>\n",
       "      <td>6</td>\n",
       "      <td>3</td>\n",
       "      <td>9</td>\n",
       "      <td>6</td>\n",
       "      <td>...</td>\n",
       "      <td>4</td>\n",
       "      <td>5</td>\n",
       "      <td>7</td>\n",
       "      <td>4</td>\n",
       "      <td>5</td>\n",
       "      <td>6</td>\n",
       "      <td>5</td>\n",
       "      <td>6</td>\n",
       "      <td>5</td>\n",
       "      <td>2</td>\n",
       "    </tr>\n",
       "    <tr>\n",
       "      <th>top</th>\n",
       "      <td>2</td>\n",
       "      <td>1</td>\n",
       "      <td>2</td>\n",
       "      <td>1</td>\n",
       "      <td>1</td>\n",
       "      <td>1</td>\n",
       "      <td>1</td>\n",
       "      <td>2</td>\n",
       "      <td></td>\n",
       "      <td>1</td>\n",
       "      <td>...</td>\n",
       "      <td>2</td>\n",
       "      <td></td>\n",
       "      <td>5</td>\n",
       "      <td>2</td>\n",
       "      <td></td>\n",
       "      <td>1</td>\n",
       "      <td></td>\n",
       "      <td>1</td>\n",
       "      <td></td>\n",
       "      <td></td>\n",
       "    </tr>\n",
       "    <tr>\n",
       "      <th>freq</th>\n",
       "      <td>146309</td>\n",
       "      <td>163575</td>\n",
       "      <td>197136</td>\n",
       "      <td>186322</td>\n",
       "      <td>190264</td>\n",
       "      <td>177606</td>\n",
       "      <td>175302</td>\n",
       "      <td>191991</td>\n",
       "      <td>201868</td>\n",
       "      <td>184590</td>\n",
       "      <td>...</td>\n",
       "      <td>178203</td>\n",
       "      <td>117286</td>\n",
       "      <td>126698</td>\n",
       "      <td>180272</td>\n",
       "      <td>152071</td>\n",
       "      <td>132028</td>\n",
       "      <td>157153</td>\n",
       "      <td>129517</td>\n",
       "      <td>154635</td>\n",
       "      <td>205250</td>\n",
       "    </tr>\n",
       "  </tbody>\n",
       "</table>\n",
       "<p>4 rows × 24 columns</p>\n",
       "</div>"
      ],
      "text/plain": [
       "       Wear_glasses Difficulty_seeing Wear_a_hearing_aid Difficulty_hearing  \\\n",
       "count        208140            208140             208140             208140   \n",
       "unique            3                 6                  3                  6   \n",
       "top               2                 1                  2                  1   \n",
       "freq         146309            163575             197136             186322   \n",
       "\n",
       "       Difficulty_hearing_without_noise Difficulty_hearing_with_noise  \\\n",
       "count                            208140                        208140   \n",
       "unique                                6                             6   \n",
       "top                                   1                             1   \n",
       "freq                             190264                        177606   \n",
       "\n",
       "       Dificulty_to_walk Use_a_walking_device Walking_apparatus  \\\n",
       "count             208140               208140            208140   \n",
       "unique                 6                    3                 9   \n",
       "top                    1                    2                     \n",
       "freq              175302               191991            201868   \n",
       "\n",
       "       Difficulty_walking_100_m  ... Medication_for_nervousness  \\\n",
       "count                    208140  ...                     208140   \n",
       "unique                        6  ...                          4   \n",
       "top                           1  ...                          2   \n",
       "freq                     184590  ...                     178203   \n",
       "\n",
       "       Intensity_of_nervousness Frequency_of_depression  \\\n",
       "count                    208140                  208140   \n",
       "unique                        5                       7   \n",
       "top                                                   5   \n",
       "freq                     117286                  126698   \n",
       "\n",
       "       Antidepressant_medications Intensity_of_depression Frequency_of_pain  \\\n",
       "count                      208140                  208140            208140   \n",
       "unique                          4                       5                 6   \n",
       "top                             2                                         1   \n",
       "freq                       180272                  152071            132028   \n",
       "\n",
       "       Pain_intensity Fatigue_frequency Tired_time  \\\n",
       "count          208140            208140     208140   \n",
       "unique              5                 6          5   \n",
       "top                                   1              \n",
       "freq           157153            129517     154635   \n",
       "\n",
       "       Limiting_physical_or_mental_activity  \n",
       "count                                208140  \n",
       "unique                                    2  \n",
       "top                                          \n",
       "freq                                 205250  \n",
       "\n",
       "[4 rows x 24 columns]"
      ]
     },
     "execution_count": 28,
     "metadata": {},
     "output_type": "execute_result"
    }
   ],
   "source": [
    "# Our selected health variables\n",
    "health_var = list(data_person_all.columns[34:57]) + [data_person_all.columns[26]]\n",
    "data_person_all[health_var].describe()"
   ]
  },
  {
   "cell_type": "code",
   "execution_count": 29,
   "metadata": {},
   "outputs": [],
   "source": [
    "# replacing \" \" and '9' values with proper Nan\n",
    "data_person_all = data_person_all.replace(' ', np.nan)\n",
    "data_person_all = data_person_all.replace('&', np.nan)\n",
    "data_person_all = data_person_all.replace('9', np.nan)"
   ]
  },
  {
   "cell_type": "code",
   "execution_count": 30,
   "metadata": {},
   "outputs": [],
   "source": [
    "# get an idea of what kind of values are present in the daset\n",
    "#for i in range(len(data_person_all.columns)):\n",
    "    #print(data_person_all[data_person_all.columns[i]].isna().sum())\n",
    "    #print(data_person_all[data_person_all.columns[i]].value_counts())"
   ]
  },
  {
   "cell_type": "code",
   "execution_count": 31,
   "metadata": {},
   "outputs": [],
   "source": [
    "# drop columns with more than 30% of NaN values\n",
    "nulli = []\n",
    "exc = []\n",
    "thr = int(len(data_person_all)*0.3)\n",
    "for i in range(len(list(data_person_all.columns))):\n",
    "    nulli.append(data_person_all[list(data_person_all.columns)[i]].isnull().values.sum())\n",
    "    if (nulli[i] > thr):\n",
    "        exc.append(i)\n",
    "data_person_all = data_person_all.drop(columns = [list(data_person_all.columns)[i] for i in exc], axis=1)\n",
    "# drop columns considere not useful\n",
    "data_person_all = data_person_all.drop(columns = [\"Birthday\", \"Birth_month\", \"Basic_geostatistical_area\"], axis=1)"
   ]
  },
  {
   "cell_type": "code",
   "execution_count": 32,
   "metadata": {},
   "outputs": [
    {
     "data": {
      "text/plain": [
       "18"
      ]
     },
     "execution_count": 32,
     "metadata": {},
     "output_type": "execute_result"
    }
   ],
   "source": [
    "# update health variable\n",
    "health_var = [i for i in health_var if i in list(data_person_all.columns)]\n",
    "len(health_var)"
   ]
  },
  {
   "cell_type": "markdown",
   "metadata": {},
   "source": [
    "### Filter nan values"
   ]
  },
  {
   "cell_type": "code",
   "execution_count": 33,
   "metadata": {},
   "outputs": [],
   "source": [
    "# fill nan values with median should be more robust than mean\n",
    "data_person_all.fillna(data_person_all.median(),inplace = True)"
   ]
  },
  {
   "cell_type": "markdown",
   "metadata": {},
   "source": [
    "### Choose appropriate data type for variables and categorize"
   ]
  },
  {
   "cell_type": "code",
   "execution_count": 34,
   "metadata": {},
   "outputs": [],
   "source": [
    "# converting our data to integer type\n",
    "for temp in data_person_all.columns:\n",
    "    data_person_all[temp]=data_person_all[temp].astype(int)"
   ]
  },
  {
   "cell_type": "markdown",
   "metadata": {},
   "source": [
    "### Creation of health variable"
   ]
  },
  {
   "cell_type": "markdown",
   "metadata": {},
   "source": [
    "Given the high number of health related variables present in our dataset, we decided to condense all of them in just one variable ranging from 0 to 18, with 18 being the \"healthiest\" score which also corresponds to number of health variables we selected in the dataset. To obtain this score we first consider every health variable independently, we derive its set of possible values and for each of this values we derive the proportion of people in the dataset that have a value equal or lower divided by the number of elements in the dataset( given the structure of the original database we reverse the order in this operation). We then substituted those new values in the dataset and added them to obtain the final score."
   ]
  },
  {
   "cell_type": "code",
   "execution_count": 35,
   "metadata": {},
   "outputs": [],
   "source": [
    "# from the dataset the binary column have encoding 2:True, 1:False\n",
    "# for variables with more than one outcome they are in increasing order\n",
    "weights = []\n",
    "for temp in health_var:\n",
    "    lista = []\n",
    "    dic = dict(data_person_all[temp].value_counts())\n",
    "    dic = sorted(dic.items(), reverse = True)\n",
    "    \n",
    "    som = 0\n",
    "    for tup in dic:\n",
    "        som += tup[1]\n",
    "        lista.append(som/len(data_person_all))\n",
    "    weights.append(lista)"
   ]
  },
  {
   "cell_type": "code",
   "execution_count": 36,
   "metadata": {},
   "outputs": [],
   "source": [
    "# putting the weights in the dataset\n",
    "for num,temp in enumerate(health_var):\n",
    "    if (len(dic)==2):\n",
    "        data_person_all[temp] = data_person_all[temp].replace(range(2,0,-1),weights[num])\n",
    "    else:\n",
    "        data_person_all[temp] = data_person_all[temp].replace(range(len(weights[num]),0,-1),weights[num])"
   ]
  },
  {
   "cell_type": "code",
   "execution_count": 37,
   "metadata": {},
   "outputs": [],
   "source": [
    "#creating health variable\n",
    "data_person_all[\"health\"] = data_person_all.apply(lambda x: sum([x[i] for i in health_var]), axis=1)"
   ]
  },
  {
   "cell_type": "code",
   "execution_count": 38,
   "metadata": {},
   "outputs": [
    {
     "data": {
      "text/plain": [
       "<AxesSubplot:>"
      ]
     },
     "execution_count": 38,
     "metadata": {},
     "output_type": "execute_result"
    },
    {
     "data": {
      "image/png": "[encoded data removed]",
      "text/plain": [
       "<Figure size 432x288 with 1 Axes>"
      ]
     },
     "metadata": {
      "needs_background": "light"
     },
     "output_type": "display_data"
    }
   ],
   "source": [
    "# distribution of \"health\" in the dataset\n",
    "data_person_all[\"health\"].hist()"
   ]
  },
  {
   "cell_type": "markdown",
   "metadata": {},
   "source": [
    "# Step 3: Regression"
   ]
  },
  {
   "cell_type": "markdown",
   "metadata": {},
   "source": [
    "### Fill response variables"
   ]
  },
  {
   "cell_type": "code",
   "execution_count": 39,
   "metadata": {},
   "outputs": [
    {
     "data": {
      "text/plain": [
       "count    208140.000000\n",
       "mean         16.055419\n",
       "std           1.827860\n",
       "min           6.205251\n",
       "25%          15.885111\n",
       "50%          16.972398\n",
       "75%          16.972398\n",
       "max          17.964452\n",
       "Name: health, dtype: float64"
      ]
     },
     "execution_count": 39,
     "metadata": {},
     "output_type": "execute_result"
    }
   ],
   "source": [
    "data_person_all[\"health\"].describe()"
   ]
  },
  {
   "cell_type": "code",
   "execution_count": 40,
   "metadata": {},
   "outputs": [],
   "source": [
    "# To run for all health_var or for health score\n",
    "response='health'"
   ]
  },
  {
   "cell_type": "markdown",
   "metadata": {},
   "source": [
    "### Pearson correlation"
   ]
  },
  {
   "cell_type": "code",
   "execution_count": 41,
   "metadata": {},
   "outputs": [],
   "source": [
    "health_var.append('health')\n",
    "covariates=list(data_person_all.columns)\n",
    "covariates = [x for x in covariates if not x in health_var or covariates.remove(x)]"
   ]
  },
  {
   "cell_type": "code",
   "execution_count": 42,
   "metadata": {},
   "outputs": [],
   "source": [
    "pearson_result=data_person_all[covariates].corrwith(data_person_all['health'], axis=0, method='pearson')\n",
    "pearson_result=pearson_result.reindex(pearson_result.abs().sort_values(ascending=False).index)\n",
    "#for val in pearson_result.items():\n",
    "    #print(val)\n",
    "covariates_top=pearson_result.index[0:30]"
   ]
  },
  {
   "cell_type": "markdown",
   "metadata": {},
   "source": [
    "### Fill model with all variables"
   ]
  },
  {
   "cell_type": "code",
   "execution_count": 43,
   "metadata": {},
   "outputs": [
    {
     "data": {
      "text/plain": [
       "'~Age+Identifier_of_the_person+C(School_attendance)+C(Literacy)+C(Worked_last_week)+C(Relationship)+Level_of_instruction+Age_of_the_home+C(Cell_phone_availability)+C(Computer_availability)+C(Internet_availability)+C(Repair_the_walls)+C(Repair_the_roof)+C(Type_of_home_ownership)+C(Availability_of_own_car)+C(Repair_electrical_wiring)+C(Garage_space)+C(Sex)+C(Flooring_material)+C(Repair_the_water_pipes)+C(Roofing_material)+C(Repair_drain_pipes)+C(Pay_TV_service_availability)+Number_of_energy_saving_bulbs+C(Socioeconomic)+C(Location_size)+Toilet_toilet_shower+Bedroom_rooms+C(It_has_air_conditioning)+C(Fuel_type)'"
      ]
     },
     "execution_count": 43,
     "metadata": {},
     "output_type": "execute_result"
    }
   ],
   "source": [
    "model='~'\n",
    "cat_list=['Relationship','Type_of_home_ownership', 'Flooring_material', 'Roofing_material', 'Socioeconomic' ,'Location_size', 'Fuel_type']\n",
    "\n",
    "for index,item in enumerate(covariates_top):\n",
    "        if index<1:\n",
    "            model=model+item\n",
    "        else:\n",
    "            if data_person_all[item].value_counts().count()==2 or item in cat_list:\n",
    "                model=model+'+'+'C('+item+')'\n",
    "            else:\n",
    "                model=model+'+'+item\n",
    "                # Standardize the countinuous variables\n",
    "                data_person_all[item] = (data_person_all[item] - data_person_all[item].mean())/data_person_all[item].std()\n",
    "                \n",
    "model"
   ]
  },
  {
   "cell_type": "code",
   "execution_count": 44,
   "metadata": {},
   "outputs": [
    {
     "data": {
      "text/html": [
       "<table class=\"simpletable\">\n",
       "<caption>OLS Regression Results</caption>\n",
       "<tr>\n",
       "  <th>Dep. Variable:</th>         <td>health</td>      <th>  R-squared:         </th>  <td>   0.324</td>  \n",
       "</tr>\n",
       "<tr>\n",
       "  <th>Model:</th>                   <td>OLS</td>       <th>  Adj. R-squared:    </th>  <td>   0.324</td>  \n",
       "</tr>\n",
       "<tr>\n",
       "  <th>Method:</th>             <td>Least Squares</td>  <th>  F-statistic:       </th>  <td>   1753.</td>  \n",
       "</tr>\n",
       "<tr>\n",
       "  <th>Date:</th>             <td>Thu, 17 Dec 2020</td> <th>  Prob (F-statistic):</th>   <td>  0.00</td>   \n",
       "</tr>\n",
       "<tr>\n",
       "  <th>Time:</th>                 <td>17:12:05</td>     <th>  Log-Likelihood:    </th> <td>-3.8006e+05</td>\n",
       "</tr>\n",
       "<tr>\n",
       "  <th>No. Observations:</th>      <td>208140</td>      <th>  AIC:               </th>  <td>7.602e+05</td> \n",
       "</tr>\n",
       "<tr>\n",
       "  <th>Df Residuals:</th>          <td>208082</td>      <th>  BIC:               </th>  <td>7.608e+05</td> \n",
       "</tr>\n",
       "<tr>\n",
       "  <th>Df Model:</th>              <td>    57</td>      <th>                     </th>      <td> </td>     \n",
       "</tr>\n",
       "<tr>\n",
       "  <th>Covariance Type:</th>      <td>nonrobust</td>    <th>                     </th>      <td> </td>     \n",
       "</tr>\n",
       "</table>\n",
       "<table class=\"simpletable\">\n",
       "<tr>\n",
       "                   <td></td>                      <th>coef</th>     <th>std err</th>      <th>t</th>      <th>P>|t|</th>  <th>[0.025</th>    <th>0.975]</th>  \n",
       "</tr>\n",
       "<tr>\n",
       "  <th>Intercept</th>                           <td>   17.8981</td> <td>    0.127</td> <td>  140.448</td> <td> 0.000</td> <td>   17.648</td> <td>   18.148</td>\n",
       "</tr>\n",
       "<tr>\n",
       "  <th>C(School_attendance)[T.2]</th>           <td>    0.1952</td> <td>    0.010</td> <td>   20.152</td> <td> 0.000</td> <td>    0.176</td> <td>    0.214</td>\n",
       "</tr>\n",
       "<tr>\n",
       "  <th>C(Literacy)[T.2]</th>                    <td>   -0.4790</td> <td>    0.015</td> <td>  -32.471</td> <td> 0.000</td> <td>   -0.508</td> <td>   -0.450</td>\n",
       "</tr>\n",
       "<tr>\n",
       "  <th>C(Worked_last_week)[T.2]</th>            <td>   -0.2330</td> <td>    0.008</td> <td>  -30.048</td> <td> 0.000</td> <td>   -0.248</td> <td>   -0.218</td>\n",
       "</tr>\n",
       "<tr>\n",
       "  <th>C(Relationship)[T.2]</th>                <td>    0.1590</td> <td>    0.012</td> <td>   13.821</td> <td> 0.000</td> <td>    0.136</td> <td>    0.182</td>\n",
       "</tr>\n",
       "<tr>\n",
       "  <th>C(Relationship)[T.3]</th>                <td>   -0.1299</td> <td>    0.014</td> <td>   -9.135</td> <td> 0.000</td> <td>   -0.158</td> <td>   -0.102</td>\n",
       "</tr>\n",
       "<tr>\n",
       "  <th>C(Relationship)[T.4]</th>                <td>   -0.2468</td> <td>    0.022</td> <td>  -11.142</td> <td> 0.000</td> <td>   -0.290</td> <td>   -0.203</td>\n",
       "</tr>\n",
       "<tr>\n",
       "  <th>C(Relationship)[T.5]</th>                <td>    0.2755</td> <td>    0.027</td> <td>   10.337</td> <td> 0.000</td> <td>    0.223</td> <td>    0.328</td>\n",
       "</tr>\n",
       "<tr>\n",
       "  <th>C(Relationship)[T.6]</th>                <td>   -1.0179</td> <td>    0.040</td> <td>  -25.671</td> <td> 0.000</td> <td>   -1.096</td> <td>   -0.940</td>\n",
       "</tr>\n",
       "<tr>\n",
       "  <th>C(Relationship)[T.7]</th>                <td>   -1.0480</td> <td>    0.056</td> <td>  -18.786</td> <td> 0.000</td> <td>   -1.157</td> <td>   -0.939</td>\n",
       "</tr>\n",
       "<tr>\n",
       "  <th>C(Relationship)[T.8]</th>                <td>    0.0049</td> <td>    0.024</td> <td>    0.208</td> <td> 0.835</td> <td>   -0.042</td> <td>    0.052</td>\n",
       "</tr>\n",
       "<tr>\n",
       "  <th>C(Relationship)[T.9]</th>                <td>   -0.0700</td> <td>    0.032</td> <td>   -2.158</td> <td> 0.031</td> <td>   -0.134</td> <td>   -0.006</td>\n",
       "</tr>\n",
       "<tr>\n",
       "  <th>C(Cell_phone_availability)[T.2]</th>     <td>   -0.1081</td> <td>    0.012</td> <td>   -8.751</td> <td> 0.000</td> <td>   -0.132</td> <td>   -0.084</td>\n",
       "</tr>\n",
       "<tr>\n",
       "  <th>C(Computer_availability)[T.2]</th>       <td>   -0.0333</td> <td>    0.009</td> <td>   -3.721</td> <td> 0.000</td> <td>   -0.051</td> <td>   -0.016</td>\n",
       "</tr>\n",
       "<tr>\n",
       "  <th>C(Internet_availability)[T.2]</th>       <td>   -0.0218</td> <td>    0.009</td> <td>   -2.459</td> <td> 0.014</td> <td>   -0.039</td> <td>   -0.004</td>\n",
       "</tr>\n",
       "<tr>\n",
       "  <th>C(Repair_the_walls)[T.2]</th>            <td>    0.0980</td> <td>    0.008</td> <td>   11.982</td> <td> 0.000</td> <td>    0.082</td> <td>    0.114</td>\n",
       "</tr>\n",
       "<tr>\n",
       "  <th>C(Repair_the_roof)[T.2]</th>             <td>    0.0931</td> <td>    0.008</td> <td>   11.299</td> <td> 0.000</td> <td>    0.077</td> <td>    0.109</td>\n",
       "</tr>\n",
       "<tr>\n",
       "  <th>C(Type_of_home_ownership)[T.2]</th>      <td>   -0.0230</td> <td>    0.013</td> <td>   -1.797</td> <td> 0.072</td> <td>   -0.048</td> <td>    0.002</td>\n",
       "</tr>\n",
       "<tr>\n",
       "  <th>C(Type_of_home_ownership)[T.3]</th>      <td>    0.0283</td> <td>    0.014</td> <td>    1.982</td> <td> 0.047</td> <td>    0.000</td> <td>    0.056</td>\n",
       "</tr>\n",
       "<tr>\n",
       "  <th>C(Type_of_home_ownership)[T.4]</th>      <td>    0.0875</td> <td>    0.012</td> <td>    7.596</td> <td> 0.000</td> <td>    0.065</td> <td>    0.110</td>\n",
       "</tr>\n",
       "<tr>\n",
       "  <th>C(Type_of_home_ownership)[T.5]</th>      <td>    0.0238</td> <td>    0.021</td> <td>    1.125</td> <td> 0.261</td> <td>   -0.018</td> <td>    0.065</td>\n",
       "</tr>\n",
       "<tr>\n",
       "  <th>C(Type_of_home_ownership)[T.6]</th>      <td>    0.0723</td> <td>    0.030</td> <td>    2.401</td> <td> 0.016</td> <td>    0.013</td> <td>    0.131</td>\n",
       "</tr>\n",
       "<tr>\n",
       "  <th>C(Availability_of_own_car)[T.2]</th>     <td>   -0.0537</td> <td>    0.008</td> <td>   -6.505</td> <td> 0.000</td> <td>   -0.070</td> <td>   -0.038</td>\n",
       "</tr>\n",
       "<tr>\n",
       "  <th>C(Repair_electrical_wiring)[T.2]</th>    <td>    0.1368</td> <td>    0.009</td> <td>   14.723</td> <td> 0.000</td> <td>    0.119</td> <td>    0.155</td>\n",
       "</tr>\n",
       "<tr>\n",
       "  <th>C(Garage_space)[T.2]</th>                <td>    0.0095</td> <td>    0.008</td> <td>    1.158</td> <td> 0.247</td> <td>   -0.007</td> <td>    0.026</td>\n",
       "</tr>\n",
       "<tr>\n",
       "  <th>C(Sex)[T.2]</th>                         <td>   -0.1485</td> <td>    0.007</td> <td>  -20.114</td> <td> 0.000</td> <td>   -0.163</td> <td>   -0.134</td>\n",
       "</tr>\n",
       "<tr>\n",
       "  <th>C(Flooring_material)[T.2]</th>           <td>   -0.0674</td> <td>    0.023</td> <td>   -2.881</td> <td> 0.004</td> <td>   -0.113</td> <td>   -0.022</td>\n",
       "</tr>\n",
       "<tr>\n",
       "  <th>C(Flooring_material)[T.3]</th>           <td>   -0.0609</td> <td>    0.025</td> <td>   -2.454</td> <td> 0.014</td> <td>   -0.110</td> <td>   -0.012</td>\n",
       "</tr>\n",
       "<tr>\n",
       "  <th>C(Repair_the_water_pipes)[T.2]</th>      <td>    0.1029</td> <td>    0.010</td> <td>   10.198</td> <td> 0.000</td> <td>    0.083</td> <td>    0.123</td>\n",
       "</tr>\n",
       "<tr>\n",
       "  <th>C(Roofing_material)[T.2]</th>            <td>   -0.1735</td> <td>    0.128</td> <td>   -1.357</td> <td> 0.175</td> <td>   -0.424</td> <td>    0.077</td>\n",
       "</tr>\n",
       "<tr>\n",
       "  <th>C(Roofing_material)[T.3]</th>            <td>   -0.2986</td> <td>    0.123</td> <td>   -2.434</td> <td> 0.015</td> <td>   -0.539</td> <td>   -0.058</td>\n",
       "</tr>\n",
       "<tr>\n",
       "  <th>C(Roofing_material)[T.4]</th>            <td>   -0.3133</td> <td>    0.123</td> <td>   -2.544</td> <td> 0.011</td> <td>   -0.555</td> <td>   -0.072</td>\n",
       "</tr>\n",
       "<tr>\n",
       "  <th>C(Roofing_material)[T.5]</th>            <td>   -0.0818</td> <td>    0.132</td> <td>   -0.622</td> <td> 0.534</td> <td>   -0.340</td> <td>    0.176</td>\n",
       "</tr>\n",
       "<tr>\n",
       "  <th>C(Roofing_material)[T.6]</th>            <td>   -0.2266</td> <td>    0.124</td> <td>   -1.826</td> <td> 0.068</td> <td>   -0.470</td> <td>    0.017</td>\n",
       "</tr>\n",
       "<tr>\n",
       "  <th>C(Roofing_material)[T.7]</th>            <td>   -0.3507</td> <td>    0.126</td> <td>   -2.774</td> <td> 0.006</td> <td>   -0.598</td> <td>   -0.103</td>\n",
       "</tr>\n",
       "<tr>\n",
       "  <th>C(Roofing_material)[T.8]</th>            <td>   -0.2156</td> <td>    0.125</td> <td>   -1.718</td> <td> 0.086</td> <td>   -0.461</td> <td>    0.030</td>\n",
       "</tr>\n",
       "<tr>\n",
       "  <th>C(Roofing_material)[T.9]</th>            <td>   -0.2681</td> <td>    0.122</td> <td>   -2.191</td> <td> 0.028</td> <td>   -0.508</td> <td>   -0.028</td>\n",
       "</tr>\n",
       "<tr>\n",
       "  <th>C(Repair_drain_pipes)[T.2]</th>          <td>    0.0466</td> <td>    0.011</td> <td>    4.204</td> <td> 0.000</td> <td>    0.025</td> <td>    0.068</td>\n",
       "</tr>\n",
       "<tr>\n",
       "  <th>C(Pay_TV_service_availability)[T.2]</th> <td>   -0.0225</td> <td>    0.007</td> <td>   -3.164</td> <td> 0.002</td> <td>   -0.036</td> <td>   -0.009</td>\n",
       "</tr>\n",
       "<tr>\n",
       "  <th>C(Socioeconomic)[T.2]</th>               <td>   -0.0360</td> <td>    0.012</td> <td>   -3.003</td> <td> 0.003</td> <td>   -0.059</td> <td>   -0.012</td>\n",
       "</tr>\n",
       "<tr>\n",
       "  <th>C(Socioeconomic)[T.3]</th>               <td>   -0.0147</td> <td>    0.016</td> <td>   -0.932</td> <td> 0.351</td> <td>   -0.046</td> <td>    0.016</td>\n",
       "</tr>\n",
       "<tr>\n",
       "  <th>C(Socioeconomic)[T.4]</th>               <td>    0.0271</td> <td>    0.019</td> <td>    1.394</td> <td> 0.163</td> <td>   -0.011</td> <td>    0.065</td>\n",
       "</tr>\n",
       "<tr>\n",
       "  <th>C(Location_size)[T.2]</th>               <td>   -0.0426</td> <td>    0.010</td> <td>   -4.121</td> <td> 0.000</td> <td>   -0.063</td> <td>   -0.022</td>\n",
       "</tr>\n",
       "<tr>\n",
       "  <th>C(Location_size)[T.3]</th>               <td>   -0.0438</td> <td>    0.011</td> <td>   -3.963</td> <td> 0.000</td> <td>   -0.065</td> <td>   -0.022</td>\n",
       "</tr>\n",
       "<tr>\n",
       "  <th>C(Location_size)[T.4]</th>               <td>   -0.0526</td> <td>    0.012</td> <td>   -4.398</td> <td> 0.000</td> <td>   -0.076</td> <td>   -0.029</td>\n",
       "</tr>\n",
       "<tr>\n",
       "  <th>C(It_has_air_conditioning)[T.2]</th>     <td>   -0.0304</td> <td>    0.009</td> <td>   -3.279</td> <td> 0.001</td> <td>   -0.049</td> <td>   -0.012</td>\n",
       "</tr>\n",
       "<tr>\n",
       "  <th>C(Fuel_type)[T.2]</th>                   <td>   -0.1811</td> <td>    0.057</td> <td>   -3.177</td> <td> 0.001</td> <td>   -0.293</td> <td>   -0.069</td>\n",
       "</tr>\n",
       "<tr>\n",
       "  <th>C(Fuel_type)[T.3]</th>                   <td>   -0.1015</td> <td>    0.012</td> <td>   -8.322</td> <td> 0.000</td> <td>   -0.125</td> <td>   -0.078</td>\n",
       "</tr>\n",
       "<tr>\n",
       "  <th>C(Fuel_type)[T.4]</th>                   <td>   -0.0230</td> <td>    0.020</td> <td>   -1.148</td> <td> 0.251</td> <td>   -0.062</td> <td>    0.016</td>\n",
       "</tr>\n",
       "<tr>\n",
       "  <th>C(Fuel_type)[T.5]</th>                   <td>   -0.0735</td> <td>    0.038</td> <td>   -1.915</td> <td> 0.056</td> <td>   -0.149</td> <td>    0.002</td>\n",
       "</tr>\n",
       "<tr>\n",
       "  <th>C(Fuel_type)[T.6]</th>                   <td>    0.0201</td> <td>    0.052</td> <td>    0.391</td> <td> 0.696</td> <td>   -0.081</td> <td>    0.121</td>\n",
       "</tr>\n",
       "<tr>\n",
       "  <th>Age</th>                                 <td>   -0.0502</td> <td>    0.000</td> <td> -164.755</td> <td> 0.000</td> <td>   -0.051</td> <td>   -0.050</td>\n",
       "</tr>\n",
       "<tr>\n",
       "  <th>Identifier_of_the_person</th>            <td>   -0.0799</td> <td>    0.006</td> <td>  -13.763</td> <td> 0.000</td> <td>   -0.091</td> <td>   -0.068</td>\n",
       "</tr>\n",
       "<tr>\n",
       "  <th>Level_of_instruction</th>                <td>    0.2258</td> <td>    0.004</td> <td>   58.101</td> <td> 0.000</td> <td>    0.218</td> <td>    0.233</td>\n",
       "</tr>\n",
       "<tr>\n",
       "  <th>Age_of_the_home</th>                     <td>   -0.0066</td> <td>    0.004</td> <td>   -1.772</td> <td> 0.076</td> <td>   -0.014</td> <td>    0.001</td>\n",
       "</tr>\n",
       "<tr>\n",
       "  <th>Number_of_energy_saving_bulbs</th>       <td>    0.0099</td> <td>    0.004</td> <td>    2.327</td> <td> 0.020</td> <td>    0.002</td> <td>    0.018</td>\n",
       "</tr>\n",
       "<tr>\n",
       "  <th>Toilet_toilet_shower</th>                <td>   -0.0051</td> <td>    0.005</td> <td>   -1.132</td> <td> 0.258</td> <td>   -0.014</td> <td>    0.004</td>\n",
       "</tr>\n",
       "<tr>\n",
       "  <th>Bedroom_rooms</th>                       <td>    0.0761</td> <td>    0.004</td> <td>   19.138</td> <td> 0.000</td> <td>    0.068</td> <td>    0.084</td>\n",
       "</tr>\n",
       "</table>\n",
       "<table class=\"simpletable\">\n",
       "<tr>\n",
       "  <th>Omnibus:</th>       <td>55641.208</td> <th>  Durbin-Watson:     </th>  <td>   1.628</td> \n",
       "</tr>\n",
       "<tr>\n",
       "  <th>Prob(Omnibus):</th>  <td> 0.000</td>   <th>  Jarque-Bera (JB):  </th> <td>177696.846</td>\n",
       "</tr>\n",
       "<tr>\n",
       "  <th>Skew:</th>           <td>-1.364</td>   <th>  Prob(JB):          </th>  <td>    0.00</td> \n",
       "</tr>\n",
       "<tr>\n",
       "  <th>Kurtosis:</th>       <td> 6.612</td>   <th>  Cond. No.          </th>  <td>4.23e+03</td> \n",
       "</tr>\n",
       "</table><br/><br/>Notes:<br/>[1] Standard Errors assume that the covariance matrix of the errors is correctly specified.<br/>[2] The condition number is large, 4.23e+03. This might indicate that there are<br/>strong multicollinearity or other numerical problems."
      ],
      "text/plain": [
       "<class 'statsmodels.iolib.summary.Summary'>\n",
       "\"\"\"\n",
       "                            OLS Regression Results                            \n",
       "==============================================================================\n",
       "Dep. Variable:                 health   R-squared:                       0.324\n",
       "Model:                            OLS   Adj. R-squared:                  0.324\n",
       "Method:                 Least Squares   F-statistic:                     1753.\n",
       "Date:                Thu, 17 Dec 2020   Prob (F-statistic):               0.00\n",
       "Time:                        17:12:05   Log-Likelihood:            -3.8006e+05\n",
       "No. Observations:              208140   AIC:                         7.602e+05\n",
       "Df Residuals:                  208082   BIC:                         7.608e+05\n",
       "Df Model:                          57                                         \n",
       "Covariance Type:            nonrobust                                         \n",
       "=======================================================================================================\n",
       "                                          coef    std err          t      P>|t|      [0.025      0.975]\n",
       "-------------------------------------------------------------------------------------------------------\n",
       "Intercept                              17.8981      0.127    140.448      0.000      17.648      18.148\n",
       "C(School_attendance)[T.2]               0.1952      0.010     20.152      0.000       0.176       0.214\n",
       "C(Literacy)[T.2]                       -0.4790      0.015    -32.471      0.000      -0.508      -0.450\n",
       "C(Worked_last_week)[T.2]               -0.2330      0.008    -30.048      0.000      -0.248      -0.218\n",
       "C(Relationship)[T.2]                    0.1590      0.012     13.821      0.000       0.136       0.182\n",
       "C(Relationship)[T.3]                   -0.1299      0.014     -9.135      0.000      -0.158      -0.102\n",
       "C(Relationship)[T.4]                   -0.2468      0.022    -11.142      0.000      -0.290      -0.203\n",
       "C(Relationship)[T.5]                    0.2755      0.027     10.337      0.000       0.223       0.328\n",
       "C(Relationship)[T.6]                   -1.0179      0.040    -25.671      0.000      -1.096      -0.940\n",
       "C(Relationship)[T.7]                   -1.0480      0.056    -18.786      0.000      -1.157      -0.939\n",
       "C(Relationship)[T.8]                    0.0049      0.024      0.208      0.835      -0.042       0.052\n",
       "C(Relationship)[T.9]                   -0.0700      0.032     -2.158      0.031      -0.134      -0.006\n",
       "C(Cell_phone_availability)[T.2]        -0.1081      0.012     -8.751      0.000      -0.132      -0.084\n",
       "C(Computer_availability)[T.2]          -0.0333      0.009     -3.721      0.000      -0.051      -0.016\n",
       "C(Internet_availability)[T.2]          -0.0218      0.009     -2.459      0.014      -0.039      -0.004\n",
       "C(Repair_the_walls)[T.2]                0.0980      0.008     11.982      0.000       0.082       0.114\n",
       "C(Repair_the_roof)[T.2]                 0.0931      0.008     11.299      0.000       0.077       0.109\n",
       "C(Type_of_home_ownership)[T.2]         -0.0230      0.013     -1.797      0.072      -0.048       0.002\n",
       "C(Type_of_home_ownership)[T.3]          0.0283      0.014      1.982      0.047       0.000       0.056\n",
       "C(Type_of_home_ownership)[T.4]          0.0875      0.012      7.596      0.000       0.065       0.110\n",
       "C(Type_of_home_ownership)[T.5]          0.0238      0.021      1.125      0.261      -0.018       0.065\n",
       "C(Type_of_home_ownership)[T.6]          0.0723      0.030      2.401      0.016       0.013       0.131\n",
       "C(Availability_of_own_car)[T.2]        -0.0537      0.008     -6.505      0.000      -0.070      -0.038\n",
       "C(Repair_electrical_wiring)[T.2]        0.1368      0.009     14.723      0.000       0.119       0.155\n",
       "C(Garage_space)[T.2]                    0.0095      0.008      1.158      0.247      -0.007       0.026\n",
       "C(Sex)[T.2]                            -0.1485      0.007    -20.114      0.000      -0.163      -0.134\n",
       "C(Flooring_material)[T.2]              -0.0674      0.023     -2.881      0.004      -0.113      -0.022\n",
       "C(Flooring_material)[T.3]              -0.0609      0.025     -2.454      0.014      -0.110      -0.012\n",
       "C(Repair_the_water_pipes)[T.2]          0.1029      0.010     10.198      0.000       0.083       0.123\n",
       "C(Roofing_material)[T.2]               -0.1735      0.128     -1.357      0.175      -0.424       0.077\n",
       "C(Roofing_material)[T.3]               -0.2986      0.123     -2.434      0.015      -0.539      -0.058\n",
       "C(Roofing_material)[T.4]               -0.3133      0.123     -2.544      0.011      -0.555      -0.072\n",
       "C(Roofing_material)[T.5]               -0.0818      0.132     -0.622      0.534      -0.340       0.176\n",
       "C(Roofing_material)[T.6]               -0.2266      0.124     -1.826      0.068      -0.470       0.017\n",
       "C(Roofing_material)[T.7]               -0.3507      0.126     -2.774      0.006      -0.598      -0.103\n",
       "C(Roofing_material)[T.8]               -0.2156      0.125     -1.718      0.086      -0.461       0.030\n",
       "C(Roofing_material)[T.9]               -0.2681      0.122     -2.191      0.028      -0.508      -0.028\n",
       "C(Repair_drain_pipes)[T.2]              0.0466      0.011      4.204      0.000       0.025       0.068\n",
       "C(Pay_TV_service_availability)[T.2]    -0.0225      0.007     -3.164      0.002      -0.036      -0.009\n",
       "C(Socioeconomic)[T.2]                  -0.0360      0.012     -3.003      0.003      -0.059      -0.012\n",
       "C(Socioeconomic)[T.3]                  -0.0147      0.016     -0.932      0.351      -0.046       0.016\n",
       "C(Socioeconomic)[T.4]                   0.0271      0.019      1.394      0.163      -0.011       0.065\n",
       "C(Location_size)[T.2]                  -0.0426      0.010     -4.121      0.000      -0.063      -0.022\n",
       "C(Location_size)[T.3]                  -0.0438      0.011     -3.963      0.000      -0.065      -0.022\n",
       "C(Location_size)[T.4]                  -0.0526      0.012     -4.398      0.000      -0.076      -0.029\n",
       "C(It_has_air_conditioning)[T.2]        -0.0304      0.009     -3.279      0.001      -0.049      -0.012\n",
       "C(Fuel_type)[T.2]                      -0.1811      0.057     -3.177      0.001      -0.293      -0.069\n",
       "C(Fuel_type)[T.3]                      -0.1015      0.012     -8.322      0.000      -0.125      -0.078\n",
       "C(Fuel_type)[T.4]                      -0.0230      0.020     -1.148      0.251      -0.062       0.016\n",
       "C(Fuel_type)[T.5]                      -0.0735      0.038     -1.915      0.056      -0.149       0.002\n",
       "C(Fuel_type)[T.6]                       0.0201      0.052      0.391      0.696      -0.081       0.121\n",
       "Age                                    -0.0502      0.000   -164.755      0.000      -0.051      -0.050\n",
       "Identifier_of_the_person               -0.0799      0.006    -13.763      0.000      -0.091      -0.068\n",
       "Level_of_instruction                    0.2258      0.004     58.101      0.000       0.218       0.233\n",
       "Age_of_the_home                        -0.0066      0.004     -1.772      0.076      -0.014       0.001\n",
       "Number_of_energy_saving_bulbs           0.0099      0.004      2.327      0.020       0.002       0.018\n",
       "Toilet_toilet_shower                   -0.0051      0.005     -1.132      0.258      -0.014       0.004\n",
       "Bedroom_rooms                           0.0761      0.004     19.138      0.000       0.068       0.084\n",
       "==============================================================================\n",
       "Omnibus:                    55641.208   Durbin-Watson:                   1.628\n",
       "Prob(Omnibus):                  0.000   Jarque-Bera (JB):           177696.846\n",
       "Skew:                          -1.364   Prob(JB):                         0.00\n",
       "Kurtosis:                       6.612   Cond. No.                     4.23e+03\n",
       "==============================================================================\n",
       "\n",
       "Notes:\n",
       "[1] Standard Errors assume that the covariance matrix of the errors is correctly specified.\n",
       "[2] The condition number is large, 4.23e+03. This might indicate that there are\n",
       "strong multicollinearity or other numerical problems.\n",
       "\"\"\""
      ]
     },
     "execution_count": 44,
     "metadata": {},
     "output_type": "execute_result"
    }
   ],
   "source": [
    "# Fits the model (find the optimal coefficients, adding a random seed ensures consistency)\n",
    "np.random.seed(1950)\n",
    "mod= smf.ols(formula=response+model, data=data_person_all,missing='raise')\n",
    "res = mod.fit()\n",
    "res.summary()"
   ]
  },
  {
   "cell_type": "code",
   "execution_count": 45,
   "metadata": {},
   "outputs": [],
   "source": [
    "# feature names\n",
    "variables = res.params.index\n",
    "\n",
    "# quantifying uncertainty!\n",
    "\n",
    "# coefficients\n",
    "coefficients = res.params.values\n",
    "\n",
    "# p-values\n",
    "p_values = res.pvalues\n",
    "\n",
    "# standard errors\n",
    "standard_errors = res.bse.values"
   ]
  },
  {
   "cell_type": "code",
   "execution_count": 46,
   "metadata": {},
   "outputs": [],
   "source": [
    "#sort them all by coefficients\n",
    "l1, l2, l3, l4 = zip(*sorted(zip(coefficients[1:], variables[1:], standard_errors[1:], p_values[1:])))\n",
    "\n",
    "# in this case, we index starting from the first element, not to plot the intercept\n",
    "\n",
    "# we will use standard errors, instead of CIs\n",
    "# two standard errors approximate the CIs (you can actually see in the summary table that\n",
    "# +/2 SI is equivalent to the CIs)"
   ]
  },
  {
   "cell_type": "code",
   "execution_count": 47,
   "metadata": {},
   "outputs": [
    {
     "data": {
      "image/png": "[encoded data removed]",
      "text/plain": [
       "<Figure size 864x1008 with 1 Axes>"
      ]
     },
     "metadata": {
      "needs_background": "light"
     },
     "output_type": "display_data"
    }
   ],
   "source": [
    "# Plotting\n",
    "plt.figure(figsize=(12,14))\n",
    "plt.errorbar(l1, np.array(range(len(l1))), xerr= 2*np.array(l3), linewidth = 1,\n",
    "             linestyle = 'none',marker = 'o',markersize= 3,\n",
    "             markerfacecolor = 'black',markeredgecolor = 'black', capsize= 5)\n",
    "\n",
    "plt.vlines(0,0, len(l1), linestyle = '--')\n",
    "\n",
    "plt.yticks(range(len(l2)),l2);\n"
   ]
  },
  {
   "cell_type": "code",
   "execution_count": null,
   "metadata": {},
   "outputs": [],
   "source": []
  },
  {
   "cell_type": "code",
   "execution_count": null,
   "metadata": {},
   "outputs": [],
   "source": []
  }
 ],
 "metadata": {
  "kernelspec": {
   "display_name": "Python [conda env:ada]",
   "language": "python",
   "name": "conda-env-ada-py"
  },
  "language_info": {
   "codemirror_mode": {
    "name": "ipython",
    "version": 3
   },
   "file_extension": ".py",
   "mimetype": "text/x-python",
   "name": "python",
   "nbconvert_exporter": "python",
   "pygments_lexer": "ipython3",
   "version": "3.8.5"
  }
 },
 "nbformat": 4,
 "nbformat_minor": 4
}
