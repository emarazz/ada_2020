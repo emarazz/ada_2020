{
 "cells": [
  {
   "cell_type": "markdown",
   "metadata": {},
   "source": [
    "# Project milestone 4\n",
    "# Detection of housing-health relationship\n",
    "\n",
    "\n",
    "The aim of this project is to estimate the relation between housing quality and health status of a person. The project is an observational study based on a survey made by Mexican National Institute of Statistics and Geography. The health variables reported for each person will be used to define a single health variable which will be a score for each person's health status. We aim to use machine learning methods to do the classification and we will use regression models to predict this health score from the housing variables. Matching will be used to weed out the possible covariates. The motivation is to estimate the most important parameters of housing quality so that we can propose most cost-effective solutions that would increase the quality of health. The original paper is based on the analysis of influence of concrete floors on health quality, while here we would investigate some other parameters such as material used for building and whether there is a toilet or not in the household."
   ]
  },
  {
   "cell_type": "markdown",
   "metadata": {},
   "source": [
    "# Step 1: Import data"
   ]
  },
  {
   "cell_type": "code",
   "execution_count": 124,
   "metadata": {},
   "outputs": [],
   "source": [
    "import pandas as pd\n",
    "import numpy as np\n",
    "import statsmodels.formula.api as smf\n",
    "\n",
    "### Import data ###\n",
    "#data_household = pd.read_csv('data_translated/household.csv')\n",
    "data_house = pd.read_csv('data_translated/house.csv',low_memory=False)\n",
    "data_person = pd.read_csv('data_translated/person.csv',low_memory=False)"
   ]
  },
  {
   "cell_type": "code",
   "execution_count": 125,
   "metadata": {},
   "outputs": [],
   "source": [
    "#data_person_all = data_person.merge(data_house, left_on='House identifier', right_on='House identifier')\n",
    "data_person_all = data_person.merge(data_house, left_on=['House_identifier'], right_on=['House_identifier'])"
   ]
  },
  {
   "cell_type": "markdown",
   "metadata": {},
   "source": [
    "# Step 2: Exploratory Data Analysis"
   ]
  },
  {
   "cell_type": "code",
   "execution_count": 126,
   "metadata": {},
   "outputs": [
    {
     "data": {
      "text/html": [
       "<div>\n",
       "<style scoped>\n",
       "    .dataframe tbody tr th:only-of-type {\n",
       "        vertical-align: middle;\n",
       "    }\n",
       "\n",
       "    .dataframe tbody tr th {\n",
       "        vertical-align: top;\n",
       "    }\n",
       "\n",
       "    .dataframe thead th {\n",
       "        text-align: right;\n",
       "    }\n",
       "</style>\n",
       "<table border=\"1\" class=\"dataframe\">\n",
       "  <thead>\n",
       "    <tr style=\"text-align: right;\">\n",
       "      <th></th>\n",
       "      <th>Wear_glasses</th>\n",
       "      <th>Difficulty_seeing</th>\n",
       "      <th>Wear_a_hearing_aid</th>\n",
       "      <th>Difficulty_hearing</th>\n",
       "      <th>Difficulty_hearing_without_noise</th>\n",
       "      <th>Difficulty_hearing_with_noise</th>\n",
       "      <th>Dificulty_to_walk</th>\n",
       "      <th>Use_a_walking_device</th>\n",
       "      <th>Walking_apparatus</th>\n",
       "      <th>Difficulty_walking_100_m</th>\n",
       "      <th>...</th>\n",
       "      <th>Medication_for_nervousness</th>\n",
       "      <th>Intensity_of_nervousness</th>\n",
       "      <th>Frequency_of_depression</th>\n",
       "      <th>Antidepressant_medications</th>\n",
       "      <th>Intensity_of_depression</th>\n",
       "      <th>Frequency_of_pain</th>\n",
       "      <th>Pain_intensity</th>\n",
       "      <th>Fatigue_frequency</th>\n",
       "      <th>Tired_time</th>\n",
       "      <th>Limiting_physical_or_mental_activity</th>\n",
       "    </tr>\n",
       "  </thead>\n",
       "  <tbody>\n",
       "    <tr>\n",
       "      <th>count</th>\n",
       "      <td>208140</td>\n",
       "      <td>208140</td>\n",
       "      <td>208140</td>\n",
       "      <td>208140</td>\n",
       "      <td>208140</td>\n",
       "      <td>208140</td>\n",
       "      <td>208140</td>\n",
       "      <td>208140</td>\n",
       "      <td>208140</td>\n",
       "      <td>208140</td>\n",
       "      <td>...</td>\n",
       "      <td>208140</td>\n",
       "      <td>208140</td>\n",
       "      <td>208140</td>\n",
       "      <td>208140</td>\n",
       "      <td>208140</td>\n",
       "      <td>208140</td>\n",
       "      <td>208140</td>\n",
       "      <td>208140</td>\n",
       "      <td>208140</td>\n",
       "      <td>208140</td>\n",
       "    </tr>\n",
       "    <tr>\n",
       "      <th>unique</th>\n",
       "      <td>3</td>\n",
       "      <td>6</td>\n",
       "      <td>3</td>\n",
       "      <td>6</td>\n",
       "      <td>6</td>\n",
       "      <td>6</td>\n",
       "      <td>6</td>\n",
       "      <td>3</td>\n",
       "      <td>9</td>\n",
       "      <td>6</td>\n",
       "      <td>...</td>\n",
       "      <td>4</td>\n",
       "      <td>5</td>\n",
       "      <td>7</td>\n",
       "      <td>4</td>\n",
       "      <td>5</td>\n",
       "      <td>6</td>\n",
       "      <td>5</td>\n",
       "      <td>6</td>\n",
       "      <td>5</td>\n",
       "      <td>2</td>\n",
       "    </tr>\n",
       "    <tr>\n",
       "      <th>top</th>\n",
       "      <td>2</td>\n",
       "      <td>1</td>\n",
       "      <td>2</td>\n",
       "      <td>1</td>\n",
       "      <td>1</td>\n",
       "      <td>1</td>\n",
       "      <td>1</td>\n",
       "      <td>2</td>\n",
       "      <td></td>\n",
       "      <td>1</td>\n",
       "      <td>...</td>\n",
       "      <td>2</td>\n",
       "      <td></td>\n",
       "      <td>5</td>\n",
       "      <td>2</td>\n",
       "      <td></td>\n",
       "      <td>1</td>\n",
       "      <td></td>\n",
       "      <td>1</td>\n",
       "      <td></td>\n",
       "      <td></td>\n",
       "    </tr>\n",
       "    <tr>\n",
       "      <th>freq</th>\n",
       "      <td>146309</td>\n",
       "      <td>163575</td>\n",
       "      <td>197136</td>\n",
       "      <td>186322</td>\n",
       "      <td>190264</td>\n",
       "      <td>177606</td>\n",
       "      <td>175302</td>\n",
       "      <td>191991</td>\n",
       "      <td>201868</td>\n",
       "      <td>184590</td>\n",
       "      <td>...</td>\n",
       "      <td>178203</td>\n",
       "      <td>117286</td>\n",
       "      <td>126698</td>\n",
       "      <td>180272</td>\n",
       "      <td>152071</td>\n",
       "      <td>132028</td>\n",
       "      <td>157153</td>\n",
       "      <td>129517</td>\n",
       "      <td>154635</td>\n",
       "      <td>205250</td>\n",
       "    </tr>\n",
       "  </tbody>\n",
       "</table>\n",
       "<p>4 rows × 24 columns</p>\n",
       "</div>"
      ],
      "text/plain": [
       "       Wear_glasses Difficulty_seeing Wear_a_hearing_aid Difficulty_hearing  \\\n",
       "count        208140            208140             208140             208140   \n",
       "unique            3                 6                  3                  6   \n",
       "top               2                 1                  2                  1   \n",
       "freq         146309            163575             197136             186322   \n",
       "\n",
       "       Difficulty_hearing_without_noise Difficulty_hearing_with_noise  \\\n",
       "count                            208140                        208140   \n",
       "unique                                6                             6   \n",
       "top                                   1                             1   \n",
       "freq                             190264                        177606   \n",
       "\n",
       "       Dificulty_to_walk Use_a_walking_device Walking_apparatus  \\\n",
       "count             208140               208140            208140   \n",
       "unique                 6                    3                 9   \n",
       "top                    1                    2                     \n",
       "freq              175302               191991            201868   \n",
       "\n",
       "       Difficulty_walking_100_m  ... Medication_for_nervousness  \\\n",
       "count                    208140  ...                     208140   \n",
       "unique                        6  ...                          4   \n",
       "top                           1  ...                          2   \n",
       "freq                     184590  ...                     178203   \n",
       "\n",
       "       Intensity_of_nervousness Frequency_of_depression  \\\n",
       "count                    208140                  208140   \n",
       "unique                        5                       7   \n",
       "top                                                   5   \n",
       "freq                     117286                  126698   \n",
       "\n",
       "       Antidepressant_medications Intensity_of_depression Frequency_of_pain  \\\n",
       "count                      208140                  208140            208140   \n",
       "unique                          4                       5                 6   \n",
       "top                             2                                         1   \n",
       "freq                       180272                  152071            132028   \n",
       "\n",
       "       Pain_intensity Fatigue_frequency Tired_time  \\\n",
       "count          208140            208140     208140   \n",
       "unique              5                 6          5   \n",
       "top                                   1              \n",
       "freq           157153            129517     154635   \n",
       "\n",
       "       Limiting_physical_or_mental_activity  \n",
       "count                                208140  \n",
       "unique                                    2  \n",
       "top                                          \n",
       "freq                                 205250  \n",
       "\n",
       "[4 rows x 24 columns]"
      ]
     },
     "execution_count": 126,
     "metadata": {},
     "output_type": "execute_result"
    }
   ],
   "source": [
    "# our selected health variables\n",
    "health_var = list(data_person_all.columns[34:57]) + [data_person_all.columns[26]]\n",
    "data_person_all[health_var].describe()"
   ]
  },
  {
   "cell_type": "code",
   "execution_count": 127,
   "metadata": {},
   "outputs": [],
   "source": [
    "# replacing \" \" and '9' values with proper Nan\n",
    "data_person_all = data_person_all.replace(' ', np.nan)\n",
    "data_person_all = data_person_all.replace('&', np.nan)\n",
    "data_person_all = data_person_all.replace('9', np.nan)"
   ]
  },
  {
   "cell_type": "code",
   "execution_count": 128,
   "metadata": {},
   "outputs": [],
   "source": [
    "# get an idea of what kind of values are present in the daset\n",
    "#for i in range(len(data_person_all.columns)):\n",
    "    #print(data_person_all[data_person_all.columns[i]].isna().sum())\n",
    "    #print(data_person_all[data_person_all.columns[i]].value_counts())"
   ]
  },
  {
   "cell_type": "code",
   "execution_count": 129,
   "metadata": {},
   "outputs": [],
   "source": [
    "# drop columns with more than 30% of NaN values\n",
    "nulli = []\n",
    "exc = []\n",
    "thr = int(len(data_person_all)*0.3)\n",
    "for i in range(len(list(data_person_all.columns))):\n",
    "    nulli.append(data_person_all[list(data_person_all.columns)[i]].isnull().values.sum())\n",
    "    if (nulli[i] > thr):\n",
    "        exc.append(i)\n",
    "data_person_all = data_person_all.drop(columns = [list(data_person_all.columns)[i] for i in exc], axis=1)\n",
    "# drop columns considere not useful\n",
    "data_person_all = data_person_all.drop(columns = [\"Birthday\", \"Birth_month\", \"Basic_geostatistical_area\"], axis=1)"
   ]
  },
  {
   "cell_type": "code",
   "execution_count": 130,
   "metadata": {},
   "outputs": [
    {
     "data": {
      "text/plain": [
       "18"
      ]
     },
     "execution_count": 130,
     "metadata": {},
     "output_type": "execute_result"
    }
   ],
   "source": [
    "# update health variable\n",
    "health_var = [i for i in health_var if i in list(data_person_all.columns)]\n",
    "len(health_var)"
   ]
  },
  {
   "cell_type": "markdown",
   "metadata": {},
   "source": [
    "### Filter nan values"
   ]
  },
  {
   "cell_type": "code",
   "execution_count": 131,
   "metadata": {},
   "outputs": [],
   "source": [
    "# fill nan values with median should be more robust than mean\n",
    "data_person_all.fillna(data_person_all.median(),inplace = True)"
   ]
  },
  {
   "cell_type": "markdown",
   "metadata": {},
   "source": [
    "### Choose apropriate data type for variables and categorize"
   ]
  },
  {
   "cell_type": "code",
   "execution_count": 132,
   "metadata": {},
   "outputs": [],
   "source": [
    "# converting our data to integer type\n",
    "for temp in data_person_all.columns:\n",
    "    data_person_all[temp]=data_person_all[temp].astype(int)"
   ]
  },
  {
   "cell_type": "markdown",
   "metadata": {},
   "source": [
    "### Creation of health variable"
   ]
  },
  {
   "cell_type": "code",
   "execution_count": 133,
   "metadata": {},
   "outputs": [],
   "source": [
    "# from the dataset the binary column have encoding 2:True, 1:False\n",
    "# for variables with more than one outcome they are in increasing order\n",
    "weights = []\n",
    "for temp in health_var:\n",
    "    lista = []\n",
    "    dic = dict(data_person_all[temp].value_counts())\n",
    "    dic = sorted(dic.items(), reverse = True)\n",
    "    \n",
    "    som = 0\n",
    "    for tup in dic:\n",
    "        som += tup[1]\n",
    "        lista.append(som/len(data_person_all))\n",
    "    weights.append(lista)"
   ]
  },
  {
   "cell_type": "code",
   "execution_count": 134,
   "metadata": {},
   "outputs": [],
   "source": [
    "# putting the weights in the dataset\n",
    "for num,temp in enumerate(health_var):\n",
    "    if (len(dic)==2):\n",
    "        data_person_all[temp] = data_person_all[temp].replace(range(2,0,-1),weights[num])\n",
    "    else:\n",
    "        data_person_all[temp] = data_person_all[temp].replace(range(len(weights[num]),0,-1),weights[num])"
   ]
  },
  {
   "cell_type": "code",
   "execution_count": 135,
   "metadata": {},
   "outputs": [],
   "source": [
    "#creating health variable\n",
    "data_person_all[\"health\"] = data_person_all.apply(lambda x: sum([x[i] for i in health_var]), axis=1)"
   ]
  },
  {
   "cell_type": "code",
   "execution_count": 136,
   "metadata": {},
   "outputs": [
    {
     "data": {
      "text/plain": [
       "<AxesSubplot:>"
      ]
     },
     "execution_count": 136,
     "metadata": {},
     "output_type": "execute_result"
    },
    {
     "data": {
      "image/png": "[encoded data removed]",
      "text/plain": [
       "<Figure size 432x288 with 1 Axes>"
      ]
     },
     "metadata": {
      "needs_background": "light"
     },
     "output_type": "display_data"
    }
   ],
   "source": [
    "# distribution of \"health\" in the dataset\n",
    "data_person_all[\"health\"].hist()"
   ]
  },
  {
   "cell_type": "markdown",
   "metadata": {},
   "source": [
    "# Step 3: Regression"
   ]
  },
  {
   "cell_type": "markdown",
   "metadata": {},
   "source": [
    "### Fill response variables"
   ]
  },
  {
   "cell_type": "code",
   "execution_count": 137,
   "metadata": {},
   "outputs": [
    {
     "data": {
      "text/plain": [
       "count    208140.000000\n",
       "mean         16.055419\n",
       "std           1.827860\n",
       "min           6.205251\n",
       "25%          15.885111\n",
       "50%          16.972398\n",
       "75%          16.972398\n",
       "max          17.964452\n",
       "Name: health, dtype: float64"
      ]
     },
     "execution_count": 137,
     "metadata": {},
     "output_type": "execute_result"
    }
   ],
   "source": [
    "data_person_all[\"health\"].describe()"
   ]
  },
  {
   "cell_type": "code",
   "execution_count": 138,
   "metadata": {},
   "outputs": [],
   "source": [
    "# To run for all health_var or for health score\n",
    "response='health'"
   ]
  },
  {
   "cell_type": "markdown",
   "metadata": {},
   "source": [
    "### Pearson correlation"
   ]
  },
  {
   "cell_type": "code",
   "execution_count": 139,
   "metadata": {},
   "outputs": [],
   "source": [
    "health_var.append('health')\n",
    "covariates=list(data_person_all.columns)\n",
    "covariates = [x for x in covariates if not x in health_var or covariates.remove(x)]"
   ]
  },
  {
   "cell_type": "code",
   "execution_count": 140,
   "metadata": {},
   "outputs": [
    {
     "data": {
      "text/plain": [
       "Used_bedroom_kitchen                0.001203\n",
       "Expansion_factor                    0.001747\n",
       "Patio_space                         0.002833\n",
       "Build_bedroom                      -0.003083\n",
       "Total_households_in_the_dwelling    0.003631\n",
       "                                      ...   \n",
       "Worked_last_week                   -0.175280\n",
       "Literacy                           -0.200052\n",
       "School_attendance                  -0.212476\n",
       "Identifier_of_the_person            0.250431\n",
       "Age                                -0.501854\n",
       "Length: 88, dtype: float64"
      ]
     },
     "execution_count": 140,
     "metadata": {},
     "output_type": "execute_result"
    }
   ],
   "source": [
    "pearson_result=data_person_all[covariates].corrwith(data_person_all['health'], axis=0, method='pearson')\n",
    "pearson_result=pearson_result.reindex(pearson_result.abs().sort_values().index)\n",
    "pearson_result"
   ]
  },
  {
   "cell_type": "markdown",
   "metadata": {},
   "source": [
    "### Fill model with all variables"
   ]
  },
  {
   "cell_type": "code",
   "execution_count": 141,
   "metadata": {},
   "outputs": [],
   "source": [
    "# Do we filter here only important variables for example based on person correlation coef. for each response?\n",
    "\n",
    "model='~Age'\n",
    "start=data_person_all.columns.get_loc('Sex')\n",
    "end=data_person_all.columns.get_loc('Worked_last_week')\n",
    "\n",
    "for index,item in enumerate(data_person_all.columns):\n",
    "    # Fill with person (control) variables\n",
    "    if index >=start and index <=end:\n",
    "        model=model+'+'+item\n",
    "        #model=model+'+'+'C('+item+')'\n",
    "\n",
    "    # To add also House variables\n",
    "    elif index>end:\n",
    "        break"
   ]
  },
  {
   "cell_type": "code",
   "execution_count": 142,
   "metadata": {},
   "outputs": [],
   "source": [
    "formula=\"\"\n",
    "formula=response+model"
   ]
  },
  {
   "cell_type": "code",
   "execution_count": 143,
   "metadata": {},
   "outputs": [
    {
     "data": {
      "text/html": [
       "<table class=\"simpletable\">\n",
       "<caption>OLS Regression Results</caption>\n",
       "<tr>\n",
       "  <th>Dep. Variable:</th>         <td>health</td>      <th>  R-squared:         </th>  <td>   0.306</td>  \n",
       "</tr>\n",
       "<tr>\n",
       "  <th>Model:</th>                   <td>OLS</td>       <th>  Adj. R-squared:    </th>  <td>   0.306</td>  \n",
       "</tr>\n",
       "<tr>\n",
       "  <th>Method:</th>             <td>Least Squares</td>  <th>  F-statistic:       </th>  <td>   9188.</td>  \n",
       "</tr>\n",
       "<tr>\n",
       "  <th>Date:</th>             <td>Thu, 17 Dec 2020</td> <th>  Prob (F-statistic):</th>   <td>  0.00</td>   \n",
       "</tr>\n",
       "<tr>\n",
       "  <th>Time:</th>                 <td>10:21:44</td>     <th>  Log-Likelihood:    </th> <td>-3.8282e+05</td>\n",
       "</tr>\n",
       "<tr>\n",
       "  <th>No. Observations:</th>      <td>208140</td>      <th>  AIC:               </th>  <td>7.657e+05</td> \n",
       "</tr>\n",
       "<tr>\n",
       "  <th>Df Residuals:</th>          <td>208129</td>      <th>  BIC:               </th>  <td>7.658e+05</td> \n",
       "</tr>\n",
       "<tr>\n",
       "  <th>Df Model:</th>              <td>    10</td>      <th>                     </th>      <td> </td>     \n",
       "</tr>\n",
       "<tr>\n",
       "  <th>Covariance Type:</th>      <td>nonrobust</td>    <th>                     </th>      <td> </td>     \n",
       "</tr>\n",
       "</table>\n",
       "<table class=\"simpletable\">\n",
       "<tr>\n",
       "               <td></td>                 <th>coef</th>     <th>std err</th>      <th>t</th>      <th>P>|t|</th>  <th>[0.025</th>    <th>0.975]</th>  \n",
       "</tr>\n",
       "<tr>\n",
       "  <th>Intercept</th>                  <td>   17.7445</td> <td>    0.031</td> <td>  576.994</td> <td> 0.000</td> <td>   17.684</td> <td>   17.805</td>\n",
       "</tr>\n",
       "<tr>\n",
       "  <th>Age</th>                        <td>   -0.0475</td> <td>    0.000</td> <td> -220.583</td> <td> 0.000</td> <td>   -0.048</td> <td>   -0.047</td>\n",
       "</tr>\n",
       "<tr>\n",
       "  <th>Sex</th>                        <td>   -0.1129</td> <td>    0.007</td> <td>  -16.330</td> <td> 0.000</td> <td>   -0.126</td> <td>   -0.099</td>\n",
       "</tr>\n",
       "<tr>\n",
       "  <th>Relationship</th>               <td>   -0.0376</td> <td>    0.002</td> <td>  -16.142</td> <td> 0.000</td> <td>   -0.042</td> <td>   -0.033</td>\n",
       "</tr>\n",
       "<tr>\n",
       "  <th>School_attendance</th>          <td>    0.2277</td> <td>    0.009</td> <td>   24.271</td> <td> 0.000</td> <td>    0.209</td> <td>    0.246</td>\n",
       "</tr>\n",
       "<tr>\n",
       "  <th>Grade_level_of_instruction</th> <td>    0.0491</td> <td>    0.002</td> <td>   22.108</td> <td> 0.000</td> <td>    0.045</td> <td>    0.053</td>\n",
       "</tr>\n",
       "<tr>\n",
       "  <th>Level_of_instruction</th>       <td>    0.1075</td> <td>    0.001</td> <td>   84.674</td> <td> 0.000</td> <td>    0.105</td> <td>    0.110</td>\n",
       "</tr>\n",
       "<tr>\n",
       "  <th>Home</th>                       <td>   -0.0027</td> <td>    0.000</td> <td>   -7.089</td> <td> 0.000</td> <td>   -0.003</td> <td>   -0.002</td>\n",
       "</tr>\n",
       "<tr>\n",
       "  <th>Literacy</th>                   <td>   -0.4719</td> <td>    0.015</td> <td>  -30.809</td> <td> 0.000</td> <td>   -0.502</td> <td>   -0.442</td>\n",
       "</tr>\n",
       "<tr>\n",
       "  <th>Marital_status</th>             <td>   -0.0028</td> <td>    0.002</td> <td>   -1.360</td> <td> 0.174</td> <td>   -0.007</td> <td>    0.001</td>\n",
       "</tr>\n",
       "<tr>\n",
       "  <th>Worked_last_week</th>           <td>   -0.2198</td> <td>    0.008</td> <td>  -28.395</td> <td> 0.000</td> <td>   -0.235</td> <td>   -0.205</td>\n",
       "</tr>\n",
       "</table>\n",
       "<table class=\"simpletable\">\n",
       "<tr>\n",
       "  <th>Omnibus:</th>       <td>56964.720</td> <th>  Durbin-Watson:     </th>  <td>   1.621</td> \n",
       "</tr>\n",
       "<tr>\n",
       "  <th>Prob(Omnibus):</th>  <td> 0.000</td>   <th>  Jarque-Bera (JB):  </th> <td>181047.771</td>\n",
       "</tr>\n",
       "<tr>\n",
       "  <th>Skew:</th>           <td>-1.400</td>   <th>  Prob(JB):          </th>  <td>    0.00</td> \n",
       "</tr>\n",
       "<tr>\n",
       "  <th>Kurtosis:</th>       <td> 6.611</td>   <th>  Cond. No.          </th>  <td>    403.</td> \n",
       "</tr>\n",
       "</table><br/><br/>Notes:<br/>[1] Standard Errors assume that the covariance matrix of the errors is correctly specified."
      ],
      "text/plain": [
       "<class 'statsmodels.iolib.summary.Summary'>\n",
       "\"\"\"\n",
       "                            OLS Regression Results                            \n",
       "==============================================================================\n",
       "Dep. Variable:                 health   R-squared:                       0.306\n",
       "Model:                            OLS   Adj. R-squared:                  0.306\n",
       "Method:                 Least Squares   F-statistic:                     9188.\n",
       "Date:                Thu, 17 Dec 2020   Prob (F-statistic):               0.00\n",
       "Time:                        10:21:44   Log-Likelihood:            -3.8282e+05\n",
       "No. Observations:              208140   AIC:                         7.657e+05\n",
       "Df Residuals:                  208129   BIC:                         7.658e+05\n",
       "Df Model:                          10                                         \n",
       "Covariance Type:            nonrobust                                         \n",
       "==============================================================================================\n",
       "                                 coef    std err          t      P>|t|      [0.025      0.975]\n",
       "----------------------------------------------------------------------------------------------\n",
       "Intercept                     17.7445      0.031    576.994      0.000      17.684      17.805\n",
       "Age                           -0.0475      0.000   -220.583      0.000      -0.048      -0.047\n",
       "Sex                           -0.1129      0.007    -16.330      0.000      -0.126      -0.099\n",
       "Relationship                  -0.0376      0.002    -16.142      0.000      -0.042      -0.033\n",
       "School_attendance              0.2277      0.009     24.271      0.000       0.209       0.246\n",
       "Grade_level_of_instruction     0.0491      0.002     22.108      0.000       0.045       0.053\n",
       "Level_of_instruction           0.1075      0.001     84.674      0.000       0.105       0.110\n",
       "Home                          -0.0027      0.000     -7.089      0.000      -0.003      -0.002\n",
       "Literacy                      -0.4719      0.015    -30.809      0.000      -0.502      -0.442\n",
       "Marital_status                -0.0028      0.002     -1.360      0.174      -0.007       0.001\n",
       "Worked_last_week              -0.2198      0.008    -28.395      0.000      -0.235      -0.205\n",
       "==============================================================================\n",
       "Omnibus:                    56964.720   Durbin-Watson:                   1.621\n",
       "Prob(Omnibus):                  0.000   Jarque-Bera (JB):           181047.771\n",
       "Skew:                          -1.400   Prob(JB):                         0.00\n",
       "Kurtosis:                       6.611   Cond. No.                         403.\n",
       "==============================================================================\n",
       "\n",
       "Notes:\n",
       "[1] Standard Errors assume that the covariance matrix of the errors is correctly specified.\n",
       "\"\"\""
      ]
     },
     "execution_count": 143,
     "metadata": {},
     "output_type": "execute_result"
    }
   ],
   "source": [
    "# Fits the model (find the optimal coefficients, adding a random seed ensures consistency)\n",
    "np.random.seed(1950)\n",
    "mod= smf.ols(formula=response+model, data=data_person_all,missing='raise')\n",
    "res = mod.fit()\n",
    "res.summary()"
   ]
  },
  {
   "cell_type": "code",
   "execution_count": null,
   "metadata": {},
   "outputs": [],
   "source": []
  }
 ],
 "metadata": {
  "kernelspec": {
   "display_name": "Python [conda env:ada]",
   "language": "python",
   "name": "conda-env-ada-py"
  },
  "language_info": {
   "codemirror_mode": {
    "name": "ipython",
    "version": 3
   },
   "file_extension": ".py",
   "mimetype": "text/x-python",
   "name": "python",
   "nbconvert_exporter": "python",
   "pygments_lexer": "ipython3",
   "version": "3.8.5"
  }
 },
 "nbformat": 4,
 "nbformat_minor": 4
}
