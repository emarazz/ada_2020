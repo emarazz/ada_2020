{
 "cells": [
  {
   "cell_type": "markdown",
   "metadata": {},
   "source": [
    "# Project milestone 4\n",
    "# Detection of housing-health relationship\n",
    "\n",
    "\n",
    "The aim of this project is to estimate the relation between housing quality and health status of a person. The project is an observational study based on a survey made by Mexican National Institute of Statistics and Geography in 2017 ([National Household Survey 2017](https://en.www.inegi.org.mx/programas/enh/2017/#Microdata)). The health variables reported for each person will be used to define a single health variable which will be a score for each person's health status. We aim to use machine learning methods to do the classification and we will use regression models to predict this health score from the housing variables. Matching will be used to weed out the possible covariates. The motivation is to estimate the most important parameters of housing quality so that we can propose most cost-effective solutions that would increase the quality of health. The original paper is based on the analysis of influence of concrete floors on health quality, while here we would investigate some other parameters such as material used for building and whether there is a toilet or not in the household."
   ]
  },
  {
   "cell_type": "markdown",
   "metadata": {},
   "source": [
    "# Step 1: Data preprocessing"
   ]
  },
  {
   "cell_type": "code",
   "execution_count": 1,
   "metadata": {},
   "outputs": [],
   "source": [
    "import pandas as pd\n",
    "import numpy as np\n",
    "import statsmodels.formula.api as smf"
   ]
  },
  {
   "source": [
    "In this section, we load the translated headers (from spanish to english) and the datasets. We verified that the number of entries correspond to the [File Descriptor FD](https://en.www.inegi.org.mx/app/biblioteca/ficha.html?upc=702825101725) provided by INEGI. Note that we will use the word *person* instead of *member* as a translation to *persona* because we consider it is a better translation."
   ],
   "cell_type": "markdown",
   "metadata": {}
  },
  {
   "cell_type": "code",
   "execution_count": 2,
   "metadata": {},
   "outputs": [
    {
     "output_type": "stream",
     "name": "stdout",
     "text": [
      "vivienda.csv shape: (56680, 110)\nhogar.csv shape: (57519, 13)\npersona.csv shape: (208140, 58)\n"
     ]
    }
   ],
   "source": [
    "# Load the translated headers\n",
    "vivienda_header_trans = pd.read_csv('./data/translated_house.txt', squeeze=True, header =None)\n",
    "hogar_header_trans = pd.read_csv('./data/translated_household.txt', squeeze=True, header=None)\n",
    "persona_header_trans = pd.read_csv('./data/translated_person.txt', squeeze=True, header=None)\n",
    "\n",
    "# Load the datasets with the translated headers\n",
    "data_housing = pd.read_csv('./data/vivienda.csv', skiprows=1, names=vivienda_header_trans)\n",
    "data_household = pd.read_csv('./data/hogar.csv', skiprows=1, names=hogar_header_trans)\n",
    "data_person = pd.read_csv('./data/persona.csv', skiprows=1, names=persona_header_trans)\n",
    "\n",
    "print('vivienda.csv shape: {}'.format(data_housing.shape))\n",
    "print('hogar.csv shape: {}'.format(data_household.shape))\n",
    "print('persona.csv shape: {}'.format(data_person.shape))"
   ]
  },
  {
   "source": [
    "The [File Descriptor FD](https://en.www.inegi.org.mx/app/biblioteca/ficha.html?upc=702825101725) tell us that for each housing, there can be more that one households and for each household, there can be more than one person. We use these the information to merge first `data_housing` into `data_household` and then into `data_person`."
   ],
   "cell_type": "markdown",
   "metadata": {}
  },
  {
   "cell_type": "code",
   "execution_count": 3,
   "metadata": {},
   "outputs": [
    {
     "output_type": "stream",
     "name": "stdout",
     "text": [
      "data_person_all shape: (208140, 178)\n"
     ]
    },
    {
     "output_type": "execute_result",
     "data": {
      "text/plain": [
       "        housing_identifier  household_identifier  person_identifier  age  \\\n",
       "172709          2760143158                     1                  4   15   \n",
       "55616            919911009                     1                  4    9   \n",
       "76385           1261383028                     1                  6   19   \n",
       "35314            601368092                     1                  7    1   \n",
       "28622            505256058                     1                  1   51   \n",
       "177921          2804991099                     1                  3   27   \n",
       "121698          1911059342                     1                  2   38   \n",
       "191407          3009657027                     1                  1   58   \n",
       "118122          1904100099                     1                  3   19   \n",
       "117587          1903285062                     1                  1   35   \n",
       "\n",
       "       birthday birth_month  sex  relationship school_attendance school_type  \\\n",
       "172709       12           3    1             3                 1           1   \n",
       "55616        18           4    1             3                 1           1   \n",
       "76385         8          12    2             5                 2               \n",
       "35314        25          10    1             4                                 \n",
       "28622        19          02    1             1                 2               \n",
       "177921        5           9    1             3                 2               \n",
       "121698        2          11    1             3                 2               \n",
       "191407       24          05    1             1                 2               \n",
       "118122        7          11    1             3                 1           1   \n",
       "117587        9          10    1             1                 2               \n",
       "\n",
       "        ... pay_tv_service_availability availability_of_own_car  \\\n",
       "172709  ...                           2                       2   \n",
       "55616   ...                           2                       2   \n",
       "76385   ...                           1                       2   \n",
       "35314   ...                           1                       1   \n",
       "28622   ...                           1                       2   \n",
       "177921  ...                           1                       1   \n",
       "121698  ...                           1                       1   \n",
       "191407  ...                           2                       2   \n",
       "118122  ...                           2                       1   \n",
       "117587  ...                           2                       1   \n",
       "\n",
       "       total_households_in_the_dwelling geographic_location  \\\n",
       "172709                                1           270060000   \n",
       "55616                                 1            90170000   \n",
       "76385                                 1           120620000   \n",
       "35314                                 1            60090000   \n",
       "28622                                 1            50350000   \n",
       "177921                                1           280320000   \n",
       "121698                                1           190060000   \n",
       "191407                                1           301350000   \n",
       "118122                                1           190260000   \n",
       "117587                                1           190260000   \n",
       "\n",
       "       basic_geostatistical_area location_size socioeconomic  \\\n",
       "172709                     000-0             4             2   \n",
       "55616                      000-0             1             2   \n",
       "76385                      000-0             4             1   \n",
       "35314                      000-0             2             2   \n",
       "28622                      000-0             1             4   \n",
       "177921                     000-0             1             4   \n",
       "121698                     000-0             3             3   \n",
       "191407                     000-0             3             2   \n",
       "118122                     000-0             1             4   \n",
       "117587                     000-0             1             3   \n",
       "\n",
       "       sample_design_stratum primary_sampling_unit expansion_factor  \n",
       "172709                   281                  6842              366  \n",
       "55616                     80                  2542             1327  \n",
       "76385                    110                  3258              582  \n",
       "35314                     54                  1663              112  \n",
       "28622                     49                  1343              535  \n",
       "177921                   294                  7065              691  \n",
       "121698                   190                  4984              963  \n",
       "191407                   319                  7620             1676  \n",
       "118122                   196                  4793              921  \n",
       "117587                   195                  4760              754  \n",
       "\n",
       "[10 rows x 178 columns]"
      ],
      "text/html": "<div>\n<style scoped>\n    .dataframe tbody tr th:only-of-type {\n        vertical-align: middle;\n    }\n\n    .dataframe tbody tr th {\n        vertical-align: top;\n    }\n\n    .dataframe thead th {\n        text-align: right;\n    }\n</style>\n<table border=\"1\" class=\"dataframe\">\n  <thead>\n    <tr style=\"text-align: right;\">\n      <th></th>\n      <th>housing_identifier</th>\n      <th>household_identifier</th>\n      <th>person_identifier</th>\n      <th>age</th>\n      <th>birthday</th>\n      <th>birth_month</th>\n      <th>sex</th>\n      <th>relationship</th>\n      <th>school_attendance</th>\n      <th>school_type</th>\n      <th>...</th>\n      <th>pay_tv_service_availability</th>\n      <th>availability_of_own_car</th>\n      <th>total_households_in_the_dwelling</th>\n      <th>geographic_location</th>\n      <th>basic_geostatistical_area</th>\n      <th>location_size</th>\n      <th>socioeconomic</th>\n      <th>sample_design_stratum</th>\n      <th>primary_sampling_unit</th>\n      <th>expansion_factor</th>\n    </tr>\n  </thead>\n  <tbody>\n    <tr>\n      <th>172709</th>\n      <td>2760143158</td>\n      <td>1</td>\n      <td>4</td>\n      <td>15</td>\n      <td>12</td>\n      <td>3</td>\n      <td>1</td>\n      <td>3</td>\n      <td>1</td>\n      <td>1</td>\n      <td>...</td>\n      <td>2</td>\n      <td>2</td>\n      <td>1</td>\n      <td>270060000</td>\n      <td>000-0</td>\n      <td>4</td>\n      <td>2</td>\n      <td>281</td>\n      <td>6842</td>\n      <td>366</td>\n    </tr>\n    <tr>\n      <th>55616</th>\n      <td>919911009</td>\n      <td>1</td>\n      <td>4</td>\n      <td>9</td>\n      <td>18</td>\n      <td>4</td>\n      <td>1</td>\n      <td>3</td>\n      <td>1</td>\n      <td>1</td>\n      <td>...</td>\n      <td>2</td>\n      <td>2</td>\n      <td>1</td>\n      <td>90170000</td>\n      <td>000-0</td>\n      <td>1</td>\n      <td>2</td>\n      <td>80</td>\n      <td>2542</td>\n      <td>1327</td>\n    </tr>\n    <tr>\n      <th>76385</th>\n      <td>1261383028</td>\n      <td>1</td>\n      <td>6</td>\n      <td>19</td>\n      <td>8</td>\n      <td>12</td>\n      <td>2</td>\n      <td>5</td>\n      <td>2</td>\n      <td></td>\n      <td>...</td>\n      <td>1</td>\n      <td>2</td>\n      <td>1</td>\n      <td>120620000</td>\n      <td>000-0</td>\n      <td>4</td>\n      <td>1</td>\n      <td>110</td>\n      <td>3258</td>\n      <td>582</td>\n    </tr>\n    <tr>\n      <th>35314</th>\n      <td>601368092</td>\n      <td>1</td>\n      <td>7</td>\n      <td>1</td>\n      <td>25</td>\n      <td>10</td>\n      <td>1</td>\n      <td>4</td>\n      <td></td>\n      <td></td>\n      <td>...</td>\n      <td>1</td>\n      <td>1</td>\n      <td>1</td>\n      <td>60090000</td>\n      <td>000-0</td>\n      <td>2</td>\n      <td>2</td>\n      <td>54</td>\n      <td>1663</td>\n      <td>112</td>\n    </tr>\n    <tr>\n      <th>28622</th>\n      <td>505256058</td>\n      <td>1</td>\n      <td>1</td>\n      <td>51</td>\n      <td>19</td>\n      <td>02</td>\n      <td>1</td>\n      <td>1</td>\n      <td>2</td>\n      <td></td>\n      <td>...</td>\n      <td>1</td>\n      <td>2</td>\n      <td>1</td>\n      <td>50350000</td>\n      <td>000-0</td>\n      <td>1</td>\n      <td>4</td>\n      <td>49</td>\n      <td>1343</td>\n      <td>535</td>\n    </tr>\n    <tr>\n      <th>177921</th>\n      <td>2804991099</td>\n      <td>1</td>\n      <td>3</td>\n      <td>27</td>\n      <td>5</td>\n      <td>9</td>\n      <td>1</td>\n      <td>3</td>\n      <td>2</td>\n      <td></td>\n      <td>...</td>\n      <td>1</td>\n      <td>1</td>\n      <td>1</td>\n      <td>280320000</td>\n      <td>000-0</td>\n      <td>1</td>\n      <td>4</td>\n      <td>294</td>\n      <td>7065</td>\n      <td>691</td>\n    </tr>\n    <tr>\n      <th>121698</th>\n      <td>1911059342</td>\n      <td>1</td>\n      <td>2</td>\n      <td>38</td>\n      <td>2</td>\n      <td>11</td>\n      <td>1</td>\n      <td>3</td>\n      <td>2</td>\n      <td></td>\n      <td>...</td>\n      <td>1</td>\n      <td>1</td>\n      <td>1</td>\n      <td>190060000</td>\n      <td>000-0</td>\n      <td>3</td>\n      <td>3</td>\n      <td>190</td>\n      <td>4984</td>\n      <td>963</td>\n    </tr>\n    <tr>\n      <th>191407</th>\n      <td>3009657027</td>\n      <td>1</td>\n      <td>1</td>\n      <td>58</td>\n      <td>24</td>\n      <td>05</td>\n      <td>1</td>\n      <td>1</td>\n      <td>2</td>\n      <td></td>\n      <td>...</td>\n      <td>2</td>\n      <td>2</td>\n      <td>1</td>\n      <td>301350000</td>\n      <td>000-0</td>\n      <td>3</td>\n      <td>2</td>\n      <td>319</td>\n      <td>7620</td>\n      <td>1676</td>\n    </tr>\n    <tr>\n      <th>118122</th>\n      <td>1904100099</td>\n      <td>1</td>\n      <td>3</td>\n      <td>19</td>\n      <td>7</td>\n      <td>11</td>\n      <td>1</td>\n      <td>3</td>\n      <td>1</td>\n      <td>1</td>\n      <td>...</td>\n      <td>2</td>\n      <td>1</td>\n      <td>1</td>\n      <td>190260000</td>\n      <td>000-0</td>\n      <td>1</td>\n      <td>4</td>\n      <td>196</td>\n      <td>4793</td>\n      <td>921</td>\n    </tr>\n    <tr>\n      <th>117587</th>\n      <td>1903285062</td>\n      <td>1</td>\n      <td>1</td>\n      <td>35</td>\n      <td>9</td>\n      <td>10</td>\n      <td>1</td>\n      <td>1</td>\n      <td>2</td>\n      <td></td>\n      <td>...</td>\n      <td>2</td>\n      <td>1</td>\n      <td>1</td>\n      <td>190260000</td>\n      <td>000-0</td>\n      <td>1</td>\n      <td>3</td>\n      <td>195</td>\n      <td>4760</td>\n      <td>754</td>\n    </tr>\n  </tbody>\n</table>\n<p>10 rows × 178 columns</p>\n</div>"
     },
     "metadata": {},
     "execution_count": 3
    }
   ],
   "source": [
    "# Merge the data on the 'house_identifier column'\n",
    "data_household_all = data_household.merge(data_housing, on='housing_identifier')\n",
    "data_person_all = data_person.merge(data_household_all, on=['housing_identifier', 'household_identifier'])\n",
    "\n",
    "print('data_person_all shape: {}'.format(data_person_all.shape))\n",
    "data_person_all.sample(10)"
   ]
  },
  {
   "cell_type": "markdown",
   "metadata": {},
   "source": [
    "# Step 2: Exploratory Data Analysis\n",
    "## Health variables\n",
    "We chose as our health variables the following ones. We drop other health related variables because they were not correctly filled and most of the answer were empty (e.g. `['walking_apparatus', 'intensity_of_nervousness', 'intensity_of_depression', 'pain_intensity', 'intensity_of_fatigue', 'tired_time']`). However the information is still present in the chosen ones."
   ]
  },
  {
   "cell_type": "code",
   "execution_count": 4,
   "metadata": {},
   "outputs": [],
   "source": [
    "health_var = ['wear_glasses', 'difficulty_seeing', 'wear_a_hearing_aid','difficulty_hearing',\n",
    "                'difficulty_hearing_without_noise','difficulty_hearing_with_noise', 'dificulty_to_walk',\n",
    "                'use_a_walking_device', 'difficulty_walking_100_m', 'difficulty_walking_500_m',\n",
    "                'difficulty_climbing_12_steps_', 'difficulty_remembering','frequency_of_nervousness',\n",
    "                'medication_for_nervousness', 'frequency_of_depression', 'antidepressant_medications',\n",
    "                'frequency_of_pain', 'fatigue_frequency']"
   ]
  },
  {
   "source": [
    "## Cleaning and guidelines\n",
    "Besides cleaning the data (e.g. replacing empty values), we will change the labels of the variables according to the following criteria in order to ensure consistency with health and have better properties for the regression.\n",
    "* 0 - when the variable suggest a healthy person.\n",
    "* 1 or greater - when the variable suggest a health issue (in increasing order).\n",
    "* nan - when there is no answer.\n"
   ],
   "cell_type": "markdown",
   "metadata": {}
  },
  {
   "cell_type": "code",
   "execution_count": 5,
   "metadata": {},
   "outputs": [],
   "source": [
    "# Cleaning\n",
    "data_person_all = data_person_all.replace(' ', np.nan)\n",
    "data_person_all = data_person_all.replace('&', np.nan)\n",
    "data_person_all = data_person_all.replace('9', np.nan)"
   ]
  },
  {
   "source": [
    "We drop all the rows where there is not complete information of the health variables since we lost around 14% of the data but don't do any assumption."
   ],
   "cell_type": "markdown",
   "metadata": {}
  },
  {
   "cell_type": "code",
   "execution_count": 6,
   "metadata": {},
   "outputs": [
    {
     "output_type": "execute_result",
     "data": {
      "text/plain": [
       "(179072, 178)"
      ]
     },
     "metadata": {},
     "execution_count": 6
    }
   ],
   "source": [
    "# Drop nan rows for the health_var (i.e. work only with rows with complete information)\n",
    "data_person_all = data_person_all.dropna(subset=health_var)\n",
    "data_person_all.shape"
   ]
  },
  {
   "cell_type": "code",
   "execution_count": 7,
   "metadata": {},
   "outputs": [
    {
     "output_type": "execute_result",
     "data": {
      "text/plain": [
       "wear_glasses                        int64\n",
       "difficulty_seeing                   int64\n",
       "wear_a_hearing_aid                  int64\n",
       "difficulty_hearing                  int64\n",
       "difficulty_hearing_without_noise    int64\n",
       "difficulty_hearing_with_noise       int64\n",
       "dificulty_to_walk                   int64\n",
       "use_a_walking_device                int64\n",
       "difficulty_walking_100_m            int64\n",
       "difficulty_walking_500_m            int64\n",
       "difficulty_climbing_12_steps_       int64\n",
       "difficulty_remembering              int64\n",
       "frequency_of_nervousness            int64\n",
       "medication_for_nervousness          int64\n",
       "frequency_of_depression             int64\n",
       "antidepressant_medications          int64\n",
       "frequency_of_pain                   int64\n",
       "fatigue_frequency                   int64\n",
       "dtype: object"
      ]
     },
     "metadata": {},
     "execution_count": 7
    }
   ],
   "source": [
    "# Transform from strings to numbers\n",
    "data_person_all[health_var] = data_person_all[health_var].apply(pd.to_numeric)\n",
    "data_person_all[health_var].dtypes"
   ]
  },
  {
   "source": [
    "In order to flip the grading of the variables, where the lowest value reflects a health issue, we verify that each column has a maximum value corresponding to the [File Descriptor FD](https://en.www.inegi.org.mx/app/biblioteca/ficha.html?upc=702825101725). This allows us to multiply each column by -1 and substract the maximum of the column."
   ],
   "cell_type": "markdown",
   "metadata": {}
  },
  {
   "cell_type": "code",
   "execution_count": 8,
   "metadata": {},
   "outputs": [
    {
     "output_type": "display_data",
     "data": {
      "text/plain": "wear_glasses                        1\ndifficulty_seeing                   3\nwear_a_hearing_aid                  1\ndifficulty_hearing                  2\ndifficulty_hearing_without_noise    2\ndifficulty_hearing_with_noise       3\ndificulty_to_walk                   3\nuse_a_walking_device                1\ndifficulty_walking_100_m            2\ndifficulty_walking_500_m            3\ndifficulty_climbing_12_steps_       3\ndifficulty_remembering              3\nfrequency_of_nervousness            4\nmedication_for_nervousness          1\nfrequency_of_depression             4\nantidepressant_medications          1\nfrequency_of_pain                   3\nfatigue_frequency                   3\ndtype: int64"
     },
     "metadata": {}
    },
    {
     "output_type": "display_data",
     "data": {
      "text/plain": "wear_glasses                        0\ndifficulty_seeing                   0\nwear_a_hearing_aid                  0\ndifficulty_hearing                  0\ndifficulty_hearing_without_noise    0\ndifficulty_hearing_with_noise       0\ndificulty_to_walk                   0\nuse_a_walking_device                0\ndifficulty_walking_100_m            0\ndifficulty_walking_500_m            0\ndifficulty_climbing_12_steps_       0\ndifficulty_remembering              0\nfrequency_of_nervousness            0\nmedication_for_nervousness          0\nfrequency_of_depression             0\nantidepressant_medications          0\nfrequency_of_pain                   0\nfatigue_frequency                   0\ndtype: int64"
     },
     "metadata": {}
    }
   ],
   "source": [
    "# Variables where we flip the grading for consistency in the grading.\n",
    "flipped_var = ['wear_glasses', 'wear_a_hearing_aid', 'use_a_walking_device', 'frequency_of_nervousness',\n",
    "                'medication_for_nervousness', 'frequency_of_depression', 'antidepressant_medications'] \n",
    "\n",
    "# Verify that each column has the correct maximum possible value. \n",
    "data_person_all[flipped_var].max(axis=0)\n",
    "\n",
    "# Substract one from all the columns and flip the grading for the flipped var\n",
    "data_person_all[health_var] = data_person_all[health_var] - 1\n",
    "data_person_all[flipped_var] = data_person_all[flipped_var]*-1 + data_person_all[flipped_var].max(axis=0)\n",
    "\n",
    "display(data_person_all[health_var].max(axis=0))\n",
    "display(data_person_all[health_var].min(axis=0))"
   ]
  },
  {
   "cell_type": "code",
   "execution_count": 9,
   "metadata": {},
   "outputs": [
    {
     "output_type": "stream",
     "name": "stdout",
     "text": [
      "wear_glasses\t[1 0]\ndifficulty_seeing\t[0 2 1 3]\nwear_a_hearing_aid\t[0 1]\ndifficulty_hearing\t[1 0 2]\ndifficulty_hearing_without_noise\t[1 0 2]\ndifficulty_hearing_with_noise\t[1 0 2 3]\ndificulty_to_walk\t[1 0 2 3]\nuse_a_walking_device\t[1 0]\ndifficulty_walking_100_m\t[0 1 2]\ndifficulty_walking_500_m\t[0 2 3 1]\ndifficulty_climbing_12_steps_\t[2 0 1 3]\ndifficulty_remembering\t[0 2 1 3]\nfrequency_of_nervousness\t[1 4 3 0 2]\nmedication_for_nervousness\t[0 1]\nfrequency_of_depression\t[3 2 0 1 4]\nantidepressant_medications\t[0 1]\nfrequency_of_pain\t[1 0 3 2]\nfatigue_frequency\t[1 0 2 3]\n"
     ]
    }
   ],
   "source": [
    "# See all the ranges\n",
    "for var in health_var:\n",
    "    print('{}\\t{}'.format(var, data_person_all[var].unique()))"
   ]
  },
  {
   "cell_type": "code",
   "execution_count": null,
   "metadata": {},
   "outputs": [],
   "source": []
  }
 ],
 "metadata": {
  "kernelspec": {
   "name": "python3",
   "display_name": "Python 3.8.5 64-bit ('ada_2020': conda)",
   "metadata": {
    "interpreter": {
     "hash": "7adb9d10f9d5f49878fe0bff5c2eba48052a78acc8f177381507843887b6100c"
    }
   }
  },
  "language_info": {
   "codemirror_mode": {
    "name": "ipython",
    "version": 3
   },
   "file_extension": ".py",
   "mimetype": "text/x-python",
   "name": "python",
   "nbconvert_exporter": "python",
   "pygments_lexer": "ipython3",
   "version": "3.8.5-final"
  }
 },
 "nbformat": 4,
 "nbformat_minor": 4
}